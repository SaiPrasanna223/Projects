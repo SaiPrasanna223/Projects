{
  "cells": [
    {
      "cell_type": "code",
      "execution_count": null,
      "metadata": {
        "id": "GLvxkoYlLgZ4"
      },
      "outputs": [],
      "source": [
        "import pandas as pd\n",
        "import numpy as np\n",
        "import seaborn as sns \n",
        "import matplotlib.pyplot as plt\n",
        "\n",
        "from scipy import stats\n",
        "\n",
        "from sklearn.datasets import make_blobs\n",
        "from sklearn.model_selection import train_test_split\n",
        "\n",
        "from sklearn.feature_selection import RFE\n",
        "from sklearn.linear_model import LinearRegression\n",
        "import statsmodels.api as sm\n",
        "import statsmodels.formula.api as smf\n",
        "from statsmodels.stats.outliers_influence import variance_inflation_factor\n",
        "\n",
        "from sklearn.linear_model import LinearRegression\n",
        "from sklearn import metrics\n",
        "from sklearn.model_selection import train_test_split\n",
        "from sklearn.metrics import accuracy_score\n",
        "%matplotlib inline\n",
        "\n",
        "import tensorflow as tf\n",
        "     "
      ]
    },
    {
      "cell_type": "code",
      "execution_count": null,
      "metadata": {
        "id": "H0Imfh27MG4p"
      },
      "outputs": [],
      "source": [
        "data = pd.read_excel('agr.xlsx')"
      ]
    },
    {
      "cell_type": "code",
      "execution_count": null,
      "metadata": {
        "colab": {
          "base_uri": "https://localhost:8080/",
          "height": 206
        },
        "id": "o1Jhn2h6MdLB",
        "outputId": "cc612e05-752e-4840-83fb-01123762c94e"
      },
      "outputs": [
        {
          "output_type": "execute_result",
          "data": {
            "text/plain": [
              "   year state_name     dist_name   Area  Production    Yield  Crop  \\\n",
              "0  1966  telangana     Hyderabad   42.0        52.0  1238.10  rice   \n",
              "1  1966  telangana     Nizamabad  125.0       265.0  2120.00  rice   \n",
              "2  1966  telangana         Medak   97.0       138.0  1422.68  rice   \n",
              "3  1966  telangana  Mahabubnagar  107.0       127.0  1186.92  rice   \n",
              "4  1966  telangana      Nalgonda  111.0       105.0   945.95  rice   \n",
              "\n",
              "   state_code  dist_code  \n",
              "0          20         55  \n",
              "1          20         56  \n",
              "2          20         57  \n",
              "3          20         58  \n",
              "4          20         59  "
            ],
            "text/html": [
              "\n",
              "  <div id=\"df-39edab2b-123a-4c68-b73b-abe3e63938ff\">\n",
              "    <div class=\"colab-df-container\">\n",
              "      <div>\n",
              "<style scoped>\n",
              "    .dataframe tbody tr th:only-of-type {\n",
              "        vertical-align: middle;\n",
              "    }\n",
              "\n",
              "    .dataframe tbody tr th {\n",
              "        vertical-align: top;\n",
              "    }\n",
              "\n",
              "    .dataframe thead th {\n",
              "        text-align: right;\n",
              "    }\n",
              "</style>\n",
              "<table border=\"1\" class=\"dataframe\">\n",
              "  <thead>\n",
              "    <tr style=\"text-align: right;\">\n",
              "      <th></th>\n",
              "      <th>year</th>\n",
              "      <th>state_name</th>\n",
              "      <th>dist_name</th>\n",
              "      <th>Area</th>\n",
              "      <th>Production</th>\n",
              "      <th>Yield</th>\n",
              "      <th>Crop</th>\n",
              "      <th>state_code</th>\n",
              "      <th>dist_code</th>\n",
              "    </tr>\n",
              "  </thead>\n",
              "  <tbody>\n",
              "    <tr>\n",
              "      <th>0</th>\n",
              "      <td>1966</td>\n",
              "      <td>telangana</td>\n",
              "      <td>Hyderabad</td>\n",
              "      <td>42.0</td>\n",
              "      <td>52.0</td>\n",
              "      <td>1238.10</td>\n",
              "      <td>rice</td>\n",
              "      <td>20</td>\n",
              "      <td>55</td>\n",
              "    </tr>\n",
              "    <tr>\n",
              "      <th>1</th>\n",
              "      <td>1966</td>\n",
              "      <td>telangana</td>\n",
              "      <td>Nizamabad</td>\n",
              "      <td>125.0</td>\n",
              "      <td>265.0</td>\n",
              "      <td>2120.00</td>\n",
              "      <td>rice</td>\n",
              "      <td>20</td>\n",
              "      <td>56</td>\n",
              "    </tr>\n",
              "    <tr>\n",
              "      <th>2</th>\n",
              "      <td>1966</td>\n",
              "      <td>telangana</td>\n",
              "      <td>Medak</td>\n",
              "      <td>97.0</td>\n",
              "      <td>138.0</td>\n",
              "      <td>1422.68</td>\n",
              "      <td>rice</td>\n",
              "      <td>20</td>\n",
              "      <td>57</td>\n",
              "    </tr>\n",
              "    <tr>\n",
              "      <th>3</th>\n",
              "      <td>1966</td>\n",
              "      <td>telangana</td>\n",
              "      <td>Mahabubnagar</td>\n",
              "      <td>107.0</td>\n",
              "      <td>127.0</td>\n",
              "      <td>1186.92</td>\n",
              "      <td>rice</td>\n",
              "      <td>20</td>\n",
              "      <td>58</td>\n",
              "    </tr>\n",
              "    <tr>\n",
              "      <th>4</th>\n",
              "      <td>1966</td>\n",
              "      <td>telangana</td>\n",
              "      <td>Nalgonda</td>\n",
              "      <td>111.0</td>\n",
              "      <td>105.0</td>\n",
              "      <td>945.95</td>\n",
              "      <td>rice</td>\n",
              "      <td>20</td>\n",
              "      <td>59</td>\n",
              "    </tr>\n",
              "  </tbody>\n",
              "</table>\n",
              "</div>\n",
              "      <button class=\"colab-df-convert\" onclick=\"convertToInteractive('df-39edab2b-123a-4c68-b73b-abe3e63938ff')\"\n",
              "              title=\"Convert this dataframe to an interactive table.\"\n",
              "              style=\"display:none;\">\n",
              "        \n",
              "  <svg xmlns=\"http://www.w3.org/2000/svg\" height=\"24px\"viewBox=\"0 0 24 24\"\n",
              "       width=\"24px\">\n",
              "    <path d=\"M0 0h24v24H0V0z\" fill=\"none\"/>\n",
              "    <path d=\"M18.56 5.44l.94 2.06.94-2.06 2.06-.94-2.06-.94-.94-2.06-.94 2.06-2.06.94zm-11 1L8.5 8.5l.94-2.06 2.06-.94-2.06-.94L8.5 2.5l-.94 2.06-2.06.94zm10 10l.94 2.06.94-2.06 2.06-.94-2.06-.94-.94-2.06-.94 2.06-2.06.94z\"/><path d=\"M17.41 7.96l-1.37-1.37c-.4-.4-.92-.59-1.43-.59-.52 0-1.04.2-1.43.59L10.3 9.45l-7.72 7.72c-.78.78-.78 2.05 0 2.83L4 21.41c.39.39.9.59 1.41.59.51 0 1.02-.2 1.41-.59l7.78-7.78 2.81-2.81c.8-.78.8-2.07 0-2.86zM5.41 20L4 18.59l7.72-7.72 1.47 1.35L5.41 20z\"/>\n",
              "  </svg>\n",
              "      </button>\n",
              "      \n",
              "  <style>\n",
              "    .colab-df-container {\n",
              "      display:flex;\n",
              "      flex-wrap:wrap;\n",
              "      gap: 12px;\n",
              "    }\n",
              "\n",
              "    .colab-df-convert {\n",
              "      background-color: #E8F0FE;\n",
              "      border: none;\n",
              "      border-radius: 50%;\n",
              "      cursor: pointer;\n",
              "      display: none;\n",
              "      fill: #1967D2;\n",
              "      height: 32px;\n",
              "      padding: 0 0 0 0;\n",
              "      width: 32px;\n",
              "    }\n",
              "\n",
              "    .colab-df-convert:hover {\n",
              "      background-color: #E2EBFA;\n",
              "      box-shadow: 0px 1px 2px rgba(60, 64, 67, 0.3), 0px 1px 3px 1px rgba(60, 64, 67, 0.15);\n",
              "      fill: #174EA6;\n",
              "    }\n",
              "\n",
              "    [theme=dark] .colab-df-convert {\n",
              "      background-color: #3B4455;\n",
              "      fill: #D2E3FC;\n",
              "    }\n",
              "\n",
              "    [theme=dark] .colab-df-convert:hover {\n",
              "      background-color: #434B5C;\n",
              "      box-shadow: 0px 1px 3px 1px rgba(0, 0, 0, 0.15);\n",
              "      filter: drop-shadow(0px 1px 2px rgba(0, 0, 0, 0.3));\n",
              "      fill: #FFFFFF;\n",
              "    }\n",
              "  </style>\n",
              "\n",
              "      <script>\n",
              "        const buttonEl =\n",
              "          document.querySelector('#df-39edab2b-123a-4c68-b73b-abe3e63938ff button.colab-df-convert');\n",
              "        buttonEl.style.display =\n",
              "          google.colab.kernel.accessAllowed ? 'block' : 'none';\n",
              "\n",
              "        async function convertToInteractive(key) {\n",
              "          const element = document.querySelector('#df-39edab2b-123a-4c68-b73b-abe3e63938ff');\n",
              "          const dataTable =\n",
              "            await google.colab.kernel.invokeFunction('convertToInteractive',\n",
              "                                                     [key], {});\n",
              "          if (!dataTable) return;\n",
              "\n",
              "          const docLinkHtml = 'Like what you see? Visit the ' +\n",
              "            '<a target=\"_blank\" href=https://colab.research.google.com/notebooks/data_table.ipynb>data table notebook</a>'\n",
              "            + ' to learn more about interactive tables.';\n",
              "          element.innerHTML = '';\n",
              "          dataTable['output_type'] = 'display_data';\n",
              "          await google.colab.output.renderOutput(dataTable, element);\n",
              "          const docLink = document.createElement('div');\n",
              "          docLink.innerHTML = docLinkHtml;\n",
              "          element.appendChild(docLink);\n",
              "        }\n",
              "      </script>\n",
              "    </div>\n",
              "  </div>\n",
              "  "
            ]
          },
          "metadata": {},
          "execution_count": 3
        }
      ],
      "source": [
        "data.head()"
      ]
    },
    {
      "cell_type": "code",
      "execution_count": null,
      "metadata": {
        "colab": {
          "base_uri": "https://localhost:8080/"
        },
        "id": "pGbClfa1v8DZ",
        "outputId": "486f1d4e-c174-4299-ae93-5b36ac48bdab"
      },
      "outputs": [
        {
          "output_type": "execute_result",
          "data": {
            "text/plain": [
              "<bound method NDFrame._add_numeric_operations.<locals>.mean of       year state_name     dist_name    Area  Production    Yield       Crop  \\\n",
              "0     1966  telangana     Hyderabad   42.00       52.00  1238.10       rice   \n",
              "1     1966  telangana     Nizamabad  125.00      265.00  2120.00       rice   \n",
              "2     1966  telangana         Medak   97.00      138.00  1422.68       rice   \n",
              "3     1966  telangana  Mahabubnagar  107.00      127.00  1186.92       rice   \n",
              "4     1966  telangana      Nalgonda  111.00      105.00   945.95       rice   \n",
              "...    ...        ...           ...     ...         ...      ...        ...   \n",
              "2335  2017  telangana      Nalgonda   12.79       24.70  1931.66  groundnut   \n",
              "2336  2017  telangana      Warangal   17.92       40.96  2285.58  groundnut   \n",
              "2337  2017  telangana       Khammam    4.76        9.75  2046.68  groundnut   \n",
              "2338  2017  telangana    Karimnagar    3.23        5.20  1612.06  groundnut   \n",
              "2339  2017  telangana      Adilabad    1.46        3.26  2236.26  groundnut   \n",
              "\n",
              "      state_code  dist_code  \n",
              "0             20         55  \n",
              "1             20         56  \n",
              "2             20         57  \n",
              "3             20         58  \n",
              "4             20         59  \n",
              "...          ...        ...  \n",
              "2335          20         59  \n",
              "2336          20         60  \n",
              "2337          20         61  \n",
              "2338          20         62  \n",
              "2339          20         63  \n",
              "\n",
              "[2340 rows x 9 columns]>"
            ]
          },
          "metadata": {},
          "execution_count": 4
        }
      ],
      "source": [
        "data.mean"
      ]
    },
    {
      "cell_type": "code",
      "execution_count": null,
      "metadata": {
        "colab": {
          "base_uri": "https://localhost:8080/",
          "height": 300
        },
        "id": "PCPSfxnL3ovN",
        "outputId": "ccc674af-0d34-46bb-c549-52ba02c9cd8a"
      },
      "outputs": [
        {
          "output_type": "execute_result",
          "data": {
            "text/plain": [
              "              year         Area   Production        Yield  state_code  \\\n",
              "count  2340.000000  2340.000000  2340.000000  2340.000000      2340.0   \n",
              "mean   1991.500000    71.782692   109.714581  1335.055338        20.0   \n",
              "std      15.011539    70.053395   181.199587  1084.404146         0.0   \n",
              "min    1966.000000     0.000000     0.000000     0.000000        20.0   \n",
              "25%    1978.750000    20.480000    10.897500   532.605000        20.0   \n",
              "50%    1991.500000    50.850000    37.750000   980.290000        20.0   \n",
              "75%    2004.250000   103.700000   121.100000  1907.852500        20.0   \n",
              "max    2017.000000   417.910000  1500.840000  7486.250000        20.0   \n",
              "\n",
              "         dist_code  \n",
              "count  2340.000000  \n",
              "mean     59.000000  \n",
              "std       2.582541  \n",
              "min      55.000000  \n",
              "25%      57.000000  \n",
              "50%      59.000000  \n",
              "75%      61.000000  \n",
              "max      63.000000  "
            ],
            "text/html": [
              "\n",
              "  <div id=\"df-b987c5cc-1371-498d-b83a-ea9cd3e73821\">\n",
              "    <div class=\"colab-df-container\">\n",
              "      <div>\n",
              "<style scoped>\n",
              "    .dataframe tbody tr th:only-of-type {\n",
              "        vertical-align: middle;\n",
              "    }\n",
              "\n",
              "    .dataframe tbody tr th {\n",
              "        vertical-align: top;\n",
              "    }\n",
              "\n",
              "    .dataframe thead th {\n",
              "        text-align: right;\n",
              "    }\n",
              "</style>\n",
              "<table border=\"1\" class=\"dataframe\">\n",
              "  <thead>\n",
              "    <tr style=\"text-align: right;\">\n",
              "      <th></th>\n",
              "      <th>year</th>\n",
              "      <th>Area</th>\n",
              "      <th>Production</th>\n",
              "      <th>Yield</th>\n",
              "      <th>state_code</th>\n",
              "      <th>dist_code</th>\n",
              "    </tr>\n",
              "  </thead>\n",
              "  <tbody>\n",
              "    <tr>\n",
              "      <th>count</th>\n",
              "      <td>2340.000000</td>\n",
              "      <td>2340.000000</td>\n",
              "      <td>2340.000000</td>\n",
              "      <td>2340.000000</td>\n",
              "      <td>2340.0</td>\n",
              "      <td>2340.000000</td>\n",
              "    </tr>\n",
              "    <tr>\n",
              "      <th>mean</th>\n",
              "      <td>1991.500000</td>\n",
              "      <td>71.782692</td>\n",
              "      <td>109.714581</td>\n",
              "      <td>1335.055338</td>\n",
              "      <td>20.0</td>\n",
              "      <td>59.000000</td>\n",
              "    </tr>\n",
              "    <tr>\n",
              "      <th>std</th>\n",
              "      <td>15.011539</td>\n",
              "      <td>70.053395</td>\n",
              "      <td>181.199587</td>\n",
              "      <td>1084.404146</td>\n",
              "      <td>0.0</td>\n",
              "      <td>2.582541</td>\n",
              "    </tr>\n",
              "    <tr>\n",
              "      <th>min</th>\n",
              "      <td>1966.000000</td>\n",
              "      <td>0.000000</td>\n",
              "      <td>0.000000</td>\n",
              "      <td>0.000000</td>\n",
              "      <td>20.0</td>\n",
              "      <td>55.000000</td>\n",
              "    </tr>\n",
              "    <tr>\n",
              "      <th>25%</th>\n",
              "      <td>1978.750000</td>\n",
              "      <td>20.480000</td>\n",
              "      <td>10.897500</td>\n",
              "      <td>532.605000</td>\n",
              "      <td>20.0</td>\n",
              "      <td>57.000000</td>\n",
              "    </tr>\n",
              "    <tr>\n",
              "      <th>50%</th>\n",
              "      <td>1991.500000</td>\n",
              "      <td>50.850000</td>\n",
              "      <td>37.750000</td>\n",
              "      <td>980.290000</td>\n",
              "      <td>20.0</td>\n",
              "      <td>59.000000</td>\n",
              "    </tr>\n",
              "    <tr>\n",
              "      <th>75%</th>\n",
              "      <td>2004.250000</td>\n",
              "      <td>103.700000</td>\n",
              "      <td>121.100000</td>\n",
              "      <td>1907.852500</td>\n",
              "      <td>20.0</td>\n",
              "      <td>61.000000</td>\n",
              "    </tr>\n",
              "    <tr>\n",
              "      <th>max</th>\n",
              "      <td>2017.000000</td>\n",
              "      <td>417.910000</td>\n",
              "      <td>1500.840000</td>\n",
              "      <td>7486.250000</td>\n",
              "      <td>20.0</td>\n",
              "      <td>63.000000</td>\n",
              "    </tr>\n",
              "  </tbody>\n",
              "</table>\n",
              "</div>\n",
              "      <button class=\"colab-df-convert\" onclick=\"convertToInteractive('df-b987c5cc-1371-498d-b83a-ea9cd3e73821')\"\n",
              "              title=\"Convert this dataframe to an interactive table.\"\n",
              "              style=\"display:none;\">\n",
              "        \n",
              "  <svg xmlns=\"http://www.w3.org/2000/svg\" height=\"24px\"viewBox=\"0 0 24 24\"\n",
              "       width=\"24px\">\n",
              "    <path d=\"M0 0h24v24H0V0z\" fill=\"none\"/>\n",
              "    <path d=\"M18.56 5.44l.94 2.06.94-2.06 2.06-.94-2.06-.94-.94-2.06-.94 2.06-2.06.94zm-11 1L8.5 8.5l.94-2.06 2.06-.94-2.06-.94L8.5 2.5l-.94 2.06-2.06.94zm10 10l.94 2.06.94-2.06 2.06-.94-2.06-.94-.94-2.06-.94 2.06-2.06.94z\"/><path d=\"M17.41 7.96l-1.37-1.37c-.4-.4-.92-.59-1.43-.59-.52 0-1.04.2-1.43.59L10.3 9.45l-7.72 7.72c-.78.78-.78 2.05 0 2.83L4 21.41c.39.39.9.59 1.41.59.51 0 1.02-.2 1.41-.59l7.78-7.78 2.81-2.81c.8-.78.8-2.07 0-2.86zM5.41 20L4 18.59l7.72-7.72 1.47 1.35L5.41 20z\"/>\n",
              "  </svg>\n",
              "      </button>\n",
              "      \n",
              "  <style>\n",
              "    .colab-df-container {\n",
              "      display:flex;\n",
              "      flex-wrap:wrap;\n",
              "      gap: 12px;\n",
              "    }\n",
              "\n",
              "    .colab-df-convert {\n",
              "      background-color: #E8F0FE;\n",
              "      border: none;\n",
              "      border-radius: 50%;\n",
              "      cursor: pointer;\n",
              "      display: none;\n",
              "      fill: #1967D2;\n",
              "      height: 32px;\n",
              "      padding: 0 0 0 0;\n",
              "      width: 32px;\n",
              "    }\n",
              "\n",
              "    .colab-df-convert:hover {\n",
              "      background-color: #E2EBFA;\n",
              "      box-shadow: 0px 1px 2px rgba(60, 64, 67, 0.3), 0px 1px 3px 1px rgba(60, 64, 67, 0.15);\n",
              "      fill: #174EA6;\n",
              "    }\n",
              "\n",
              "    [theme=dark] .colab-df-convert {\n",
              "      background-color: #3B4455;\n",
              "      fill: #D2E3FC;\n",
              "    }\n",
              "\n",
              "    [theme=dark] .colab-df-convert:hover {\n",
              "      background-color: #434B5C;\n",
              "      box-shadow: 0px 1px 3px 1px rgba(0, 0, 0, 0.15);\n",
              "      filter: drop-shadow(0px 1px 2px rgba(0, 0, 0, 0.3));\n",
              "      fill: #FFFFFF;\n",
              "    }\n",
              "  </style>\n",
              "\n",
              "      <script>\n",
              "        const buttonEl =\n",
              "          document.querySelector('#df-b987c5cc-1371-498d-b83a-ea9cd3e73821 button.colab-df-convert');\n",
              "        buttonEl.style.display =\n",
              "          google.colab.kernel.accessAllowed ? 'block' : 'none';\n",
              "\n",
              "        async function convertToInteractive(key) {\n",
              "          const element = document.querySelector('#df-b987c5cc-1371-498d-b83a-ea9cd3e73821');\n",
              "          const dataTable =\n",
              "            await google.colab.kernel.invokeFunction('convertToInteractive',\n",
              "                                                     [key], {});\n",
              "          if (!dataTable) return;\n",
              "\n",
              "          const docLinkHtml = 'Like what you see? Visit the ' +\n",
              "            '<a target=\"_blank\" href=https://colab.research.google.com/notebooks/data_table.ipynb>data table notebook</a>'\n",
              "            + ' to learn more about interactive tables.';\n",
              "          element.innerHTML = '';\n",
              "          dataTable['output_type'] = 'display_data';\n",
              "          await google.colab.output.renderOutput(dataTable, element);\n",
              "          const docLink = document.createElement('div');\n",
              "          docLink.innerHTML = docLinkHtml;\n",
              "          element.appendChild(docLink);\n",
              "        }\n",
              "      </script>\n",
              "    </div>\n",
              "  </div>\n",
              "  "
            ]
          },
          "metadata": {},
          "execution_count": 5
        }
      ],
      "source": [
        "data.describe()"
      ]
    },
    {
      "cell_type": "code",
      "execution_count": null,
      "metadata": {
        "colab": {
          "base_uri": "https://localhost:8080/"
        },
        "id": "g9kdIQQKN1Ec",
        "outputId": "f20239cf-1be6-40bc-c668-f4865a068e49"
      },
      "outputs": [
        {
          "output_type": "stream",
          "name": "stdout",
          "text": [
            "<class 'pandas.core.frame.DataFrame'>\n",
            "RangeIndex: 2340 entries, 0 to 2339\n",
            "Data columns (total 9 columns):\n",
            " #   Column      Non-Null Count  Dtype  \n",
            "---  ------      --------------  -----  \n",
            " 0   year        2340 non-null   int64  \n",
            " 1   state_name  2340 non-null   object \n",
            " 2   dist_name   2340 non-null   object \n",
            " 3   Area        2340 non-null   float64\n",
            " 4   Production  2340 non-null   float64\n",
            " 5   Yield       2340 non-null   float64\n",
            " 6   Crop        2340 non-null   object \n",
            " 7   state_code  2340 non-null   int64  \n",
            " 8   dist_code   2340 non-null   int64  \n",
            "dtypes: float64(3), int64(3), object(3)\n",
            "memory usage: 164.7+ KB\n"
          ]
        }
      ],
      "source": [
        "data.info()"
      ]
    },
    {
      "cell_type": "code",
      "execution_count": null,
      "metadata": {
        "colab": {
          "base_uri": "https://localhost:8080/"
        },
        "id": "990xLndxOGlD",
        "outputId": "597beb85-5e6b-4dd1-9d13-caf5c432ec3d"
      },
      "outputs": [
        {
          "output_type": "execute_result",
          "data": {
            "text/plain": [
              "year          0\n",
              "state_name    0\n",
              "dist_name     0\n",
              "Area          0\n",
              "Production    0\n",
              "Yield         0\n",
              "Crop          0\n",
              "state_code    0\n",
              "dist_code     0\n",
              "dtype: int64"
            ]
          },
          "metadata": {},
          "execution_count": 7
        }
      ],
      "source": [
        "\n",
        "data.isnull().sum()"
      ]
    },
    {
      "cell_type": "code",
      "execution_count": null,
      "metadata": {
        "colab": {
          "base_uri": "https://localhost:8080/"
        },
        "id": "4k4ZsGcNOIaG",
        "outputId": "798d40c1-0daf-44e3-b331-e3ea12fa78d1"
      },
      "outputs": [
        {
          "output_type": "execute_result",
          "data": {
            "text/plain": [
              "(2340, 9)"
            ]
          },
          "metadata": {},
          "execution_count": 8
        }
      ],
      "source": [
        "data.shape"
      ]
    },
    {
      "cell_type": "code",
      "execution_count": null,
      "metadata": {
        "colab": {
          "base_uri": "https://localhost:8080/"
        },
        "id": "g6hiEaRbOWh8",
        "outputId": "0c21279c-865e-47da-f112-b033636cbff5"
      },
      "outputs": [
        {
          "output_type": "execute_result",
          "data": {
            "text/plain": [
              "year            52\n",
              "state_name       1\n",
              "dist_name        9\n",
              "Area          1783\n",
              "Production    1771\n",
              "Yield         2177\n",
              "Crop             5\n",
              "state_code       1\n",
              "dist_code        9\n",
              "dtype: int64"
            ]
          },
          "metadata": {},
          "execution_count": 9
        }
      ],
      "source": [
        "\n",
        "data.nunique()\n"
      ]
    },
    {
      "cell_type": "code",
      "execution_count": null,
      "metadata": {
        "colab": {
          "base_uri": "https://localhost:8080/"
        },
        "id": "sMGjLfuVQAYJ",
        "outputId": "42870ab2-9efd-4377-9e28-4f7fe3b1559d"
      },
      "outputs": [
        {
          "output_type": "execute_result",
          "data": {
            "text/plain": [
              "array(['Hyderabad', 'Nizamabad', 'Medak', 'Mahabubnagar', 'Nalgonda',\n",
              "       'Warangal', 'Khammam', 'Karimnagar', 'Adilabad'], dtype=object)"
            ]
          },
          "metadata": {},
          "execution_count": 10
        }
      ],
      "source": [
        "\n",
        "data['dist_name'].unique()"
      ]
    },
    {
      "cell_type": "code",
      "execution_count": null,
      "metadata": {
        "colab": {
          "base_uri": "https://localhost:8080/"
        },
        "id": "nmm0HnqqQPDt",
        "outputId": "b0d0b9e0-7cc5-47d1-ea17-2eb54046e3c4"
      },
      "outputs": [
        {
          "output_type": "execute_result",
          "data": {
            "text/plain": [
              "year            int64\n",
              "state_name     object\n",
              "dist_name      object\n",
              "Area          float64\n",
              "Production    float64\n",
              "Yield         float64\n",
              "Crop           object\n",
              "state_code      int64\n",
              "dist_code       int64\n",
              "dtype: object"
            ]
          },
          "metadata": {},
          "execution_count": 11
        }
      ],
      "source": [
        "data.dtypes"
      ]
    },
    {
      "cell_type": "code",
      "execution_count": null,
      "metadata": {
        "colab": {
          "base_uri": "https://localhost:8080/"
        },
        "id": "ii8dDAgD7hU7",
        "outputId": "8e4973c9-40b5-42aa-b533-1da2309fc267"
      },
      "outputs": [
        {
          "output_type": "execute_result",
          "data": {
            "text/plain": [
              "Index(['year', 'state_name', 'dist_name', 'Area', 'Production', 'Yield',\n",
              "       'Crop', 'state_code', 'dist_code'],\n",
              "      dtype='object')"
            ]
          },
          "metadata": {},
          "execution_count": 12
        }
      ],
      "source": [
        "data.columns"
      ]
    },
    {
      "cell_type": "code",
      "execution_count": null,
      "metadata": {
        "id": "aRr0Su74QUGg"
      },
      "outputs": [],
      "source": [
        "numeric = ['year', 'Area', 'Production','Yield']"
      ]
    },
    {
      "cell_type": "code",
      "execution_count": null,
      "metadata": {
        "colab": {
          "base_uri": "https://localhost:8080/",
          "height": 523
        },
        "id": "A2_TFsDWQlRt",
        "outputId": "84ec305f-d763-46d5-9235-1ef87a974d18"
      },
      "outputs": [
        {
          "output_type": "display_data",
          "data": {
            "text/plain": [
              "<Figure size 2500x1000 with 4 Axes>"
            ],
            "image/png": "[encoded data removed]"
          },
          "metadata": {}
        }
      ],
      "source": [
        "\n",
        "plt.figure(figsize=(25, 10))\n",
        "\n",
        "j = 1\n",
        "for i in data[numeric].columns:\n",
        "    plt.subplot(2, 3, j)\n",
        "    sns.set_style('whitegrid')\n",
        "    sns.boxplot(data[i],palette = 'Set3')\n",
        "    plt.xlabel('{}'.format(i), fontsize=13)\n",
        "    plt.tight_layout()\n",
        "    j += 1"
      ]
    },
    {
      "cell_type": "code",
      "execution_count": null,
      "metadata": {
        "id": "aORG5PJaRzZb"
      },
      "outputs": [],
      "source": [
        "numeric1 = ['Area','Production','Yield']"
      ]
    },
    {
      "cell_type": "code",
      "execution_count": null,
      "metadata": {
        "colab": {
          "base_uri": "https://localhost:8080/",
          "height": 284
        },
        "id": "W3aMTEOHSnJU",
        "outputId": "e75932fe-5819-4075-e561-56fa81e80787"
      },
      "outputs": [
        {
          "output_type": "display_data",
          "data": {
            "text/plain": [
              "<Figure size 2500x1000 with 3 Axes>"
            ],
            "image/png": "[encoded data removed]"
          },
          "metadata": {}
        }
      ],
      "source": [
        "\n",
        "plt.figure(figsize=(25, 10))\n",
        "\n",
        "j = 1\n",
        "for i in data[numeric1].columns:\n",
        "    plt.subplot(2, 3, j)\n",
        "    sns.set_style('whitegrid')\n",
        "    sns.boxplot(data[i],palette = 'Set3')\n",
        "    plt.xlabel('{}'.format(i), fontsize=13)\n",
        "    plt.tight_layout()\n",
        "    j += 1"
      ]
    },
    {
      "cell_type": "code",
      "execution_count": null,
      "metadata": {
        "id": "3OWqUNS9Tjp3"
      },
      "outputs": [],
      "source": [
        "cols = [ 'Area','Production','Yield']\n",
        "\n",
        "for col in cols:\n",
        "    q1 = data[col].quantile(0.75)\n",
        "    q2 = data[col].quantile(0.25)\n",
        "    iqr = q1 - q2\n",
        "    upper_limit = q1 + 1.5 * iqr\n",
        "    lower_limit = q2 - 1.5 * iqr\n",
        "    data = data[(data[col] > lower_limit) & (data[col] < upper_limit)]"
      ]
    },
    {
      "cell_type": "code",
      "execution_count": null,
      "metadata": {
        "colab": {
          "base_uri": "https://localhost:8080/",
          "height": 423
        },
        "id": "AeMYehu8-IVQ",
        "outputId": "535261d3-83ef-4d1e-a028-36baae800a85"
      },
      "outputs": [
        {
          "output_type": "execute_result",
          "data": {
            "text/plain": [
              "      year state_name     dist_name    Area  Production    Yield       Crop  \\\n",
              "0     1966  telangana     Hyderabad   42.00       52.00  1238.10       rice   \n",
              "2     1966  telangana         Medak   97.00      138.00  1422.68       rice   \n",
              "3     1966  telangana  Mahabubnagar  107.00      127.00  1186.92       rice   \n",
              "4     1966  telangana      Nalgonda  111.00      105.00   945.95       rice   \n",
              "5     1966  telangana      Warangal  137.00      159.00  1160.58       rice   \n",
              "...    ...        ...           ...     ...         ...      ...        ...   \n",
              "2335  2017  telangana      Nalgonda   12.79       24.70  1931.66  groundnut   \n",
              "2336  2017  telangana      Warangal   17.92       40.96  2285.58  groundnut   \n",
              "2337  2017  telangana       Khammam    4.76        9.75  2046.68  groundnut   \n",
              "2338  2017  telangana    Karimnagar    3.23        5.20  1612.06  groundnut   \n",
              "2339  2017  telangana      Adilabad    1.46        3.26  2236.26  groundnut   \n",
              "\n",
              "      state_code  dist_code  \n",
              "0             20         55  \n",
              "2             20         57  \n",
              "3             20         58  \n",
              "4             20         59  \n",
              "5             20         60  \n",
              "...          ...        ...  \n",
              "2335          20         59  \n",
              "2336          20         60  \n",
              "2337          20         61  \n",
              "2338          20         62  \n",
              "2339          20         63  \n",
              "\n",
              "[1922 rows x 9 columns]"
            ],
            "text/html": [
              "\n",
              "  <div id=\"df-da16d47c-2bcf-4ea0-bed6-051635f9f304\">\n",
              "    <div class=\"colab-df-container\">\n",
              "      <div>\n",
              "<style scoped>\n",
              "    .dataframe tbody tr th:only-of-type {\n",
              "        vertical-align: middle;\n",
              "    }\n",
              "\n",
              "    .dataframe tbody tr th {\n",
              "        vertical-align: top;\n",
              "    }\n",
              "\n",
              "    .dataframe thead th {\n",
              "        text-align: right;\n",
              "    }\n",
              "</style>\n",
              "<table border=\"1\" class=\"dataframe\">\n",
              "  <thead>\n",
              "    <tr style=\"text-align: right;\">\n",
              "      <th></th>\n",
              "      <th>year</th>\n",
              "      <th>state_name</th>\n",
              "      <th>dist_name</th>\n",
              "      <th>Area</th>\n",
              "      <th>Production</th>\n",
              "      <th>Yield</th>\n",
              "      <th>Crop</th>\n",
              "      <th>state_code</th>\n",
              "      <th>dist_code</th>\n",
              "    </tr>\n",
              "  </thead>\n",
              "  <tbody>\n",
              "    <tr>\n",
              "      <th>0</th>\n",
              "      <td>1966</td>\n",
              "      <td>telangana</td>\n",
              "      <td>Hyderabad</td>\n",
              "      <td>42.00</td>\n",
              "      <td>52.00</td>\n",
              "      <td>1238.10</td>\n",
              "      <td>rice</td>\n",
              "      <td>20</td>\n",
              "      <td>55</td>\n",
              "    </tr>\n",
              "    <tr>\n",
              "      <th>2</th>\n",
              "      <td>1966</td>\n",
              "      <td>telangana</td>\n",
              "      <td>Medak</td>\n",
              "      <td>97.00</td>\n",
              "      <td>138.00</td>\n",
              "      <td>1422.68</td>\n",
              "      <td>rice</td>\n",
              "      <td>20</td>\n",
              "      <td>57</td>\n",
              "    </tr>\n",
              "    <tr>\n",
              "      <th>3</th>\n",
              "      <td>1966</td>\n",
              "      <td>telangana</td>\n",
              "      <td>Mahabubnagar</td>\n",
              "      <td>107.00</td>\n",
              "      <td>127.00</td>\n",
              "      <td>1186.92</td>\n",
              "      <td>rice</td>\n",
              "      <td>20</td>\n",
              "      <td>58</td>\n",
              "    </tr>\n",
              "    <tr>\n",
              "      <th>4</th>\n",
              "      <td>1966</td>\n",
              "      <td>telangana</td>\n",
              "      <td>Nalgonda</td>\n",
              "      <td>111.00</td>\n",
              "      <td>105.00</td>\n",
              "      <td>945.95</td>\n",
              "      <td>rice</td>\n",
              "      <td>20</td>\n",
              "      <td>59</td>\n",
              "    </tr>\n",
              "    <tr>\n",
              "      <th>5</th>\n",
              "      <td>1966</td>\n",
              "      <td>telangana</td>\n",
              "      <td>Warangal</td>\n",
              "      <td>137.00</td>\n",
              "      <td>159.00</td>\n",
              "      <td>1160.58</td>\n",
              "      <td>rice</td>\n",
              "      <td>20</td>\n",
              "      <td>60</td>\n",
              "    </tr>\n",
              "    <tr>\n",
              "      <th>...</th>\n",
              "      <td>...</td>\n",
              "      <td>...</td>\n",
              "      <td>...</td>\n",
              "      <td>...</td>\n",
              "      <td>...</td>\n",
              "      <td>...</td>\n",
              "      <td>...</td>\n",
              "      <td>...</td>\n",
              "      <td>...</td>\n",
              "    </tr>\n",
              "    <tr>\n",
              "      <th>2335</th>\n",
              "      <td>2017</td>\n",
              "      <td>telangana</td>\n",
              "      <td>Nalgonda</td>\n",
              "      <td>12.79</td>\n",
              "      <td>24.70</td>\n",
              "      <td>1931.66</td>\n",
              "      <td>groundnut</td>\n",
              "      <td>20</td>\n",
              "      <td>59</td>\n",
              "    </tr>\n",
              "    <tr>\n",
              "      <th>2336</th>\n",
              "      <td>2017</td>\n",
              "      <td>telangana</td>\n",
              "      <td>Warangal</td>\n",
              "      <td>17.92</td>\n",
              "      <td>40.96</td>\n",
              "      <td>2285.58</td>\n",
              "      <td>groundnut</td>\n",
              "      <td>20</td>\n",
              "      <td>60</td>\n",
              "    </tr>\n",
              "    <tr>\n",
              "      <th>2337</th>\n",
              "      <td>2017</td>\n",
              "      <td>telangana</td>\n",
              "      <td>Khammam</td>\n",
              "      <td>4.76</td>\n",
              "      <td>9.75</td>\n",
              "      <td>2046.68</td>\n",
              "      <td>groundnut</td>\n",
              "      <td>20</td>\n",
              "      <td>61</td>\n",
              "    </tr>\n",
              "    <tr>\n",
              "      <th>2338</th>\n",
              "      <td>2017</td>\n",
              "      <td>telangana</td>\n",
              "      <td>Karimnagar</td>\n",
              "      <td>3.23</td>\n",
              "      <td>5.20</td>\n",
              "      <td>1612.06</td>\n",
              "      <td>groundnut</td>\n",
              "      <td>20</td>\n",
              "      <td>62</td>\n",
              "    </tr>\n",
              "    <tr>\n",
              "      <th>2339</th>\n",
              "      <td>2017</td>\n",
              "      <td>telangana</td>\n",
              "      <td>Adilabad</td>\n",
              "      <td>1.46</td>\n",
              "      <td>3.26</td>\n",
              "      <td>2236.26</td>\n",
              "      <td>groundnut</td>\n",
              "      <td>20</td>\n",
              "      <td>63</td>\n",
              "    </tr>\n",
              "  </tbody>\n",
              "</table>\n",
              "<p>1922 rows × 9 columns</p>\n",
              "</div>\n",
              "      <button class=\"colab-df-convert\" onclick=\"convertToInteractive('df-da16d47c-2bcf-4ea0-bed6-051635f9f304')\"\n",
              "              title=\"Convert this dataframe to an interactive table.\"\n",
              "              style=\"display:none;\">\n",
              "        \n",
              "  <svg xmlns=\"http://www.w3.org/2000/svg\" height=\"24px\"viewBox=\"0 0 24 24\"\n",
              "       width=\"24px\">\n",
              "    <path d=\"M0 0h24v24H0V0z\" fill=\"none\"/>\n",
              "    <path d=\"M18.56 5.44l.94 2.06.94-2.06 2.06-.94-2.06-.94-.94-2.06-.94 2.06-2.06.94zm-11 1L8.5 8.5l.94-2.06 2.06-.94-2.06-.94L8.5 2.5l-.94 2.06-2.06.94zm10 10l.94 2.06.94-2.06 2.06-.94-2.06-.94-.94-2.06-.94 2.06-2.06.94z\"/><path d=\"M17.41 7.96l-1.37-1.37c-.4-.4-.92-.59-1.43-.59-.52 0-1.04.2-1.43.59L10.3 9.45l-7.72 7.72c-.78.78-.78 2.05 0 2.83L4 21.41c.39.39.9.59 1.41.59.51 0 1.02-.2 1.41-.59l7.78-7.78 2.81-2.81c.8-.78.8-2.07 0-2.86zM5.41 20L4 18.59l7.72-7.72 1.47 1.35L5.41 20z\"/>\n",
              "  </svg>\n",
              "      </button>\n",
              "      \n",
              "  <style>\n",
              "    .colab-df-container {\n",
              "      display:flex;\n",
              "      flex-wrap:wrap;\n",
              "      gap: 12px;\n",
              "    }\n",
              "\n",
              "    .colab-df-convert {\n",
              "      background-color: #E8F0FE;\n",
              "      border: none;\n",
              "      border-radius: 50%;\n",
              "      cursor: pointer;\n",
              "      display: none;\n",
              "      fill: #1967D2;\n",
              "      height: 32px;\n",
              "      padding: 0 0 0 0;\n",
              "      width: 32px;\n",
              "    }\n",
              "\n",
              "    .colab-df-convert:hover {\n",
              "      background-color: #E2EBFA;\n",
              "      box-shadow: 0px 1px 2px rgba(60, 64, 67, 0.3), 0px 1px 3px 1px rgba(60, 64, 67, 0.15);\n",
              "      fill: #174EA6;\n",
              "    }\n",
              "\n",
              "    [theme=dark] .colab-df-convert {\n",
              "      background-color: #3B4455;\n",
              "      fill: #D2E3FC;\n",
              "    }\n",
              "\n",
              "    [theme=dark] .colab-df-convert:hover {\n",
              "      background-color: #434B5C;\n",
              "      box-shadow: 0px 1px 3px 1px rgba(0, 0, 0, 0.15);\n",
              "      filter: drop-shadow(0px 1px 2px rgba(0, 0, 0, 0.3));\n",
              "      fill: #FFFFFF;\n",
              "    }\n",
              "  </style>\n",
              "\n",
              "      <script>\n",
              "        const buttonEl =\n",
              "          document.querySelector('#df-da16d47c-2bcf-4ea0-bed6-051635f9f304 button.colab-df-convert');\n",
              "        buttonEl.style.display =\n",
              "          google.colab.kernel.accessAllowed ? 'block' : 'none';\n",
              "\n",
              "        async function convertToInteractive(key) {\n",
              "          const element = document.querySelector('#df-da16d47c-2bcf-4ea0-bed6-051635f9f304');\n",
              "          const dataTable =\n",
              "            await google.colab.kernel.invokeFunction('convertToInteractive',\n",
              "                                                     [key], {});\n",
              "          if (!dataTable) return;\n",
              "\n",
              "          const docLinkHtml = 'Like what you see? Visit the ' +\n",
              "            '<a target=\"_blank\" href=https://colab.research.google.com/notebooks/data_table.ipynb>data table notebook</a>'\n",
              "            + ' to learn more about interactive tables.';\n",
              "          element.innerHTML = '';\n",
              "          dataTable['output_type'] = 'display_data';\n",
              "          await google.colab.output.renderOutput(dataTable, element);\n",
              "          const docLink = document.createElement('div');\n",
              "          docLink.innerHTML = docLinkHtml;\n",
              "          element.appendChild(docLink);\n",
              "        }\n",
              "      </script>\n",
              "    </div>\n",
              "  </div>\n",
              "  "
            ]
          },
          "metadata": {},
          "execution_count": 18
        }
      ],
      "source": [
        "data[(data[col] > lower_limit) & (data[col] < upper_limit)]"
      ]
    },
    {
      "cell_type": "code",
      "execution_count": null,
      "metadata": {
        "colab": {
          "base_uri": "https://localhost:8080/"
        },
        "id": "_8VdwPBbT0y1",
        "outputId": "264112fd-0b78-4def-c791-25a39a89186c"
      },
      "outputs": [
        {
          "output_type": "execute_result",
          "data": {
            "text/plain": [
              "(1922, 9)"
            ]
          },
          "metadata": {},
          "execution_count": 19
        }
      ],
      "source": [
        "data.shape"
      ]
    },
    {
      "cell_type": "code",
      "execution_count": null,
      "metadata": {
        "colab": {
          "base_uri": "https://localhost:8080/",
          "height": 206
        },
        "id": "CAPs7vMzYw1d",
        "outputId": "de0cc1d5-b040-4eb0-922c-620cc992145b"
      },
      "outputs": [
        {
          "output_type": "execute_result",
          "data": {
            "text/plain": [
              "   year state_name     dist_name   Area  Production    Yield  Crop  \\\n",
              "0  1966  telangana     Hyderabad   42.0        52.0  1238.10  rice   \n",
              "2  1966  telangana         Medak   97.0       138.0  1422.68  rice   \n",
              "3  1966  telangana  Mahabubnagar  107.0       127.0  1186.92  rice   \n",
              "4  1966  telangana      Nalgonda  111.0       105.0   945.95  rice   \n",
              "5  1966  telangana      Warangal  137.0       159.0  1160.58  rice   \n",
              "\n",
              "   state_code  dist_code  \n",
              "0          20         55  \n",
              "2          20         57  \n",
              "3          20         58  \n",
              "4          20         59  \n",
              "5          20         60  "
            ],
            "text/html": [
              "\n",
              "  <div id=\"df-ac6b136a-72cd-4179-a329-2831feb2c360\">\n",
              "    <div class=\"colab-df-container\">\n",
              "      <div>\n",
              "<style scoped>\n",
              "    .dataframe tbody tr th:only-of-type {\n",
              "        vertical-align: middle;\n",
              "    }\n",
              "\n",
              "    .dataframe tbody tr th {\n",
              "        vertical-align: top;\n",
              "    }\n",
              "\n",
              "    .dataframe thead th {\n",
              "        text-align: right;\n",
              "    }\n",
              "</style>\n",
              "<table border=\"1\" class=\"dataframe\">\n",
              "  <thead>\n",
              "    <tr style=\"text-align: right;\">\n",
              "      <th></th>\n",
              "      <th>year</th>\n",
              "      <th>state_name</th>\n",
              "      <th>dist_name</th>\n",
              "      <th>Area</th>\n",
              "      <th>Production</th>\n",
              "      <th>Yield</th>\n",
              "      <th>Crop</th>\n",
              "      <th>state_code</th>\n",
              "      <th>dist_code</th>\n",
              "    </tr>\n",
              "  </thead>\n",
              "  <tbody>\n",
              "    <tr>\n",
              "      <th>0</th>\n",
              "      <td>1966</td>\n",
              "      <td>telangana</td>\n",
              "      <td>Hyderabad</td>\n",
              "      <td>42.0</td>\n",
              "      <td>52.0</td>\n",
              "      <td>1238.10</td>\n",
              "      <td>rice</td>\n",
              "      <td>20</td>\n",
              "      <td>55</td>\n",
              "    </tr>\n",
              "    <tr>\n",
              "      <th>2</th>\n",
              "      <td>1966</td>\n",
              "      <td>telangana</td>\n",
              "      <td>Medak</td>\n",
              "      <td>97.0</td>\n",
              "      <td>138.0</td>\n",
              "      <td>1422.68</td>\n",
              "      <td>rice</td>\n",
              "      <td>20</td>\n",
              "      <td>57</td>\n",
              "    </tr>\n",
              "    <tr>\n",
              "      <th>3</th>\n",
              "      <td>1966</td>\n",
              "      <td>telangana</td>\n",
              "      <td>Mahabubnagar</td>\n",
              "      <td>107.0</td>\n",
              "      <td>127.0</td>\n",
              "      <td>1186.92</td>\n",
              "      <td>rice</td>\n",
              "      <td>20</td>\n",
              "      <td>58</td>\n",
              "    </tr>\n",
              "    <tr>\n",
              "      <th>4</th>\n",
              "      <td>1966</td>\n",
              "      <td>telangana</td>\n",
              "      <td>Nalgonda</td>\n",
              "      <td>111.0</td>\n",
              "      <td>105.0</td>\n",
              "      <td>945.95</td>\n",
              "      <td>rice</td>\n",
              "      <td>20</td>\n",
              "      <td>59</td>\n",
              "    </tr>\n",
              "    <tr>\n",
              "      <th>5</th>\n",
              "      <td>1966</td>\n",
              "      <td>telangana</td>\n",
              "      <td>Warangal</td>\n",
              "      <td>137.0</td>\n",
              "      <td>159.0</td>\n",
              "      <td>1160.58</td>\n",
              "      <td>rice</td>\n",
              "      <td>20</td>\n",
              "      <td>60</td>\n",
              "    </tr>\n",
              "  </tbody>\n",
              "</table>\n",
              "</div>\n",
              "      <button class=\"colab-df-convert\" onclick=\"convertToInteractive('df-ac6b136a-72cd-4179-a329-2831feb2c360')\"\n",
              "              title=\"Convert this dataframe to an interactive table.\"\n",
              "              style=\"display:none;\">\n",
              "        \n",
              "  <svg xmlns=\"http://www.w3.org/2000/svg\" height=\"24px\"viewBox=\"0 0 24 24\"\n",
              "       width=\"24px\">\n",
              "    <path d=\"M0 0h24v24H0V0z\" fill=\"none\"/>\n",
              "    <path d=\"M18.56 5.44l.94 2.06.94-2.06 2.06-.94-2.06-.94-.94-2.06-.94 2.06-2.06.94zm-11 1L8.5 8.5l.94-2.06 2.06-.94-2.06-.94L8.5 2.5l-.94 2.06-2.06.94zm10 10l.94 2.06.94-2.06 2.06-.94-2.06-.94-.94-2.06-.94 2.06-2.06.94z\"/><path d=\"M17.41 7.96l-1.37-1.37c-.4-.4-.92-.59-1.43-.59-.52 0-1.04.2-1.43.59L10.3 9.45l-7.72 7.72c-.78.78-.78 2.05 0 2.83L4 21.41c.39.39.9.59 1.41.59.51 0 1.02-.2 1.41-.59l7.78-7.78 2.81-2.81c.8-.78.8-2.07 0-2.86zM5.41 20L4 18.59l7.72-7.72 1.47 1.35L5.41 20z\"/>\n",
              "  </svg>\n",
              "      </button>\n",
              "      \n",
              "  <style>\n",
              "    .colab-df-container {\n",
              "      display:flex;\n",
              "      flex-wrap:wrap;\n",
              "      gap: 12px;\n",
              "    }\n",
              "\n",
              "    .colab-df-convert {\n",
              "      background-color: #E8F0FE;\n",
              "      border: none;\n",
              "      border-radius: 50%;\n",
              "      cursor: pointer;\n",
              "      display: none;\n",
              "      fill: #1967D2;\n",
              "      height: 32px;\n",
              "      padding: 0 0 0 0;\n",
              "      width: 32px;\n",
              "    }\n",
              "\n",
              "    .colab-df-convert:hover {\n",
              "      background-color: #E2EBFA;\n",
              "      box-shadow: 0px 1px 2px rgba(60, 64, 67, 0.3), 0px 1px 3px 1px rgba(60, 64, 67, 0.15);\n",
              "      fill: #174EA6;\n",
              "    }\n",
              "\n",
              "    [theme=dark] .colab-df-convert {\n",
              "      background-color: #3B4455;\n",
              "      fill: #D2E3FC;\n",
              "    }\n",
              "\n",
              "    [theme=dark] .colab-df-convert:hover {\n",
              "      background-color: #434B5C;\n",
              "      box-shadow: 0px 1px 3px 1px rgba(0, 0, 0, 0.15);\n",
              "      filter: drop-shadow(0px 1px 2px rgba(0, 0, 0, 0.3));\n",
              "      fill: #FFFFFF;\n",
              "    }\n",
              "  </style>\n",
              "\n",
              "      <script>\n",
              "        const buttonEl =\n",
              "          document.querySelector('#df-ac6b136a-72cd-4179-a329-2831feb2c360 button.colab-df-convert');\n",
              "        buttonEl.style.display =\n",
              "          google.colab.kernel.accessAllowed ? 'block' : 'none';\n",
              "\n",
              "        async function convertToInteractive(key) {\n",
              "          const element = document.querySelector('#df-ac6b136a-72cd-4179-a329-2831feb2c360');\n",
              "          const dataTable =\n",
              "            await google.colab.kernel.invokeFunction('convertToInteractive',\n",
              "                                                     [key], {});\n",
              "          if (!dataTable) return;\n",
              "\n",
              "          const docLinkHtml = 'Like what you see? Visit the ' +\n",
              "            '<a target=\"_blank\" href=https://colab.research.google.com/notebooks/data_table.ipynb>data table notebook</a>'\n",
              "            + ' to learn more about interactive tables.';\n",
              "          element.innerHTML = '';\n",
              "          dataTable['output_type'] = 'display_data';\n",
              "          await google.colab.output.renderOutput(dataTable, element);\n",
              "          const docLink = document.createElement('div');\n",
              "          docLink.innerHTML = docLinkHtml;\n",
              "          element.appendChild(docLink);\n",
              "        }\n",
              "      </script>\n",
              "    </div>\n",
              "  </div>\n",
              "  "
            ]
          },
          "metadata": {},
          "execution_count": 20
        }
      ],
      "source": [
        "data.head()"
      ]
    },
    {
      "cell_type": "code",
      "execution_count": null,
      "metadata": {
        "id": "OKzI4YaLY-k_"
      },
      "outputs": [],
      "source": [
        "data.drop(['dist_code','state_code','state_name'],axis=1,inplace=True)"
      ]
    },
    {
      "cell_type": "code",
      "execution_count": null,
      "metadata": {
        "colab": {
          "base_uri": "https://localhost:8080/",
          "height": 206
        },
        "id": "Zs6x9rIsZSO-",
        "outputId": "24a32601-23cb-465a-e2ca-41e77a5bac03"
      },
      "outputs": [
        {
          "output_type": "execute_result",
          "data": {
            "text/plain": [
              "   year     dist_name   Area  Production    Yield  Crop\n",
              "0  1966     Hyderabad   42.0        52.0  1238.10  rice\n",
              "2  1966         Medak   97.0       138.0  1422.68  rice\n",
              "3  1966  Mahabubnagar  107.0       127.0  1186.92  rice\n",
              "4  1966      Nalgonda  111.0       105.0   945.95  rice\n",
              "5  1966      Warangal  137.0       159.0  1160.58  rice"
            ],
            "text/html": [
              "\n",
              "  <div id=\"df-0fe2aa8c-0f8d-4d70-9df4-39aecb001ed3\">\n",
              "    <div class=\"colab-df-container\">\n",
              "      <div>\n",
              "<style scoped>\n",
              "    .dataframe tbody tr th:only-of-type {\n",
              "        vertical-align: middle;\n",
              "    }\n",
              "\n",
              "    .dataframe tbody tr th {\n",
              "        vertical-align: top;\n",
              "    }\n",
              "\n",
              "    .dataframe thead th {\n",
              "        text-align: right;\n",
              "    }\n",
              "</style>\n",
              "<table border=\"1\" class=\"dataframe\">\n",
              "  <thead>\n",
              "    <tr style=\"text-align: right;\">\n",
              "      <th></th>\n",
              "      <th>year</th>\n",
              "      <th>dist_name</th>\n",
              "      <th>Area</th>\n",
              "      <th>Production</th>\n",
              "      <th>Yield</th>\n",
              "      <th>Crop</th>\n",
              "    </tr>\n",
              "  </thead>\n",
              "  <tbody>\n",
              "    <tr>\n",
              "      <th>0</th>\n",
              "      <td>1966</td>\n",
              "      <td>Hyderabad</td>\n",
              "      <td>42.0</td>\n",
              "      <td>52.0</td>\n",
              "      <td>1238.10</td>\n",
              "      <td>rice</td>\n",
              "    </tr>\n",
              "    <tr>\n",
              "      <th>2</th>\n",
              "      <td>1966</td>\n",
              "      <td>Medak</td>\n",
              "      <td>97.0</td>\n",
              "      <td>138.0</td>\n",
              "      <td>1422.68</td>\n",
              "      <td>rice</td>\n",
              "    </tr>\n",
              "    <tr>\n",
              "      <th>3</th>\n",
              "      <td>1966</td>\n",
              "      <td>Mahabubnagar</td>\n",
              "      <td>107.0</td>\n",
              "      <td>127.0</td>\n",
              "      <td>1186.92</td>\n",
              "      <td>rice</td>\n",
              "    </tr>\n",
              "    <tr>\n",
              "      <th>4</th>\n",
              "      <td>1966</td>\n",
              "      <td>Nalgonda</td>\n",
              "      <td>111.0</td>\n",
              "      <td>105.0</td>\n",
              "      <td>945.95</td>\n",
              "      <td>rice</td>\n",
              "    </tr>\n",
              "    <tr>\n",
              "      <th>5</th>\n",
              "      <td>1966</td>\n",
              "      <td>Warangal</td>\n",
              "      <td>137.0</td>\n",
              "      <td>159.0</td>\n",
              "      <td>1160.58</td>\n",
              "      <td>rice</td>\n",
              "    </tr>\n",
              "  </tbody>\n",
              "</table>\n",
              "</div>\n",
              "      <button class=\"colab-df-convert\" onclick=\"convertToInteractive('df-0fe2aa8c-0f8d-4d70-9df4-39aecb001ed3')\"\n",
              "              title=\"Convert this dataframe to an interactive table.\"\n",
              "              style=\"display:none;\">\n",
              "        \n",
              "  <svg xmlns=\"http://www.w3.org/2000/svg\" height=\"24px\"viewBox=\"0 0 24 24\"\n",
              "       width=\"24px\">\n",
              "    <path d=\"M0 0h24v24H0V0z\" fill=\"none\"/>\n",
              "    <path d=\"M18.56 5.44l.94 2.06.94-2.06 2.06-.94-2.06-.94-.94-2.06-.94 2.06-2.06.94zm-11 1L8.5 8.5l.94-2.06 2.06-.94-2.06-.94L8.5 2.5l-.94 2.06-2.06.94zm10 10l.94 2.06.94-2.06 2.06-.94-2.06-.94-.94-2.06-.94 2.06-2.06.94z\"/><path d=\"M17.41 7.96l-1.37-1.37c-.4-.4-.92-.59-1.43-.59-.52 0-1.04.2-1.43.59L10.3 9.45l-7.72 7.72c-.78.78-.78 2.05 0 2.83L4 21.41c.39.39.9.59 1.41.59.51 0 1.02-.2 1.41-.59l7.78-7.78 2.81-2.81c.8-.78.8-2.07 0-2.86zM5.41 20L4 18.59l7.72-7.72 1.47 1.35L5.41 20z\"/>\n",
              "  </svg>\n",
              "      </button>\n",
              "      \n",
              "  <style>\n",
              "    .colab-df-container {\n",
              "      display:flex;\n",
              "      flex-wrap:wrap;\n",
              "      gap: 12px;\n",
              "    }\n",
              "\n",
              "    .colab-df-convert {\n",
              "      background-color: #E8F0FE;\n",
              "      border: none;\n",
              "      border-radius: 50%;\n",
              "      cursor: pointer;\n",
              "      display: none;\n",
              "      fill: #1967D2;\n",
              "      height: 32px;\n",
              "      padding: 0 0 0 0;\n",
              "      width: 32px;\n",
              "    }\n",
              "\n",
              "    .colab-df-convert:hover {\n",
              "      background-color: #E2EBFA;\n",
              "      box-shadow: 0px 1px 2px rgba(60, 64, 67, 0.3), 0px 1px 3px 1px rgba(60, 64, 67, 0.15);\n",
              "      fill: #174EA6;\n",
              "    }\n",
              "\n",
              "    [theme=dark] .colab-df-convert {\n",
              "      background-color: #3B4455;\n",
              "      fill: #D2E3FC;\n",
              "    }\n",
              "\n",
              "    [theme=dark] .colab-df-convert:hover {\n",
              "      background-color: #434B5C;\n",
              "      box-shadow: 0px 1px 3px 1px rgba(0, 0, 0, 0.15);\n",
              "      filter: drop-shadow(0px 1px 2px rgba(0, 0, 0, 0.3));\n",
              "      fill: #FFFFFF;\n",
              "    }\n",
              "  </style>\n",
              "\n",
              "      <script>\n",
              "        const buttonEl =\n",
              "          document.querySelector('#df-0fe2aa8c-0f8d-4d70-9df4-39aecb001ed3 button.colab-df-convert');\n",
              "        buttonEl.style.display =\n",
              "          google.colab.kernel.accessAllowed ? 'block' : 'none';\n",
              "\n",
              "        async function convertToInteractive(key) {\n",
              "          const element = document.querySelector('#df-0fe2aa8c-0f8d-4d70-9df4-39aecb001ed3');\n",
              "          const dataTable =\n",
              "            await google.colab.kernel.invokeFunction('convertToInteractive',\n",
              "                                                     [key], {});\n",
              "          if (!dataTable) return;\n",
              "\n",
              "          const docLinkHtml = 'Like what you see? Visit the ' +\n",
              "            '<a target=\"_blank\" href=https://colab.research.google.com/notebooks/data_table.ipynb>data table notebook</a>'\n",
              "            + ' to learn more about interactive tables.';\n",
              "          element.innerHTML = '';\n",
              "          dataTable['output_type'] = 'display_data';\n",
              "          await google.colab.output.renderOutput(dataTable, element);\n",
              "          const docLink = document.createElement('div');\n",
              "          docLink.innerHTML = docLinkHtml;\n",
              "          element.appendChild(docLink);\n",
              "        }\n",
              "      </script>\n",
              "    </div>\n",
              "  </div>\n",
              "  "
            ]
          },
          "metadata": {},
          "execution_count": 22
        }
      ],
      "source": [
        "data.head()"
      ]
    },
    {
      "cell_type": "code",
      "execution_count": null,
      "metadata": {
        "id": "5RWEN6SCHJVT"
      },
      "outputs": [],
      "source": [
        "dummies=pd.get_dummies(data.dist_name)"
      ]
    },
    {
      "cell_type": "code",
      "execution_count": null,
      "metadata": {
        "id": "yddmDDeSJvGj"
      },
      "outputs": [],
      "source": [
        "merged=pd.concat([data,dummies],axis='columns')"
      ]
    },
    {
      "cell_type": "code",
      "execution_count": null,
      "metadata": {
        "colab": {
          "base_uri": "https://localhost:8080/",
          "height": 206
        },
        "id": "WE1E4fCbJ1p_",
        "outputId": "6b5e422e-b47f-4a92-b601-663ca6ad542c"
      },
      "outputs": [
        {
          "output_type": "execute_result",
          "data": {
            "text/plain": [
              "   year     dist_name   Area  Production    Yield  Crop  Adilabad  Hyderabad  \\\n",
              "0  1966     Hyderabad   42.0        52.0  1238.10  rice         0          1   \n",
              "2  1966         Medak   97.0       138.0  1422.68  rice         0          0   \n",
              "3  1966  Mahabubnagar  107.0       127.0  1186.92  rice         0          0   \n",
              "4  1966      Nalgonda  111.0       105.0   945.95  rice         0          0   \n",
              "5  1966      Warangal  137.0       159.0  1160.58  rice         0          0   \n",
              "\n",
              "   Karimnagar  Khammam  Mahabubnagar  Medak  Nalgonda  Nizamabad  Warangal  \n",
              "0           0        0             0      0         0          0         0  \n",
              "2           0        0             0      1         0          0         0  \n",
              "3           0        0             1      0         0          0         0  \n",
              "4           0        0             0      0         1          0         0  \n",
              "5           0        0             0      0         0          0         1  "
            ],
            "text/html": [
              "\n",
              "  <div id=\"df-3686eb1f-7269-4c4a-9db6-ece72ff4e677\">\n",
              "    <div class=\"colab-df-container\">\n",
              "      <div>\n",
              "<style scoped>\n",
              "    .dataframe tbody tr th:only-of-type {\n",
              "        vertical-align: middle;\n",
              "    }\n",
              "\n",
              "    .dataframe tbody tr th {\n",
              "        vertical-align: top;\n",
              "    }\n",
              "\n",
              "    .dataframe thead th {\n",
              "        text-align: right;\n",
              "    }\n",
              "</style>\n",
              "<table border=\"1\" class=\"dataframe\">\n",
              "  <thead>\n",
              "    <tr style=\"text-align: right;\">\n",
              "      <th></th>\n",
              "      <th>year</th>\n",
              "      <th>dist_name</th>\n",
              "      <th>Area</th>\n",
              "      <th>Production</th>\n",
              "      <th>Yield</th>\n",
              "      <th>Crop</th>\n",
              "      <th>Adilabad</th>\n",
              "      <th>Hyderabad</th>\n",
              "      <th>Karimnagar</th>\n",
              "      <th>Khammam</th>\n",
              "      <th>Mahabubnagar</th>\n",
              "      <th>Medak</th>\n",
              "      <th>Nalgonda</th>\n",
              "      <th>Nizamabad</th>\n",
              "      <th>Warangal</th>\n",
              "    </tr>\n",
              "  </thead>\n",
              "  <tbody>\n",
              "    <tr>\n",
              "      <th>0</th>\n",
              "      <td>1966</td>\n",
              "      <td>Hyderabad</td>\n",
              "      <td>42.0</td>\n",
              "      <td>52.0</td>\n",
              "      <td>1238.10</td>\n",
              "      <td>rice</td>\n",
              "      <td>0</td>\n",
              "      <td>1</td>\n",
              "      <td>0</td>\n",
              "      <td>0</td>\n",
              "      <td>0</td>\n",
              "      <td>0</td>\n",
              "      <td>0</td>\n",
              "      <td>0</td>\n",
              "      <td>0</td>\n",
              "    </tr>\n",
              "    <tr>\n",
              "      <th>2</th>\n",
              "      <td>1966</td>\n",
              "      <td>Medak</td>\n",
              "      <td>97.0</td>\n",
              "      <td>138.0</td>\n",
              "      <td>1422.68</td>\n",
              "      <td>rice</td>\n",
              "      <td>0</td>\n",
              "      <td>0</td>\n",
              "      <td>0</td>\n",
              "      <td>0</td>\n",
              "      <td>0</td>\n",
              "      <td>1</td>\n",
              "      <td>0</td>\n",
              "      <td>0</td>\n",
              "      <td>0</td>\n",
              "    </tr>\n",
              "    <tr>\n",
              "      <th>3</th>\n",
              "      <td>1966</td>\n",
              "      <td>Mahabubnagar</td>\n",
              "      <td>107.0</td>\n",
              "      <td>127.0</td>\n",
              "      <td>1186.92</td>\n",
              "      <td>rice</td>\n",
              "      <td>0</td>\n",
              "      <td>0</td>\n",
              "      <td>0</td>\n",
              "      <td>0</td>\n",
              "      <td>1</td>\n",
              "      <td>0</td>\n",
              "      <td>0</td>\n",
              "      <td>0</td>\n",
              "      <td>0</td>\n",
              "    </tr>\n",
              "    <tr>\n",
              "      <th>4</th>\n",
              "      <td>1966</td>\n",
              "      <td>Nalgonda</td>\n",
              "      <td>111.0</td>\n",
              "      <td>105.0</td>\n",
              "      <td>945.95</td>\n",
              "      <td>rice</td>\n",
              "      <td>0</td>\n",
              "      <td>0</td>\n",
              "      <td>0</td>\n",
              "      <td>0</td>\n",
              "      <td>0</td>\n",
              "      <td>0</td>\n",
              "      <td>1</td>\n",
              "      <td>0</td>\n",
              "      <td>0</td>\n",
              "    </tr>\n",
              "    <tr>\n",
              "      <th>5</th>\n",
              "      <td>1966</td>\n",
              "      <td>Warangal</td>\n",
              "      <td>137.0</td>\n",
              "      <td>159.0</td>\n",
              "      <td>1160.58</td>\n",
              "      <td>rice</td>\n",
              "      <td>0</td>\n",
              "      <td>0</td>\n",
              "      <td>0</td>\n",
              "      <td>0</td>\n",
              "      <td>0</td>\n",
              "      <td>0</td>\n",
              "      <td>0</td>\n",
              "      <td>0</td>\n",
              "      <td>1</td>\n",
              "    </tr>\n",
              "  </tbody>\n",
              "</table>\n",
              "</div>\n",
              "      <button class=\"colab-df-convert\" onclick=\"convertToInteractive('df-3686eb1f-7269-4c4a-9db6-ece72ff4e677')\"\n",
              "              title=\"Convert this dataframe to an interactive table.\"\n",
              "              style=\"display:none;\">\n",
              "        \n",
              "  <svg xmlns=\"http://www.w3.org/2000/svg\" height=\"24px\"viewBox=\"0 0 24 24\"\n",
              "       width=\"24px\">\n",
              "    <path d=\"M0 0h24v24H0V0z\" fill=\"none\"/>\n",
              "    <path d=\"M18.56 5.44l.94 2.06.94-2.06 2.06-.94-2.06-.94-.94-2.06-.94 2.06-2.06.94zm-11 1L8.5 8.5l.94-2.06 2.06-.94-2.06-.94L8.5 2.5l-.94 2.06-2.06.94zm10 10l.94 2.06.94-2.06 2.06-.94-2.06-.94-.94-2.06-.94 2.06-2.06.94z\"/><path d=\"M17.41 7.96l-1.37-1.37c-.4-.4-.92-.59-1.43-.59-.52 0-1.04.2-1.43.59L10.3 9.45l-7.72 7.72c-.78.78-.78 2.05 0 2.83L4 21.41c.39.39.9.59 1.41.59.51 0 1.02-.2 1.41-.59l7.78-7.78 2.81-2.81c.8-.78.8-2.07 0-2.86zM5.41 20L4 18.59l7.72-7.72 1.47 1.35L5.41 20z\"/>\n",
              "  </svg>\n",
              "      </button>\n",
              "      \n",
              "  <style>\n",
              "    .colab-df-container {\n",
              "      display:flex;\n",
              "      flex-wrap:wrap;\n",
              "      gap: 12px;\n",
              "    }\n",
              "\n",
              "    .colab-df-convert {\n",
              "      background-color: #E8F0FE;\n",
              "      border: none;\n",
              "      border-radius: 50%;\n",
              "      cursor: pointer;\n",
              "      display: none;\n",
              "      fill: #1967D2;\n",
              "      height: 32px;\n",
              "      padding: 0 0 0 0;\n",
              "      width: 32px;\n",
              "    }\n",
              "\n",
              "    .colab-df-convert:hover {\n",
              "      background-color: #E2EBFA;\n",
              "      box-shadow: 0px 1px 2px rgba(60, 64, 67, 0.3), 0px 1px 3px 1px rgba(60, 64, 67, 0.15);\n",
              "      fill: #174EA6;\n",
              "    }\n",
              "\n",
              "    [theme=dark] .colab-df-convert {\n",
              "      background-color: #3B4455;\n",
              "      fill: #D2E3FC;\n",
              "    }\n",
              "\n",
              "    [theme=dark] .colab-df-convert:hover {\n",
              "      background-color: #434B5C;\n",
              "      box-shadow: 0px 1px 3px 1px rgba(0, 0, 0, 0.15);\n",
              "      filter: drop-shadow(0px 1px 2px rgba(0, 0, 0, 0.3));\n",
              "      fill: #FFFFFF;\n",
              "    }\n",
              "  </style>\n",
              "\n",
              "      <script>\n",
              "        const buttonEl =\n",
              "          document.querySelector('#df-3686eb1f-7269-4c4a-9db6-ece72ff4e677 button.colab-df-convert');\n",
              "        buttonEl.style.display =\n",
              "          google.colab.kernel.accessAllowed ? 'block' : 'none';\n",
              "\n",
              "        async function convertToInteractive(key) {\n",
              "          const element = document.querySelector('#df-3686eb1f-7269-4c4a-9db6-ece72ff4e677');\n",
              "          const dataTable =\n",
              "            await google.colab.kernel.invokeFunction('convertToInteractive',\n",
              "                                                     [key], {});\n",
              "          if (!dataTable) return;\n",
              "\n",
              "          const docLinkHtml = 'Like what you see? Visit the ' +\n",
              "            '<a target=\"_blank\" href=https://colab.research.google.com/notebooks/data_table.ipynb>data table notebook</a>'\n",
              "            + ' to learn more about interactive tables.';\n",
              "          element.innerHTML = '';\n",
              "          dataTable['output_type'] = 'display_data';\n",
              "          await google.colab.output.renderOutput(dataTable, element);\n",
              "          const docLink = document.createElement('div');\n",
              "          docLink.innerHTML = docLinkHtml;\n",
              "          element.appendChild(docLink);\n",
              "        }\n",
              "      </script>\n",
              "    </div>\n",
              "  </div>\n",
              "  "
            ]
          },
          "metadata": {},
          "execution_count": 25
        }
      ],
      "source": [
        "merged.head()"
      ]
    },
    {
      "cell_type": "code",
      "execution_count": null,
      "metadata": {
        "id": "6rQcMKmSJ5_W"
      },
      "outputs": [],
      "source": [
        "d1=merged.drop(['dist_name','Adilabad'],axis='columns')"
      ]
    },
    {
      "cell_type": "code",
      "execution_count": null,
      "metadata": {
        "colab": {
          "base_uri": "https://localhost:8080/",
          "height": 206
        },
        "id": "8tj-5Z2WK7EM",
        "outputId": "9c02d781-6316-40fb-ee5a-53ed5c77c52f"
      },
      "outputs": [
        {
          "output_type": "execute_result",
          "data": {
            "text/plain": [
              "   year   Area  Production    Yield  Crop  Hyderabad  Karimnagar  Khammam  \\\n",
              "0  1966   42.0        52.0  1238.10  rice          1           0        0   \n",
              "2  1966   97.0       138.0  1422.68  rice          0           0        0   \n",
              "3  1966  107.0       127.0  1186.92  rice          0           0        0   \n",
              "4  1966  111.0       105.0   945.95  rice          0           0        0   \n",
              "5  1966  137.0       159.0  1160.58  rice          0           0        0   \n",
              "\n",
              "   Mahabubnagar  Medak  Nalgonda  Nizamabad  Warangal  \n",
              "0             0      0         0          0         0  \n",
              "2             0      1         0          0         0  \n",
              "3             1      0         0          0         0  \n",
              "4             0      0         1          0         0  \n",
              "5             0      0         0          0         1  "
            ],
            "text/html": [
              "\n",
              "  <div id=\"df-bec9a014-41f2-41c5-9c40-4863e8d99f62\">\n",
              "    <div class=\"colab-df-container\">\n",
              "      <div>\n",
              "<style scoped>\n",
              "    .dataframe tbody tr th:only-of-type {\n",
              "        vertical-align: middle;\n",
              "    }\n",
              "\n",
              "    .dataframe tbody tr th {\n",
              "        vertical-align: top;\n",
              "    }\n",
              "\n",
              "    .dataframe thead th {\n",
              "        text-align: right;\n",
              "    }\n",
              "</style>\n",
              "<table border=\"1\" class=\"dataframe\">\n",
              "  <thead>\n",
              "    <tr style=\"text-align: right;\">\n",
              "      <th></th>\n",
              "      <th>year</th>\n",
              "      <th>Area</th>\n",
              "      <th>Production</th>\n",
              "      <th>Yield</th>\n",
              "      <th>Crop</th>\n",
              "      <th>Hyderabad</th>\n",
              "      <th>Karimnagar</th>\n",
              "      <th>Khammam</th>\n",
              "      <th>Mahabubnagar</th>\n",
              "      <th>Medak</th>\n",
              "      <th>Nalgonda</th>\n",
              "      <th>Nizamabad</th>\n",
              "      <th>Warangal</th>\n",
              "    </tr>\n",
              "  </thead>\n",
              "  <tbody>\n",
              "    <tr>\n",
              "      <th>0</th>\n",
              "      <td>1966</td>\n",
              "      <td>42.0</td>\n",
              "      <td>52.0</td>\n",
              "      <td>1238.10</td>\n",
              "      <td>rice</td>\n",
              "      <td>1</td>\n",
              "      <td>0</td>\n",
              "      <td>0</td>\n",
              "      <td>0</td>\n",
              "      <td>0</td>\n",
              "      <td>0</td>\n",
              "      <td>0</td>\n",
              "      <td>0</td>\n",
              "    </tr>\n",
              "    <tr>\n",
              "      <th>2</th>\n",
              "      <td>1966</td>\n",
              "      <td>97.0</td>\n",
              "      <td>138.0</td>\n",
              "      <td>1422.68</td>\n",
              "      <td>rice</td>\n",
              "      <td>0</td>\n",
              "      <td>0</td>\n",
              "      <td>0</td>\n",
              "      <td>0</td>\n",
              "      <td>1</td>\n",
              "      <td>0</td>\n",
              "      <td>0</td>\n",
              "      <td>0</td>\n",
              "    </tr>\n",
              "    <tr>\n",
              "      <th>3</th>\n",
              "      <td>1966</td>\n",
              "      <td>107.0</td>\n",
              "      <td>127.0</td>\n",
              "      <td>1186.92</td>\n",
              "      <td>rice</td>\n",
              "      <td>0</td>\n",
              "      <td>0</td>\n",
              "      <td>0</td>\n",
              "      <td>1</td>\n",
              "      <td>0</td>\n",
              "      <td>0</td>\n",
              "      <td>0</td>\n",
              "      <td>0</td>\n",
              "    </tr>\n",
              "    <tr>\n",
              "      <th>4</th>\n",
              "      <td>1966</td>\n",
              "      <td>111.0</td>\n",
              "      <td>105.0</td>\n",
              "      <td>945.95</td>\n",
              "      <td>rice</td>\n",
              "      <td>0</td>\n",
              "      <td>0</td>\n",
              "      <td>0</td>\n",
              "      <td>0</td>\n",
              "      <td>0</td>\n",
              "      <td>1</td>\n",
              "      <td>0</td>\n",
              "      <td>0</td>\n",
              "    </tr>\n",
              "    <tr>\n",
              "      <th>5</th>\n",
              "      <td>1966</td>\n",
              "      <td>137.0</td>\n",
              "      <td>159.0</td>\n",
              "      <td>1160.58</td>\n",
              "      <td>rice</td>\n",
              "      <td>0</td>\n",
              "      <td>0</td>\n",
              "      <td>0</td>\n",
              "      <td>0</td>\n",
              "      <td>0</td>\n",
              "      <td>0</td>\n",
              "      <td>0</td>\n",
              "      <td>1</td>\n",
              "    </tr>\n",
              "  </tbody>\n",
              "</table>\n",
              "</div>\n",
              "      <button class=\"colab-df-convert\" onclick=\"convertToInteractive('df-bec9a014-41f2-41c5-9c40-4863e8d99f62')\"\n",
              "              title=\"Convert this dataframe to an interactive table.\"\n",
              "              style=\"display:none;\">\n",
              "        \n",
              "  <svg xmlns=\"http://www.w3.org/2000/svg\" height=\"24px\"viewBox=\"0 0 24 24\"\n",
              "       width=\"24px\">\n",
              "    <path d=\"M0 0h24v24H0V0z\" fill=\"none\"/>\n",
              "    <path d=\"M18.56 5.44l.94 2.06.94-2.06 2.06-.94-2.06-.94-.94-2.06-.94 2.06-2.06.94zm-11 1L8.5 8.5l.94-2.06 2.06-.94-2.06-.94L8.5 2.5l-.94 2.06-2.06.94zm10 10l.94 2.06.94-2.06 2.06-.94-2.06-.94-.94-2.06-.94 2.06-2.06.94z\"/><path d=\"M17.41 7.96l-1.37-1.37c-.4-.4-.92-.59-1.43-.59-.52 0-1.04.2-1.43.59L10.3 9.45l-7.72 7.72c-.78.78-.78 2.05 0 2.83L4 21.41c.39.39.9.59 1.41.59.51 0 1.02-.2 1.41-.59l7.78-7.78 2.81-2.81c.8-.78.8-2.07 0-2.86zM5.41 20L4 18.59l7.72-7.72 1.47 1.35L5.41 20z\"/>\n",
              "  </svg>\n",
              "      </button>\n",
              "      \n",
              "  <style>\n",
              "    .colab-df-container {\n",
              "      display:flex;\n",
              "      flex-wrap:wrap;\n",
              "      gap: 12px;\n",
              "    }\n",
              "\n",
              "    .colab-df-convert {\n",
              "      background-color: #E8F0FE;\n",
              "      border: none;\n",
              "      border-radius: 50%;\n",
              "      cursor: pointer;\n",
              "      display: none;\n",
              "      fill: #1967D2;\n",
              "      height: 32px;\n",
              "      padding: 0 0 0 0;\n",
              "      width: 32px;\n",
              "    }\n",
              "\n",
              "    .colab-df-convert:hover {\n",
              "      background-color: #E2EBFA;\n",
              "      box-shadow: 0px 1px 2px rgba(60, 64, 67, 0.3), 0px 1px 3px 1px rgba(60, 64, 67, 0.15);\n",
              "      fill: #174EA6;\n",
              "    }\n",
              "\n",
              "    [theme=dark] .colab-df-convert {\n",
              "      background-color: #3B4455;\n",
              "      fill: #D2E3FC;\n",
              "    }\n",
              "\n",
              "    [theme=dark] .colab-df-convert:hover {\n",
              "      background-color: #434B5C;\n",
              "      box-shadow: 0px 1px 3px 1px rgba(0, 0, 0, 0.15);\n",
              "      filter: drop-shadow(0px 1px 2px rgba(0, 0, 0, 0.3));\n",
              "      fill: #FFFFFF;\n",
              "    }\n",
              "  </style>\n",
              "\n",
              "      <script>\n",
              "        const buttonEl =\n",
              "          document.querySelector('#df-bec9a014-41f2-41c5-9c40-4863e8d99f62 button.colab-df-convert');\n",
              "        buttonEl.style.display =\n",
              "          google.colab.kernel.accessAllowed ? 'block' : 'none';\n",
              "\n",
              "        async function convertToInteractive(key) {\n",
              "          const element = document.querySelector('#df-bec9a014-41f2-41c5-9c40-4863e8d99f62');\n",
              "          const dataTable =\n",
              "            await google.colab.kernel.invokeFunction('convertToInteractive',\n",
              "                                                     [key], {});\n",
              "          if (!dataTable) return;\n",
              "\n",
              "          const docLinkHtml = 'Like what you see? Visit the ' +\n",
              "            '<a target=\"_blank\" href=https://colab.research.google.com/notebooks/data_table.ipynb>data table notebook</a>'\n",
              "            + ' to learn more about interactive tables.';\n",
              "          element.innerHTML = '';\n",
              "          dataTable['output_type'] = 'display_data';\n",
              "          await google.colab.output.renderOutput(dataTable, element);\n",
              "          const docLink = document.createElement('div');\n",
              "          docLink.innerHTML = docLinkHtml;\n",
              "          element.appendChild(docLink);\n",
              "        }\n",
              "      </script>\n",
              "    </div>\n",
              "  </div>\n",
              "  "
            ]
          },
          "metadata": {},
          "execution_count": 27
        }
      ],
      "source": [
        "d1.head()"
      ]
    },
    {
      "cell_type": "code",
      "execution_count": null,
      "metadata": {
        "id": "_Moi0Ootl_3R"
      },
      "outputs": [],
      "source": [
        "dummies1=pd.get_dummies(d1.Crop)"
      ]
    },
    {
      "cell_type": "code",
      "execution_count": null,
      "metadata": {
        "id": "ysaPesofmKds"
      },
      "outputs": [],
      "source": [
        "merged1=pd.concat([d1,dummies1],axis='columns')"
      ]
    },
    {
      "cell_type": "code",
      "execution_count": null,
      "metadata": {
        "colab": {
          "base_uri": "https://localhost:8080/",
          "height": 270
        },
        "id": "ytRTusNBmVSC",
        "outputId": "bb8a4f28-7849-4b0c-901b-157123e9c84a"
      },
      "outputs": [
        {
          "output_type": "execute_result",
          "data": {
            "text/plain": [
              "   year   Area  Production    Yield  Crop  Hyderabad  Karimnagar  Khammam  \\\n",
              "0  1966   42.0        52.0  1238.10  rice          1           0        0   \n",
              "2  1966   97.0       138.0  1422.68  rice          0           0        0   \n",
              "3  1966  107.0       127.0  1186.92  rice          0           0        0   \n",
              "4  1966  111.0       105.0   945.95  rice          0           0        0   \n",
              "5  1966  137.0       159.0  1160.58  rice          0           0        0   \n",
              "\n",
              "   Mahabubnagar  Medak  Nalgonda  Nizamabad  Warangal  groundnut  maize  \\\n",
              "0             0      0         0          0         0          0      0   \n",
              "2             0      1         0          0         0          0      0   \n",
              "3             1      0         0          0         0          0      0   \n",
              "4             0      0         1          0         0          0      0   \n",
              "5             0      0         0          0         1          0      0   \n",
              "\n",
              "   minor_pulses  rice  sorghum  \n",
              "0             0     1        0  \n",
              "2             0     1        0  \n",
              "3             0     1        0  \n",
              "4             0     1        0  \n",
              "5             0     1        0  "
            ],
            "text/html": [
              "\n",
              "  <div id=\"df-219bf2cd-dcb8-4ec3-8f6c-67b520f8e6d6\">\n",
              "    <div class=\"colab-df-container\">\n",
              "      <div>\n",
              "<style scoped>\n",
              "    .dataframe tbody tr th:only-of-type {\n",
              "        vertical-align: middle;\n",
              "    }\n",
              "\n",
              "    .dataframe tbody tr th {\n",
              "        vertical-align: top;\n",
              "    }\n",
              "\n",
              "    .dataframe thead th {\n",
              "        text-align: right;\n",
              "    }\n",
              "</style>\n",
              "<table border=\"1\" class=\"dataframe\">\n",
              "  <thead>\n",
              "    <tr style=\"text-align: right;\">\n",
              "      <th></th>\n",
              "      <th>year</th>\n",
              "      <th>Area</th>\n",
              "      <th>Production</th>\n",
              "      <th>Yield</th>\n",
              "      <th>Crop</th>\n",
              "      <th>Hyderabad</th>\n",
              "      <th>Karimnagar</th>\n",
              "      <th>Khammam</th>\n",
              "      <th>Mahabubnagar</th>\n",
              "      <th>Medak</th>\n",
              "      <th>Nalgonda</th>\n",
              "      <th>Nizamabad</th>\n",
              "      <th>Warangal</th>\n",
              "      <th>groundnut</th>\n",
              "      <th>maize</th>\n",
              "      <th>minor_pulses</th>\n",
              "      <th>rice</th>\n",
              "      <th>sorghum</th>\n",
              "    </tr>\n",
              "  </thead>\n",
              "  <tbody>\n",
              "    <tr>\n",
              "      <th>0</th>\n",
              "      <td>1966</td>\n",
              "      <td>42.0</td>\n",
              "      <td>52.0</td>\n",
              "      <td>1238.10</td>\n",
              "      <td>rice</td>\n",
              "      <td>1</td>\n",
              "      <td>0</td>\n",
              "      <td>0</td>\n",
              "      <td>0</td>\n",
              "      <td>0</td>\n",
              "      <td>0</td>\n",
              "      <td>0</td>\n",
              "      <td>0</td>\n",
              "      <td>0</td>\n",
              "      <td>0</td>\n",
              "      <td>0</td>\n",
              "      <td>1</td>\n",
              "      <td>0</td>\n",
              "    </tr>\n",
              "    <tr>\n",
              "      <th>2</th>\n",
              "      <td>1966</td>\n",
              "      <td>97.0</td>\n",
              "      <td>138.0</td>\n",
              "      <td>1422.68</td>\n",
              "      <td>rice</td>\n",
              "      <td>0</td>\n",
              "      <td>0</td>\n",
              "      <td>0</td>\n",
              "      <td>0</td>\n",
              "      <td>1</td>\n",
              "      <td>0</td>\n",
              "      <td>0</td>\n",
              "      <td>0</td>\n",
              "      <td>0</td>\n",
              "      <td>0</td>\n",
              "      <td>0</td>\n",
              "      <td>1</td>\n",
              "      <td>0</td>\n",
              "    </tr>\n",
              "    <tr>\n",
              "      <th>3</th>\n",
              "      <td>1966</td>\n",
              "      <td>107.0</td>\n",
              "      <td>127.0</td>\n",
              "      <td>1186.92</td>\n",
              "      <td>rice</td>\n",
              "      <td>0</td>\n",
              "      <td>0</td>\n",
              "      <td>0</td>\n",
              "      <td>1</td>\n",
              "      <td>0</td>\n",
              "      <td>0</td>\n",
              "      <td>0</td>\n",
              "      <td>0</td>\n",
              "      <td>0</td>\n",
              "      <td>0</td>\n",
              "      <td>0</td>\n",
              "      <td>1</td>\n",
              "      <td>0</td>\n",
              "    </tr>\n",
              "    <tr>\n",
              "      <th>4</th>\n",
              "      <td>1966</td>\n",
              "      <td>111.0</td>\n",
              "      <td>105.0</td>\n",
              "      <td>945.95</td>\n",
              "      <td>rice</td>\n",
              "      <td>0</td>\n",
              "      <td>0</td>\n",
              "      <td>0</td>\n",
              "      <td>0</td>\n",
              "      <td>0</td>\n",
              "      <td>1</td>\n",
              "      <td>0</td>\n",
              "      <td>0</td>\n",
              "      <td>0</td>\n",
              "      <td>0</td>\n",
              "      <td>0</td>\n",
              "      <td>1</td>\n",
              "      <td>0</td>\n",
              "    </tr>\n",
              "    <tr>\n",
              "      <th>5</th>\n",
              "      <td>1966</td>\n",
              "      <td>137.0</td>\n",
              "      <td>159.0</td>\n",
              "      <td>1160.58</td>\n",
              "      <td>rice</td>\n",
              "      <td>0</td>\n",
              "      <td>0</td>\n",
              "      <td>0</td>\n",
              "      <td>0</td>\n",
              "      <td>0</td>\n",
              "      <td>0</td>\n",
              "      <td>0</td>\n",
              "      <td>1</td>\n",
              "      <td>0</td>\n",
              "      <td>0</td>\n",
              "      <td>0</td>\n",
              "      <td>1</td>\n",
              "      <td>0</td>\n",
              "    </tr>\n",
              "  </tbody>\n",
              "</table>\n",
              "</div>\n",
              "      <button class=\"colab-df-convert\" onclick=\"convertToInteractive('df-219bf2cd-dcb8-4ec3-8f6c-67b520f8e6d6')\"\n",
              "              title=\"Convert this dataframe to an interactive table.\"\n",
              "              style=\"display:none;\">\n",
              "        \n",
              "  <svg xmlns=\"http://www.w3.org/2000/svg\" height=\"24px\"viewBox=\"0 0 24 24\"\n",
              "       width=\"24px\">\n",
              "    <path d=\"M0 0h24v24H0V0z\" fill=\"none\"/>\n",
              "    <path d=\"M18.56 5.44l.94 2.06.94-2.06 2.06-.94-2.06-.94-.94-2.06-.94 2.06-2.06.94zm-11 1L8.5 8.5l.94-2.06 2.06-.94-2.06-.94L8.5 2.5l-.94 2.06-2.06.94zm10 10l.94 2.06.94-2.06 2.06-.94-2.06-.94-.94-2.06-.94 2.06-2.06.94z\"/><path d=\"M17.41 7.96l-1.37-1.37c-.4-.4-.92-.59-1.43-.59-.52 0-1.04.2-1.43.59L10.3 9.45l-7.72 7.72c-.78.78-.78 2.05 0 2.83L4 21.41c.39.39.9.59 1.41.59.51 0 1.02-.2 1.41-.59l7.78-7.78 2.81-2.81c.8-.78.8-2.07 0-2.86zM5.41 20L4 18.59l7.72-7.72 1.47 1.35L5.41 20z\"/>\n",
              "  </svg>\n",
              "      </button>\n",
              "      \n",
              "  <style>\n",
              "    .colab-df-container {\n",
              "      display:flex;\n",
              "      flex-wrap:wrap;\n",
              "      gap: 12px;\n",
              "    }\n",
              "\n",
              "    .colab-df-convert {\n",
              "      background-color: #E8F0FE;\n",
              "      border: none;\n",
              "      border-radius: 50%;\n",
              "      cursor: pointer;\n",
              "      display: none;\n",
              "      fill: #1967D2;\n",
              "      height: 32px;\n",
              "      padding: 0 0 0 0;\n",
              "      width: 32px;\n",
              "    }\n",
              "\n",
              "    .colab-df-convert:hover {\n",
              "      background-color: #E2EBFA;\n",
              "      box-shadow: 0px 1px 2px rgba(60, 64, 67, 0.3), 0px 1px 3px 1px rgba(60, 64, 67, 0.15);\n",
              "      fill: #174EA6;\n",
              "    }\n",
              "\n",
              "    [theme=dark] .colab-df-convert {\n",
              "      background-color: #3B4455;\n",
              "      fill: #D2E3FC;\n",
              "    }\n",
              "\n",
              "    [theme=dark] .colab-df-convert:hover {\n",
              "      background-color: #434B5C;\n",
              "      box-shadow: 0px 1px 3px 1px rgba(0, 0, 0, 0.15);\n",
              "      filter: drop-shadow(0px 1px 2px rgba(0, 0, 0, 0.3));\n",
              "      fill: #FFFFFF;\n",
              "    }\n",
              "  </style>\n",
              "\n",
              "      <script>\n",
              "        const buttonEl =\n",
              "          document.querySelector('#df-219bf2cd-dcb8-4ec3-8f6c-67b520f8e6d6 button.colab-df-convert');\n",
              "        buttonEl.style.display =\n",
              "          google.colab.kernel.accessAllowed ? 'block' : 'none';\n",
              "\n",
              "        async function convertToInteractive(key) {\n",
              "          const element = document.querySelector('#df-219bf2cd-dcb8-4ec3-8f6c-67b520f8e6d6');\n",
              "          const dataTable =\n",
              "            await google.colab.kernel.invokeFunction('convertToInteractive',\n",
              "                                                     [key], {});\n",
              "          if (!dataTable) return;\n",
              "\n",
              "          const docLinkHtml = 'Like what you see? Visit the ' +\n",
              "            '<a target=\"_blank\" href=https://colab.research.google.com/notebooks/data_table.ipynb>data table notebook</a>'\n",
              "            + ' to learn more about interactive tables.';\n",
              "          element.innerHTML = '';\n",
              "          dataTable['output_type'] = 'display_data';\n",
              "          await google.colab.output.renderOutput(dataTable, element);\n",
              "          const docLink = document.createElement('div');\n",
              "          docLink.innerHTML = docLinkHtml;\n",
              "          element.appendChild(docLink);\n",
              "        }\n",
              "      </script>\n",
              "    </div>\n",
              "  </div>\n",
              "  "
            ]
          },
          "metadata": {},
          "execution_count": 30
        }
      ],
      "source": [
        "merged1.head()"
      ]
    },
    {
      "cell_type": "code",
      "execution_count": null,
      "metadata": {
        "id": "20ceaKclmZ-N"
      },
      "outputs": [],
      "source": [
        "d2=merged1.drop(['Crop','rice'],axis='columns')"
      ]
    },
    {
      "cell_type": "code",
      "execution_count": null,
      "metadata": {
        "colab": {
          "base_uri": "https://localhost:8080/",
          "height": 206
        },
        "id": "E9Pbum5dmvV8",
        "outputId": "54c186bd-7f81-4934-b47e-369d1e93edb1"
      },
      "outputs": [
        {
          "output_type": "execute_result",
          "data": {
            "text/plain": [
              "   year   Area  Production    Yield  Hyderabad  Karimnagar  Khammam  \\\n",
              "0  1966   42.0        52.0  1238.10          1           0        0   \n",
              "2  1966   97.0       138.0  1422.68          0           0        0   \n",
              "3  1966  107.0       127.0  1186.92          0           0        0   \n",
              "4  1966  111.0       105.0   945.95          0           0        0   \n",
              "5  1966  137.0       159.0  1160.58          0           0        0   \n",
              "\n",
              "   Mahabubnagar  Medak  Nalgonda  Nizamabad  Warangal  groundnut  maize  \\\n",
              "0             0      0         0          0         0          0      0   \n",
              "2             0      1         0          0         0          0      0   \n",
              "3             1      0         0          0         0          0      0   \n",
              "4             0      0         1          0         0          0      0   \n",
              "5             0      0         0          0         1          0      0   \n",
              "\n",
              "   minor_pulses  sorghum  \n",
              "0             0        0  \n",
              "2             0        0  \n",
              "3             0        0  \n",
              "4             0        0  \n",
              "5             0        0  "
            ],
            "text/html": [
              "\n",
              "  <div id=\"df-82a9f734-2914-4c49-a166-91cb50fb5c87\">\n",
              "    <div class=\"colab-df-container\">\n",
              "      <div>\n",
              "<style scoped>\n",
              "    .dataframe tbody tr th:only-of-type {\n",
              "        vertical-align: middle;\n",
              "    }\n",
              "\n",
              "    .dataframe tbody tr th {\n",
              "        vertical-align: top;\n",
              "    }\n",
              "\n",
              "    .dataframe thead th {\n",
              "        text-align: right;\n",
              "    }\n",
              "</style>\n",
              "<table border=\"1\" class=\"dataframe\">\n",
              "  <thead>\n",
              "    <tr style=\"text-align: right;\">\n",
              "      <th></th>\n",
              "      <th>year</th>\n",
              "      <th>Area</th>\n",
              "      <th>Production</th>\n",
              "      <th>Yield</th>\n",
              "      <th>Hyderabad</th>\n",
              "      <th>Karimnagar</th>\n",
              "      <th>Khammam</th>\n",
              "      <th>Mahabubnagar</th>\n",
              "      <th>Medak</th>\n",
              "      <th>Nalgonda</th>\n",
              "      <th>Nizamabad</th>\n",
              "      <th>Warangal</th>\n",
              "      <th>groundnut</th>\n",
              "      <th>maize</th>\n",
              "      <th>minor_pulses</th>\n",
              "      <th>sorghum</th>\n",
              "    </tr>\n",
              "  </thead>\n",
              "  <tbody>\n",
              "    <tr>\n",
              "      <th>0</th>\n",
              "      <td>1966</td>\n",
              "      <td>42.0</td>\n",
              "      <td>52.0</td>\n",
              "      <td>1238.10</td>\n",
              "      <td>1</td>\n",
              "      <td>0</td>\n",
              "      <td>0</td>\n",
              "      <td>0</td>\n",
              "      <td>0</td>\n",
              "      <td>0</td>\n",
              "      <td>0</td>\n",
              "      <td>0</td>\n",
              "      <td>0</td>\n",
              "      <td>0</td>\n",
              "      <td>0</td>\n",
              "      <td>0</td>\n",
              "    </tr>\n",
              "    <tr>\n",
              "      <th>2</th>\n",
              "      <td>1966</td>\n",
              "      <td>97.0</td>\n",
              "      <td>138.0</td>\n",
              "      <td>1422.68</td>\n",
              "      <td>0</td>\n",
              "      <td>0</td>\n",
              "      <td>0</td>\n",
              "      <td>0</td>\n",
              "      <td>1</td>\n",
              "      <td>0</td>\n",
              "      <td>0</td>\n",
              "      <td>0</td>\n",
              "      <td>0</td>\n",
              "      <td>0</td>\n",
              "      <td>0</td>\n",
              "      <td>0</td>\n",
              "    </tr>\n",
              "    <tr>\n",
              "      <th>3</th>\n",
              "      <td>1966</td>\n",
              "      <td>107.0</td>\n",
              "      <td>127.0</td>\n",
              "      <td>1186.92</td>\n",
              "      <td>0</td>\n",
              "      <td>0</td>\n",
              "      <td>0</td>\n",
              "      <td>1</td>\n",
              "      <td>0</td>\n",
              "      <td>0</td>\n",
              "      <td>0</td>\n",
              "      <td>0</td>\n",
              "      <td>0</td>\n",
              "      <td>0</td>\n",
              "      <td>0</td>\n",
              "      <td>0</td>\n",
              "    </tr>\n",
              "    <tr>\n",
              "      <th>4</th>\n",
              "      <td>1966</td>\n",
              "      <td>111.0</td>\n",
              "      <td>105.0</td>\n",
              "      <td>945.95</td>\n",
              "      <td>0</td>\n",
              "      <td>0</td>\n",
              "      <td>0</td>\n",
              "      <td>0</td>\n",
              "      <td>0</td>\n",
              "      <td>1</td>\n",
              "      <td>0</td>\n",
              "      <td>0</td>\n",
              "      <td>0</td>\n",
              "      <td>0</td>\n",
              "      <td>0</td>\n",
              "      <td>0</td>\n",
              "    </tr>\n",
              "    <tr>\n",
              "      <th>5</th>\n",
              "      <td>1966</td>\n",
              "      <td>137.0</td>\n",
              "      <td>159.0</td>\n",
              "      <td>1160.58</td>\n",
              "      <td>0</td>\n",
              "      <td>0</td>\n",
              "      <td>0</td>\n",
              "      <td>0</td>\n",
              "      <td>0</td>\n",
              "      <td>0</td>\n",
              "      <td>0</td>\n",
              "      <td>1</td>\n",
              "      <td>0</td>\n",
              "      <td>0</td>\n",
              "      <td>0</td>\n",
              "      <td>0</td>\n",
              "    </tr>\n",
              "  </tbody>\n",
              "</table>\n",
              "</div>\n",
              "      <button class=\"colab-df-convert\" onclick=\"convertToInteractive('df-82a9f734-2914-4c49-a166-91cb50fb5c87')\"\n",
              "              title=\"Convert this dataframe to an interactive table.\"\n",
              "              style=\"display:none;\">\n",
              "        \n",
              "  <svg xmlns=\"http://www.w3.org/2000/svg\" height=\"24px\"viewBox=\"0 0 24 24\"\n",
              "       width=\"24px\">\n",
              "    <path d=\"M0 0h24v24H0V0z\" fill=\"none\"/>\n",
              "    <path d=\"M18.56 5.44l.94 2.06.94-2.06 2.06-.94-2.06-.94-.94-2.06-.94 2.06-2.06.94zm-11 1L8.5 8.5l.94-2.06 2.06-.94-2.06-.94L8.5 2.5l-.94 2.06-2.06.94zm10 10l.94 2.06.94-2.06 2.06-.94-2.06-.94-.94-2.06-.94 2.06-2.06.94z\"/><path d=\"M17.41 7.96l-1.37-1.37c-.4-.4-.92-.59-1.43-.59-.52 0-1.04.2-1.43.59L10.3 9.45l-7.72 7.72c-.78.78-.78 2.05 0 2.83L4 21.41c.39.39.9.59 1.41.59.51 0 1.02-.2 1.41-.59l7.78-7.78 2.81-2.81c.8-.78.8-2.07 0-2.86zM5.41 20L4 18.59l7.72-7.72 1.47 1.35L5.41 20z\"/>\n",
              "  </svg>\n",
              "      </button>\n",
              "      \n",
              "  <style>\n",
              "    .colab-df-container {\n",
              "      display:flex;\n",
              "      flex-wrap:wrap;\n",
              "      gap: 12px;\n",
              "    }\n",
              "\n",
              "    .colab-df-convert {\n",
              "      background-color: #E8F0FE;\n",
              "      border: none;\n",
              "      border-radius: 50%;\n",
              "      cursor: pointer;\n",
              "      display: none;\n",
              "      fill: #1967D2;\n",
              "      height: 32px;\n",
              "      padding: 0 0 0 0;\n",
              "      width: 32px;\n",
              "    }\n",
              "\n",
              "    .colab-df-convert:hover {\n",
              "      background-color: #E2EBFA;\n",
              "      box-shadow: 0px 1px 2px rgba(60, 64, 67, 0.3), 0px 1px 3px 1px rgba(60, 64, 67, 0.15);\n",
              "      fill: #174EA6;\n",
              "    }\n",
              "\n",
              "    [theme=dark] .colab-df-convert {\n",
              "      background-color: #3B4455;\n",
              "      fill: #D2E3FC;\n",
              "    }\n",
              "\n",
              "    [theme=dark] .colab-df-convert:hover {\n",
              "      background-color: #434B5C;\n",
              "      box-shadow: 0px 1px 3px 1px rgba(0, 0, 0, 0.15);\n",
              "      filter: drop-shadow(0px 1px 2px rgba(0, 0, 0, 0.3));\n",
              "      fill: #FFFFFF;\n",
              "    }\n",
              "  </style>\n",
              "\n",
              "      <script>\n",
              "        const buttonEl =\n",
              "          document.querySelector('#df-82a9f734-2914-4c49-a166-91cb50fb5c87 button.colab-df-convert');\n",
              "        buttonEl.style.display =\n",
              "          google.colab.kernel.accessAllowed ? 'block' : 'none';\n",
              "\n",
              "        async function convertToInteractive(key) {\n",
              "          const element = document.querySelector('#df-82a9f734-2914-4c49-a166-91cb50fb5c87');\n",
              "          const dataTable =\n",
              "            await google.colab.kernel.invokeFunction('convertToInteractive',\n",
              "                                                     [key], {});\n",
              "          if (!dataTable) return;\n",
              "\n",
              "          const docLinkHtml = 'Like what you see? Visit the ' +\n",
              "            '<a target=\"_blank\" href=https://colab.research.google.com/notebooks/data_table.ipynb>data table notebook</a>'\n",
              "            + ' to learn more about interactive tables.';\n",
              "          element.innerHTML = '';\n",
              "          dataTable['output_type'] = 'display_data';\n",
              "          await google.colab.output.renderOutput(dataTable, element);\n",
              "          const docLink = document.createElement('div');\n",
              "          docLink.innerHTML = docLinkHtml;\n",
              "          element.appendChild(docLink);\n",
              "        }\n",
              "      </script>\n",
              "    </div>\n",
              "  </div>\n",
              "  "
            ]
          },
          "metadata": {},
          "execution_count": 32
        }
      ],
      "source": [
        "d2.head()"
      ]
    },
    {
      "cell_type": "code",
      "execution_count": null,
      "metadata": {
        "id": "xW3XYB-b1N_x"
      },
      "outputs": [],
      "source": [
        "from sklearn.preprocessing import MinMaxScaler\n",
        "from sklearn.preprocessing import StandardScaler\n",
        "from sklearn.model_selection import train_test_split\n"
      ]
    },
    {
      "cell_type": "code",
      "execution_count": null,
      "metadata": {
        "id": "xgEUadwwK9tn"
      },
      "outputs": [],
      "source": [
        "from sklearn.metrics import mean_squared_error, r2_score"
      ]
    },
    {
      "cell_type": "code",
      "execution_count": null,
      "metadata": {
        "id": "Dw3seKd8Ldk_"
      },
      "outputs": [],
      "source": [
        "model = LinearRegression()"
      ]
    },
    {
      "cell_type": "code",
      "execution_count": null,
      "metadata": {
        "id": "xuMB_7idLf1M"
      },
      "outputs": [],
      "source": [
        "x=d2.drop(['Yield'],axis=1)"
      ]
    },
    {
      "cell_type": "code",
      "execution_count": null,
      "metadata": {
        "id": "0Gl3hntDL519"
      },
      "outputs": [],
      "source": [
        "y=d2['Yield']"
      ]
    },
    {
      "cell_type": "code",
      "execution_count": null,
      "metadata": {
        "id": "GMFcLtP7MCCt"
      },
      "outputs": [],
      "source": [
        "\n",
        "x_train, x_test, y_train, y_test = train_test_split(x,y,test_size=0.20, random_state=365)"
      ]
    },
    {
      "cell_type": "code",
      "execution_count": null,
      "metadata": {
        "id": "yy5WDuT92025"
      },
      "outputs": [],
      "source": [
        "# Scale the training data with StandardScaler\n",
        "scaler = StandardScaler()\n",
        "x_train = scaler.fit_transform(x_train)\n",
        "x_test = scaler.transform(x_test)"
      ]
    },
    {
      "cell_type": "code",
      "source": [
        "x_test"
      ],
      "metadata": {
        "colab": {
          "base_uri": "https://localhost:8080/"
        },
        "id": "ikPbl4ZSKLj7",
        "outputId": "f53f8e41-055f-4c51-cc76-709acbe1b3ca"
      },
      "execution_count": null,
      "outputs": [
        {
          "output_type": "execute_result",
          "data": {
            "text/plain": [
              "array([[-1.61444238,  1.68968065, -0.18042973, ..., -0.45643546,\n",
              "        -0.56507814, -0.52187258],\n",
              "       [-0.93961767,  1.15376342, -0.47110035, ..., -0.45643546,\n",
              "         1.76966676, -0.52187258],\n",
              "       [-0.46724038,  0.65008804,  0.10932395, ..., -0.45643546,\n",
              "        -0.56507814,  1.91617654],\n",
              "       ...,\n",
              "       [ 0.67996163, -1.01863377, -0.76415502, ..., -0.45643546,\n",
              "        -0.56507814, -0.52187258],\n",
              "       [-1.20954756, -0.02575049, -0.52336605, ...,  2.19089023,\n",
              "        -0.56507814, -0.52187258],\n",
              "       [-0.66968779, -1.07981059, -0.84062798, ...,  2.19089023,\n",
              "        -0.56507814, -0.52187258]])"
            ]
          },
          "metadata": {},
          "execution_count": 40
        }
      ]
    },
    {
      "cell_type": "code",
      "source": [
        "y_test"
      ],
      "metadata": {
        "colab": {
          "base_uri": "https://localhost:8080/"
        },
        "id": "ysfuCEHRKQm7",
        "outputId": "e5d8edc8-828b-4e66-88cd-05b2a289272a"
      },
      "execution_count": null,
      "outputs": [
        {
          "output_type": "execute_result",
          "data": {
            "text/plain": [
              "39       281.48\n",
              "484      203.08\n",
              "780      635.18\n",
              "2197    2852.27\n",
              "2329     917.64\n",
              "         ...   \n",
              "1932    1600.00\n",
              "1437    1210.53\n",
              "1574    1558.08\n",
              "290      371.15\n",
              "652     2000.00\n",
              "Name: Yield, Length: 385, dtype: float64"
            ]
          },
          "metadata": {},
          "execution_count": 41
        }
      ]
    },
    {
      "cell_type": "code",
      "execution_count": null,
      "metadata": {
        "id": "5YHAhrnPMGZq",
        "colab": {
          "base_uri": "https://localhost:8080/",
          "height": 74
        },
        "outputId": "372f1036-3581-455e-8bf7-bf32da7feebf"
      },
      "outputs": [
        {
          "output_type": "execute_result",
          "data": {
            "text/plain": [
              "LinearRegression()"
            ],
            "text/html": [
              "<style>#sk-container-id-1 {color: black;background-color: white;}#sk-container-id-1 pre{padding: 0;}#sk-container-id-1 div.sk-toggleable {background-color: white;}#sk-container-id-1 label.sk-toggleable__label {cursor: pointer;display: block;width: 100%;margin-bottom: 0;padding: 0.3em;box-sizing: border-box;text-align: center;}#sk-container-id-1 label.sk-toggleable__label-arrow:before {content: \"▸\";float: left;margin-right: 0.25em;color: #696969;}#sk-container-id-1 label.sk-toggleable__label-arrow:hover:before {color: black;}#sk-container-id-1 div.sk-estimator:hover label.sk-toggleable__label-arrow:before {color: black;}#sk-container-id-1 div.sk-toggleable__content {max-height: 0;max-width: 0;overflow: hidden;text-align: left;background-color: #f0f8ff;}#sk-container-id-1 div.sk-toggleable__content pre {margin: 0.2em;color: black;border-radius: 0.25em;background-color: #f0f8ff;}#sk-container-id-1 input.sk-toggleable__control:checked~div.sk-toggleable__content {max-height: 200px;max-width: 100%;overflow: auto;}#sk-container-id-1 input.sk-toggleable__control:checked~label.sk-toggleable__label-arrow:before {content: \"▾\";}#sk-container-id-1 div.sk-estimator input.sk-toggleable__control:checked~label.sk-toggleable__label {background-color: #d4ebff;}#sk-container-id-1 div.sk-label input.sk-toggleable__control:checked~label.sk-toggleable__label {background-color: #d4ebff;}#sk-container-id-1 input.sk-hidden--visually {border: 0;clip: rect(1px 1px 1px 1px);clip: rect(1px, 1px, 1px, 1px);height: 1px;margin: -1px;overflow: hidden;padding: 0;position: absolute;width: 1px;}#sk-container-id-1 div.sk-estimator {font-family: monospace;background-color: #f0f8ff;border: 1px dotted black;border-radius: 0.25em;box-sizing: border-box;margin-bottom: 0.5em;}#sk-container-id-1 div.sk-estimator:hover {background-color: #d4ebff;}#sk-container-id-1 div.sk-parallel-item::after {content: \"\";width: 100%;border-bottom: 1px solid gray;flex-grow: 1;}#sk-container-id-1 div.sk-label:hover label.sk-toggleable__label {background-color: #d4ebff;}#sk-container-id-1 div.sk-serial::before {content: \"\";position: absolute;border-left: 1px solid gray;box-sizing: border-box;top: 0;bottom: 0;left: 50%;z-index: 0;}#sk-container-id-1 div.sk-serial {display: flex;flex-direction: column;align-items: center;background-color: white;padding-right: 0.2em;padding-left: 0.2em;position: relative;}#sk-container-id-1 div.sk-item {position: relative;z-index: 1;}#sk-container-id-1 div.sk-parallel {display: flex;align-items: stretch;justify-content: center;background-color: white;position: relative;}#sk-container-id-1 div.sk-item::before, #sk-container-id-1 div.sk-parallel-item::before {content: \"\";position: absolute;border-left: 1px solid gray;box-sizing: border-box;top: 0;bottom: 0;left: 50%;z-index: -1;}#sk-container-id-1 div.sk-parallel-item {display: flex;flex-direction: column;z-index: 1;position: relative;background-color: white;}#sk-container-id-1 div.sk-parallel-item:first-child::after {align-self: flex-end;width: 50%;}#sk-container-id-1 div.sk-parallel-item:last-child::after {align-self: flex-start;width: 50%;}#sk-container-id-1 div.sk-parallel-item:only-child::after {width: 0;}#sk-container-id-1 div.sk-dashed-wrapped {border: 1px dashed gray;margin: 0 0.4em 0.5em 0.4em;box-sizing: border-box;padding-bottom: 0.4em;background-color: white;}#sk-container-id-1 div.sk-label label {font-family: monospace;font-weight: bold;display: inline-block;line-height: 1.2em;}#sk-container-id-1 div.sk-label-container {text-align: center;}#sk-container-id-1 div.sk-container {/* jupyter's `normalize.less` sets `[hidden] { display: none; }` but bootstrap.min.css set `[hidden] { display: none !important; }` so we also need the `!important` here to be able to override the default hidden behavior on the sphinx rendered scikit-learn.org. See: https://github.com/scikit-learn/scikit-learn/issues/21755 */display: inline-block !important;position: relative;}#sk-container-id-1 div.sk-text-repr-fallback {display: none;}</style><div id=\"sk-container-id-1\" class=\"sk-top-container\"><div class=\"sk-text-repr-fallback\"><pre>LinearRegression()</pre><b>In a Jupyter environment, please rerun this cell to show the HTML representation or trust the notebook. <br />On GitHub, the HTML representation is unable to render, please try loading this page with nbviewer.org.</b></div><div class=\"sk-container\" hidden><div class=\"sk-item\"><div class=\"sk-estimator sk-toggleable\"><input class=\"sk-toggleable__control sk-hidden--visually\" id=\"sk-estimator-id-1\" type=\"checkbox\" checked><label for=\"sk-estimator-id-1\" class=\"sk-toggleable__label sk-toggleable__label-arrow\">LinearRegression</label><div class=\"sk-toggleable__content\"><pre>LinearRegression()</pre></div></div></div></div></div>"
            ]
          },
          "metadata": {},
          "execution_count": 42
        }
      ],
      "source": [
        "model.fit(x_train,y_train)"
      ]
    },
    {
      "cell_type": "code",
      "execution_count": null,
      "metadata": {
        "id": "ZoJoG0BhMJg2",
        "colab": {
          "base_uri": "https://localhost:8080/"
        },
        "outputId": "476ad85f-0cb4-49a1-bc25-70fd87c2da7e"
      },
      "outputs": [
        {
          "output_type": "execute_result",
          "data": {
            "text/plain": [
              "196.1259481280856"
            ]
          },
          "metadata": {},
          "execution_count": 43
        }
      ],
      "source": [
        "y_pred_lr = model.predict(x_test)\n",
        "\n",
        "mae_lr = metrics.mean_absolute_error(y_test, y_pred_lr)\n",
        "msle_lr = mean_squared_error(y_test, y_pred_lr)\n",
        "rmsle_lr = np.sqrt(mean_squared_error(y_test, y_pred_lr))\n",
        "r2_lr = r2_score(y_test, y_pred_lr)\n",
        "mae_lr"
      ]
    },
    {
      "cell_type": "code",
      "execution_count": null,
      "metadata": {
        "id": "yXZj3stTMREV",
        "colab": {
          "base_uri": "https://localhost:8080/"
        },
        "outputId": "318b80de-12ac-4af3-fafc-cd604a2a9254"
      },
      "outputs": [
        {
          "output_type": "execute_result",
          "data": {
            "text/plain": [
              "0.8134173954609974"
            ]
          },
          "metadata": {},
          "execution_count": 44
        }
      ],
      "source": [
        "r2_lr"
      ]
    },
    {
      "cell_type": "code",
      "execution_count": null,
      "metadata": {
        "id": "8v6kkeO99m8I"
      },
      "outputs": [],
      "source": [
        "from sklearn import linear_model\n",
        "\n",
        "model=linear_model.Lasso(alpha=50,max_iter=100,tol=0.1)\n",
        "\n"
      ]
    },
    {
      "cell_type": "code",
      "execution_count": null,
      "metadata": {
        "id": "64O9WjiZ-QuY",
        "colab": {
          "base_uri": "https://localhost:8080/",
          "height": 74
        },
        "outputId": "fc8dd927-4e72-4f79-e352-ca09d27de368"
      },
      "outputs": [
        {
          "output_type": "execute_result",
          "data": {
            "text/plain": [
              "Lasso(alpha=50, max_iter=100, tol=0.1)"
            ],
            "text/html": [
              "<style>#sk-container-id-2 {color: black;background-color: white;}#sk-container-id-2 pre{padding: 0;}#sk-container-id-2 div.sk-toggleable {background-color: white;}#sk-container-id-2 label.sk-toggleable__label {cursor: pointer;display: block;width: 100%;margin-bottom: 0;padding: 0.3em;box-sizing: border-box;text-align: center;}#sk-container-id-2 label.sk-toggleable__label-arrow:before {content: \"▸\";float: left;margin-right: 0.25em;color: #696969;}#sk-container-id-2 label.sk-toggleable__label-arrow:hover:before {color: black;}#sk-container-id-2 div.sk-estimator:hover label.sk-toggleable__label-arrow:before {color: black;}#sk-container-id-2 div.sk-toggleable__content {max-height: 0;max-width: 0;overflow: hidden;text-align: left;background-color: #f0f8ff;}#sk-container-id-2 div.sk-toggleable__content pre {margin: 0.2em;color: black;border-radius: 0.25em;background-color: #f0f8ff;}#sk-container-id-2 input.sk-toggleable__control:checked~div.sk-toggleable__content {max-height: 200px;max-width: 100%;overflow: auto;}#sk-container-id-2 input.sk-toggleable__control:checked~label.sk-toggleable__label-arrow:before {content: \"▾\";}#sk-container-id-2 div.sk-estimator input.sk-toggleable__control:checked~label.sk-toggleable__label {background-color: #d4ebff;}#sk-container-id-2 div.sk-label input.sk-toggleable__control:checked~label.sk-toggleable__label {background-color: #d4ebff;}#sk-container-id-2 input.sk-hidden--visually {border: 0;clip: rect(1px 1px 1px 1px);clip: rect(1px, 1px, 1px, 1px);height: 1px;margin: -1px;overflow: hidden;padding: 0;position: absolute;width: 1px;}#sk-container-id-2 div.sk-estimator {font-family: monospace;background-color: #f0f8ff;border: 1px dotted black;border-radius: 0.25em;box-sizing: border-box;margin-bottom: 0.5em;}#sk-container-id-2 div.sk-estimator:hover {background-color: #d4ebff;}#sk-container-id-2 div.sk-parallel-item::after {content: \"\";width: 100%;border-bottom: 1px solid gray;flex-grow: 1;}#sk-container-id-2 div.sk-label:hover label.sk-toggleable__label {background-color: #d4ebff;}#sk-container-id-2 div.sk-serial::before {content: \"\";position: absolute;border-left: 1px solid gray;box-sizing: border-box;top: 0;bottom: 0;left: 50%;z-index: 0;}#sk-container-id-2 div.sk-serial {display: flex;flex-direction: column;align-items: center;background-color: white;padding-right: 0.2em;padding-left: 0.2em;position: relative;}#sk-container-id-2 div.sk-item {position: relative;z-index: 1;}#sk-container-id-2 div.sk-parallel {display: flex;align-items: stretch;justify-content: center;background-color: white;position: relative;}#sk-container-id-2 div.sk-item::before, #sk-container-id-2 div.sk-parallel-item::before {content: \"\";position: absolute;border-left: 1px solid gray;box-sizing: border-box;top: 0;bottom: 0;left: 50%;z-index: -1;}#sk-container-id-2 div.sk-parallel-item {display: flex;flex-direction: column;z-index: 1;position: relative;background-color: white;}#sk-container-id-2 div.sk-parallel-item:first-child::after {align-self: flex-end;width: 50%;}#sk-container-id-2 div.sk-parallel-item:last-child::after {align-self: flex-start;width: 50%;}#sk-container-id-2 div.sk-parallel-item:only-child::after {width: 0;}#sk-container-id-2 div.sk-dashed-wrapped {border: 1px dashed gray;margin: 0 0.4em 0.5em 0.4em;box-sizing: border-box;padding-bottom: 0.4em;background-color: white;}#sk-container-id-2 div.sk-label label {font-family: monospace;font-weight: bold;display: inline-block;line-height: 1.2em;}#sk-container-id-2 div.sk-label-container {text-align: center;}#sk-container-id-2 div.sk-container {/* jupyter's `normalize.less` sets `[hidden] { display: none; }` but bootstrap.min.css set `[hidden] { display: none !important; }` so we also need the `!important` here to be able to override the default hidden behavior on the sphinx rendered scikit-learn.org. See: https://github.com/scikit-learn/scikit-learn/issues/21755 */display: inline-block !important;position: relative;}#sk-container-id-2 div.sk-text-repr-fallback {display: none;}</style><div id=\"sk-container-id-2\" class=\"sk-top-container\"><div class=\"sk-text-repr-fallback\"><pre>Lasso(alpha=50, max_iter=100, tol=0.1)</pre><b>In a Jupyter environment, please rerun this cell to show the HTML representation or trust the notebook. <br />On GitHub, the HTML representation is unable to render, please try loading this page with nbviewer.org.</b></div><div class=\"sk-container\" hidden><div class=\"sk-item\"><div class=\"sk-estimator sk-toggleable\"><input class=\"sk-toggleable__control sk-hidden--visually\" id=\"sk-estimator-id-2\" type=\"checkbox\" checked><label for=\"sk-estimator-id-2\" class=\"sk-toggleable__label sk-toggleable__label-arrow\">Lasso</label><div class=\"sk-toggleable__content\"><pre>Lasso(alpha=50, max_iter=100, tol=0.1)</pre></div></div></div></div></div>"
            ]
          },
          "metadata": {},
          "execution_count": 46
        }
      ],
      "source": [
        "model.fit(x_train,y_train)\n"
      ]
    },
    {
      "cell_type": "code",
      "execution_count": null,
      "metadata": {
        "id": "15WusQGT_XDy",
        "colab": {
          "base_uri": "https://localhost:8080/"
        },
        "outputId": "5a267eff-5a8a-4b33-d612-ad87719ec1c3"
      },
      "outputs": [
        {
          "output_type": "execute_result",
          "data": {
            "text/plain": [
              "0.7595243663628044"
            ]
          },
          "metadata": {},
          "execution_count": 47
        }
      ],
      "source": [
        "y_pred = model.predict(x_test)\n",
        "r2=r2_score(y_test, y_pred)\n",
        "r2\n"
      ]
    },
    {
      "cell_type": "code",
      "execution_count": null,
      "metadata": {
        "id": "nz1EzrAHMbFH"
      },
      "outputs": [],
      "source": [
        "#Gradient Boosting\n",
        "from sklearn.ensemble import GradientBoostingRegressor\n",
        "from sklearn.preprocessing import StandardScaler\n",
        "from sklearn.metrics import mean_squared_error\n",
        "from sklearn.model_selection import train_test_split\n",
        "from sklearn.metrics import accuracy_score, confusion_matrix\n",
        "from sklearn import preprocessing\n",
        "from sklearn import datasets, ensemble\n",
        "from sklearn.inspection import permutation_importance\n",
        "from sklearn.metrics import mean_absolute_error\n",
        "from sklearn.ensemble import GradientBoostingRegressor"
      ]
    },
    {
      "cell_type": "code",
      "execution_count": null,
      "metadata": {
        "id": "lcXvX2VQOxrK",
        "colab": {
          "base_uri": "https://localhost:8080/",
          "height": 91
        },
        "outputId": "a8a335f7-fe8f-4bac-e0a1-8cf183db4510"
      },
      "outputs": [
        {
          "output_type": "execute_result",
          "data": {
            "text/plain": [
              "GradientBoostingRegressor(learning_rate=0.05, max_features=5, n_estimators=1000,\n",
              "                          random_state=100)"
            ],
            "text/html": [
              "<style>#sk-container-id-3 {color: black;background-color: white;}#sk-container-id-3 pre{padding: 0;}#sk-container-id-3 div.sk-toggleable {background-color: white;}#sk-container-id-3 label.sk-toggleable__label {cursor: pointer;display: block;width: 100%;margin-bottom: 0;padding: 0.3em;box-sizing: border-box;text-align: center;}#sk-container-id-3 label.sk-toggleable__label-arrow:before {content: \"▸\";float: left;margin-right: 0.25em;color: #696969;}#sk-container-id-3 label.sk-toggleable__label-arrow:hover:before {color: black;}#sk-container-id-3 div.sk-estimator:hover label.sk-toggleable__label-arrow:before {color: black;}#sk-container-id-3 div.sk-toggleable__content {max-height: 0;max-width: 0;overflow: hidden;text-align: left;background-color: #f0f8ff;}#sk-container-id-3 div.sk-toggleable__content pre {margin: 0.2em;color: black;border-radius: 0.25em;background-color: #f0f8ff;}#sk-container-id-3 input.sk-toggleable__control:checked~div.sk-toggleable__content {max-height: 200px;max-width: 100%;overflow: auto;}#sk-container-id-3 input.sk-toggleable__control:checked~label.sk-toggleable__label-arrow:before {content: \"▾\";}#sk-container-id-3 div.sk-estimator input.sk-toggleable__control:checked~label.sk-toggleable__label {background-color: #d4ebff;}#sk-container-id-3 div.sk-label input.sk-toggleable__control:checked~label.sk-toggleable__label {background-color: #d4ebff;}#sk-container-id-3 input.sk-hidden--visually {border: 0;clip: rect(1px 1px 1px 1px);clip: rect(1px, 1px, 1px, 1px);height: 1px;margin: -1px;overflow: hidden;padding: 0;position: absolute;width: 1px;}#sk-container-id-3 div.sk-estimator {font-family: monospace;background-color: #f0f8ff;border: 1px dotted black;border-radius: 0.25em;box-sizing: border-box;margin-bottom: 0.5em;}#sk-container-id-3 div.sk-estimator:hover {background-color: #d4ebff;}#sk-container-id-3 div.sk-parallel-item::after {content: \"\";width: 100%;border-bottom: 1px solid gray;flex-grow: 1;}#sk-container-id-3 div.sk-label:hover label.sk-toggleable__label {background-color: #d4ebff;}#sk-container-id-3 div.sk-serial::before {content: \"\";position: absolute;border-left: 1px solid gray;box-sizing: border-box;top: 0;bottom: 0;left: 50%;z-index: 0;}#sk-container-id-3 div.sk-serial {display: flex;flex-direction: column;align-items: center;background-color: white;padding-right: 0.2em;padding-left: 0.2em;position: relative;}#sk-container-id-3 div.sk-item {position: relative;z-index: 1;}#sk-container-id-3 div.sk-parallel {display: flex;align-items: stretch;justify-content: center;background-color: white;position: relative;}#sk-container-id-3 div.sk-item::before, #sk-container-id-3 div.sk-parallel-item::before {content: \"\";position: absolute;border-left: 1px solid gray;box-sizing: border-box;top: 0;bottom: 0;left: 50%;z-index: -1;}#sk-container-id-3 div.sk-parallel-item {display: flex;flex-direction: column;z-index: 1;position: relative;background-color: white;}#sk-container-id-3 div.sk-parallel-item:first-child::after {align-self: flex-end;width: 50%;}#sk-container-id-3 div.sk-parallel-item:last-child::after {align-self: flex-start;width: 50%;}#sk-container-id-3 div.sk-parallel-item:only-child::after {width: 0;}#sk-container-id-3 div.sk-dashed-wrapped {border: 1px dashed gray;margin: 0 0.4em 0.5em 0.4em;box-sizing: border-box;padding-bottom: 0.4em;background-color: white;}#sk-container-id-3 div.sk-label label {font-family: monospace;font-weight: bold;display: inline-block;line-height: 1.2em;}#sk-container-id-3 div.sk-label-container {text-align: center;}#sk-container-id-3 div.sk-container {/* jupyter's `normalize.less` sets `[hidden] { display: none; }` but bootstrap.min.css set `[hidden] { display: none !important; }` so we also need the `!important` here to be able to override the default hidden behavior on the sphinx rendered scikit-learn.org. See: https://github.com/scikit-learn/scikit-learn/issues/21755 */display: inline-block !important;position: relative;}#sk-container-id-3 div.sk-text-repr-fallback {display: none;}</style><div id=\"sk-container-id-3\" class=\"sk-top-container\"><div class=\"sk-text-repr-fallback\"><pre>GradientBoostingRegressor(learning_rate=0.05, max_features=5, n_estimators=1000,\n",
              "                          random_state=100)</pre><b>In a Jupyter environment, please rerun this cell to show the HTML representation or trust the notebook. <br />On GitHub, the HTML representation is unable to render, please try loading this page with nbviewer.org.</b></div><div class=\"sk-container\" hidden><div class=\"sk-item\"><div class=\"sk-estimator sk-toggleable\"><input class=\"sk-toggleable__control sk-hidden--visually\" id=\"sk-estimator-id-3\" type=\"checkbox\" checked><label for=\"sk-estimator-id-3\" class=\"sk-toggleable__label sk-toggleable__label-arrow\">GradientBoostingRegressor</label><div class=\"sk-toggleable__content\"><pre>GradientBoostingRegressor(learning_rate=0.05, max_features=5, n_estimators=1000,\n",
              "                          random_state=100)</pre></div></div></div></div></div>"
            ]
          },
          "metadata": {},
          "execution_count": 49
        }
      ],
      "source": [
        "gbc=GradientBoostingRegressor(n_estimators=1000,learning_rate=0.05,random_state=100,max_features=5 )\n",
        "gbc.fit(x_train,y_train)\n",
        "     "
      ]
    },
    {
      "cell_type": "code",
      "execution_count": null,
      "metadata": {
        "id": "YHjaf1dqOzg4",
        "colab": {
          "base_uri": "https://localhost:8080/"
        },
        "outputId": "fa557c40-9a20-4cd4-9918-3bde77acd417"
      },
      "outputs": [
        {
          "output_type": "execute_result",
          "data": {
            "text/plain": [
              "0.9518024940785462"
            ]
          },
          "metadata": {},
          "execution_count": 50
        }
      ],
      "source": [
        "y_pred = gbc.predict(x_test)\n",
        "mae_gbr = mean_absolute_error(y_test, y_pred)\n",
        "msle_gbr = mean_squared_error(y_test, y_pred)\n",
        "rmsle_gbr = np.sqrt(mean_squared_error(y_test, y_pred))\n",
        "r2_gbr = r2_score(y_test, y_pred)\n",
        "r2_gbr    "
      ]
    },
    {
      "cell_type": "code",
      "execution_count": null,
      "metadata": {
        "id": "RA0ag6p-O5b2"
      },
      "outputs": [],
      "source": [
        "#Ada boost\n",
        "\n",
        "from sklearn.ensemble import AdaBoostRegressor"
      ]
    },
    {
      "cell_type": "code",
      "execution_count": null,
      "metadata": {
        "id": "CM4G1xQ1O-ri",
        "colab": {
          "base_uri": "https://localhost:8080/",
          "height": 74
        },
        "outputId": "9ac962dd-dcab-4102-b433-b891ed24db52"
      },
      "outputs": [
        {
          "output_type": "execute_result",
          "data": {
            "text/plain": [
              "AdaBoostRegressor(learning_rate=0.05, n_estimators=1000, random_state=100)"
            ],
            "text/html": [
              "<style>#sk-container-id-4 {color: black;background-color: white;}#sk-container-id-4 pre{padding: 0;}#sk-container-id-4 div.sk-toggleable {background-color: white;}#sk-container-id-4 label.sk-toggleable__label {cursor: pointer;display: block;width: 100%;margin-bottom: 0;padding: 0.3em;box-sizing: border-box;text-align: center;}#sk-container-id-4 label.sk-toggleable__label-arrow:before {content: \"▸\";float: left;margin-right: 0.25em;color: #696969;}#sk-container-id-4 label.sk-toggleable__label-arrow:hover:before {color: black;}#sk-container-id-4 div.sk-estimator:hover label.sk-toggleable__label-arrow:before {color: black;}#sk-container-id-4 div.sk-toggleable__content {max-height: 0;max-width: 0;overflow: hidden;text-align: left;background-color: #f0f8ff;}#sk-container-id-4 div.sk-toggleable__content pre {margin: 0.2em;color: black;border-radius: 0.25em;background-color: #f0f8ff;}#sk-container-id-4 input.sk-toggleable__control:checked~div.sk-toggleable__content {max-height: 200px;max-width: 100%;overflow: auto;}#sk-container-id-4 input.sk-toggleable__control:checked~label.sk-toggleable__label-arrow:before {content: \"▾\";}#sk-container-id-4 div.sk-estimator input.sk-toggleable__control:checked~label.sk-toggleable__label {background-color: #d4ebff;}#sk-container-id-4 div.sk-label input.sk-toggleable__control:checked~label.sk-toggleable__label {background-color: #d4ebff;}#sk-container-id-4 input.sk-hidden--visually {border: 0;clip: rect(1px 1px 1px 1px);clip: rect(1px, 1px, 1px, 1px);height: 1px;margin: -1px;overflow: hidden;padding: 0;position: absolute;width: 1px;}#sk-container-id-4 div.sk-estimator {font-family: monospace;background-color: #f0f8ff;border: 1px dotted black;border-radius: 0.25em;box-sizing: border-box;margin-bottom: 0.5em;}#sk-container-id-4 div.sk-estimator:hover {background-color: #d4ebff;}#sk-container-id-4 div.sk-parallel-item::after {content: \"\";width: 100%;border-bottom: 1px solid gray;flex-grow: 1;}#sk-container-id-4 div.sk-label:hover label.sk-toggleable__label {background-color: #d4ebff;}#sk-container-id-4 div.sk-serial::before {content: \"\";position: absolute;border-left: 1px solid gray;box-sizing: border-box;top: 0;bottom: 0;left: 50%;z-index: 0;}#sk-container-id-4 div.sk-serial {display: flex;flex-direction: column;align-items: center;background-color: white;padding-right: 0.2em;padding-left: 0.2em;position: relative;}#sk-container-id-4 div.sk-item {position: relative;z-index: 1;}#sk-container-id-4 div.sk-parallel {display: flex;align-items: stretch;justify-content: center;background-color: white;position: relative;}#sk-container-id-4 div.sk-item::before, #sk-container-id-4 div.sk-parallel-item::before {content: \"\";position: absolute;border-left: 1px solid gray;box-sizing: border-box;top: 0;bottom: 0;left: 50%;z-index: -1;}#sk-container-id-4 div.sk-parallel-item {display: flex;flex-direction: column;z-index: 1;position: relative;background-color: white;}#sk-container-id-4 div.sk-parallel-item:first-child::after {align-self: flex-end;width: 50%;}#sk-container-id-4 div.sk-parallel-item:last-child::after {align-self: flex-start;width: 50%;}#sk-container-id-4 div.sk-parallel-item:only-child::after {width: 0;}#sk-container-id-4 div.sk-dashed-wrapped {border: 1px dashed gray;margin: 0 0.4em 0.5em 0.4em;box-sizing: border-box;padding-bottom: 0.4em;background-color: white;}#sk-container-id-4 div.sk-label label {font-family: monospace;font-weight: bold;display: inline-block;line-height: 1.2em;}#sk-container-id-4 div.sk-label-container {text-align: center;}#sk-container-id-4 div.sk-container {/* jupyter's `normalize.less` sets `[hidden] { display: none; }` but bootstrap.min.css set `[hidden] { display: none !important; }` so we also need the `!important` here to be able to override the default hidden behavior on the sphinx rendered scikit-learn.org. See: https://github.com/scikit-learn/scikit-learn/issues/21755 */display: inline-block !important;position: relative;}#sk-container-id-4 div.sk-text-repr-fallback {display: none;}</style><div id=\"sk-container-id-4\" class=\"sk-top-container\"><div class=\"sk-text-repr-fallback\"><pre>AdaBoostRegressor(learning_rate=0.05, n_estimators=1000, random_state=100)</pre><b>In a Jupyter environment, please rerun this cell to show the HTML representation or trust the notebook. <br />On GitHub, the HTML representation is unable to render, please try loading this page with nbviewer.org.</b></div><div class=\"sk-container\" hidden><div class=\"sk-item\"><div class=\"sk-estimator sk-toggleable\"><input class=\"sk-toggleable__control sk-hidden--visually\" id=\"sk-estimator-id-4\" type=\"checkbox\" checked><label for=\"sk-estimator-id-4\" class=\"sk-toggleable__label sk-toggleable__label-arrow\">AdaBoostRegressor</label><div class=\"sk-toggleable__content\"><pre>AdaBoostRegressor(learning_rate=0.05, n_estimators=1000, random_state=100)</pre></div></div></div></div></div>"
            ]
          },
          "metadata": {},
          "execution_count": 52
        }
      ],
      "source": [
        "abr=AdaBoostRegressor(n_estimators=1000,learning_rate=0.05,random_state=100)\n",
        "abr.fit(x_train,y_train)"
      ]
    },
    {
      "cell_type": "code",
      "execution_count": null,
      "metadata": {
        "id": "AlJCEBxEPCn7",
        "colab": {
          "base_uri": "https://localhost:8080/"
        },
        "outputId": "20222551-54e2-47de-80bb-a0a5be564c1d"
      },
      "outputs": [
        {
          "output_type": "execute_result",
          "data": {
            "text/plain": [
              "0.7347104572301085"
            ]
          },
          "metadata": {},
          "execution_count": 53
        }
      ],
      "source": [
        "\n",
        "y_pred = abr.predict(x_test)\n",
        "mae_ab = mean_absolute_error(y_test, y_pred)\n",
        "msle_ab = mean_squared_error(y_test, y_pred)\n",
        "rmsle_ab = np.sqrt(mean_squared_error(y_test, y_pred))\n",
        "r2_ab = r2_score(y_test, y_pred)\n",
        "r2_ab"
      ]
    },
    {
      "cell_type": "code",
      "execution_count": null,
      "metadata": {
        "id": "6YMWxEWLPHKX"
      },
      "outputs": [],
      "source": [
        "#XG boosting\n",
        "from sklearn.model_selection import train_test_split \n",
        "from sklearn.metrics import classification_report\n",
        "from xgboost import XGBRegressor "
      ]
    },
    {
      "cell_type": "code",
      "execution_count": null,
      "metadata": {
        "id": "YyZvcgCiPLYS"
      },
      "outputs": [],
      "source": [
        "from xgboost import XGBRegressor\n",
        "clf = XGBRegressor(n_estimators=1000,random_state=100)\n",
        "clf.fit(x_train, y_train)\n",
        "predicted=clf.predict(x_test)\n"
      ]
    },
    {
      "cell_type": "code",
      "execution_count": null,
      "metadata": {
        "id": "NkWaxNjNPM8-"
      },
      "outputs": [],
      "source": [
        "y_pred = clf.predict(x_test)\n",
        "\n",
        "     "
      ]
    },
    {
      "cell_type": "code",
      "execution_count": null,
      "metadata": {
        "id": "gg5ZvelNPPu9",
        "colab": {
          "base_uri": "https://localhost:8080/"
        },
        "outputId": "5c3c2f8e-6a56-4b33-a5a8-682906066ebc"
      },
      "outputs": [
        {
          "output_type": "execute_result",
          "data": {
            "text/plain": [
              "0.9593054792681688"
            ]
          },
          "metadata": {},
          "execution_count": 57
        }
      ],
      "source": [
        "\n",
        "mae_xgb = mean_absolute_error(y_test, y_pred)\n",
        "msle_xgb = mean_squared_error(y_test, y_pred)\n",
        "rmsle_xgb = np.sqrt(mean_squared_error(y_test, y_pred))\n",
        "r2_xgb = r2_score(y_test, y_pred)\n",
        "r2_xgb\n"
      ]
    },
    {
      "cell_type": "code",
      "execution_count": null,
      "metadata": {
        "id": "1i_Bs6qDPVeE"
      },
      "outputs": [],
      "source": [
        "#Bagging\n",
        "\n",
        "from sklearn.model_selection import cross_val_score\n",
        "from sklearn.model_selection import RepeatedKFold\n",
        "from sklearn.ensemble import BaggingRegressor"
      ]
    },
    {
      "cell_type": "code",
      "execution_count": null,
      "metadata": {
        "id": "gz6phk8JPYtk"
      },
      "outputs": [],
      "source": [
        "clfbg = BaggingRegressor(n_estimators = 1000, random_state =100)\n",
        "clfbg.fit(x_train, y_train)\n",
        "predictbg= clfbg.predict(x_test)"
      ]
    },
    {
      "cell_type": "code",
      "execution_count": null,
      "metadata": {
        "id": "TOyc_DUMPbVO",
        "colab": {
          "base_uri": "https://localhost:8080/"
        },
        "outputId": "db0d0c23-44f3-4457-ab1a-f6b792d82c65"
      },
      "outputs": [
        {
          "output_type": "execute_result",
          "data": {
            "text/plain": [
              "0.9303912565284527"
            ]
          },
          "metadata": {},
          "execution_count": 60
        }
      ],
      "source": [
        "maebg = metrics.mean_absolute_error(y_test, predictbg)\n",
        "msebg = metrics.mean_squared_error(y_test,predictbg)\n",
        "rmsebg = np.sqrt(msebg)   \n",
        "r2bg = metrics.r2_score(y_test,predictbg)\n",
        "r2bg    "
      ]
    },
    {
      "cell_type": "code",
      "execution_count": null,
      "metadata": {
        "id": "SxOK2jn0Phle"
      },
      "outputs": [],
      "source": [
        "#Decision Tree Regressor\n",
        "from sklearn.tree import DecisionTreeRegressor"
      ]
    },
    {
      "cell_type": "code",
      "execution_count": null,
      "metadata": {
        "id": "g0dIC_-1Pljx",
        "colab": {
          "base_uri": "https://localhost:8080/",
          "height": 74
        },
        "outputId": "5b3aa709-1af5-44cc-d845-59dbaf236e26"
      },
      "outputs": [
        {
          "output_type": "execute_result",
          "data": {
            "text/plain": [
              "DecisionTreeRegressor(min_samples_leaf=5)"
            ],
            "text/html": [
              "<style>#sk-container-id-5 {color: black;background-color: white;}#sk-container-id-5 pre{padding: 0;}#sk-container-id-5 div.sk-toggleable {background-color: white;}#sk-container-id-5 label.sk-toggleable__label {cursor: pointer;display: block;width: 100%;margin-bottom: 0;padding: 0.3em;box-sizing: border-box;text-align: center;}#sk-container-id-5 label.sk-toggleable__label-arrow:before {content: \"▸\";float: left;margin-right: 0.25em;color: #696969;}#sk-container-id-5 label.sk-toggleable__label-arrow:hover:before {color: black;}#sk-container-id-5 div.sk-estimator:hover label.sk-toggleable__label-arrow:before {color: black;}#sk-container-id-5 div.sk-toggleable__content {max-height: 0;max-width: 0;overflow: hidden;text-align: left;background-color: #f0f8ff;}#sk-container-id-5 div.sk-toggleable__content pre {margin: 0.2em;color: black;border-radius: 0.25em;background-color: #f0f8ff;}#sk-container-id-5 input.sk-toggleable__control:checked~div.sk-toggleable__content {max-height: 200px;max-width: 100%;overflow: auto;}#sk-container-id-5 input.sk-toggleable__control:checked~label.sk-toggleable__label-arrow:before {content: \"▾\";}#sk-container-id-5 div.sk-estimator input.sk-toggleable__control:checked~label.sk-toggleable__label {background-color: #d4ebff;}#sk-container-id-5 div.sk-label input.sk-toggleable__control:checked~label.sk-toggleable__label {background-color: #d4ebff;}#sk-container-id-5 input.sk-hidden--visually {border: 0;clip: rect(1px 1px 1px 1px);clip: rect(1px, 1px, 1px, 1px);height: 1px;margin: -1px;overflow: hidden;padding: 0;position: absolute;width: 1px;}#sk-container-id-5 div.sk-estimator {font-family: monospace;background-color: #f0f8ff;border: 1px dotted black;border-radius: 0.25em;box-sizing: border-box;margin-bottom: 0.5em;}#sk-container-id-5 div.sk-estimator:hover {background-color: #d4ebff;}#sk-container-id-5 div.sk-parallel-item::after {content: \"\";width: 100%;border-bottom: 1px solid gray;flex-grow: 1;}#sk-container-id-5 div.sk-label:hover label.sk-toggleable__label {background-color: #d4ebff;}#sk-container-id-5 div.sk-serial::before {content: \"\";position: absolute;border-left: 1px solid gray;box-sizing: border-box;top: 0;bottom: 0;left: 50%;z-index: 0;}#sk-container-id-5 div.sk-serial {display: flex;flex-direction: column;align-items: center;background-color: white;padding-right: 0.2em;padding-left: 0.2em;position: relative;}#sk-container-id-5 div.sk-item {position: relative;z-index: 1;}#sk-container-id-5 div.sk-parallel {display: flex;align-items: stretch;justify-content: center;background-color: white;position: relative;}#sk-container-id-5 div.sk-item::before, #sk-container-id-5 div.sk-parallel-item::before {content: \"\";position: absolute;border-left: 1px solid gray;box-sizing: border-box;top: 0;bottom: 0;left: 50%;z-index: -1;}#sk-container-id-5 div.sk-parallel-item {display: flex;flex-direction: column;z-index: 1;position: relative;background-color: white;}#sk-container-id-5 div.sk-parallel-item:first-child::after {align-self: flex-end;width: 50%;}#sk-container-id-5 div.sk-parallel-item:last-child::after {align-self: flex-start;width: 50%;}#sk-container-id-5 div.sk-parallel-item:only-child::after {width: 0;}#sk-container-id-5 div.sk-dashed-wrapped {border: 1px dashed gray;margin: 0 0.4em 0.5em 0.4em;box-sizing: border-box;padding-bottom: 0.4em;background-color: white;}#sk-container-id-5 div.sk-label label {font-family: monospace;font-weight: bold;display: inline-block;line-height: 1.2em;}#sk-container-id-5 div.sk-label-container {text-align: center;}#sk-container-id-5 div.sk-container {/* jupyter's `normalize.less` sets `[hidden] { display: none; }` but bootstrap.min.css set `[hidden] { display: none !important; }` so we also need the `!important` here to be able to override the default hidden behavior on the sphinx rendered scikit-learn.org. See: https://github.com/scikit-learn/scikit-learn/issues/21755 */display: inline-block !important;position: relative;}#sk-container-id-5 div.sk-text-repr-fallback {display: none;}</style><div id=\"sk-container-id-5\" class=\"sk-top-container\"><div class=\"sk-text-repr-fallback\"><pre>DecisionTreeRegressor(min_samples_leaf=5)</pre><b>In a Jupyter environment, please rerun this cell to show the HTML representation or trust the notebook. <br />On GitHub, the HTML representation is unable to render, please try loading this page with nbviewer.org.</b></div><div class=\"sk-container\" hidden><div class=\"sk-item\"><div class=\"sk-estimator sk-toggleable\"><input class=\"sk-toggleable__control sk-hidden--visually\" id=\"sk-estimator-id-5\" type=\"checkbox\" checked><label for=\"sk-estimator-id-5\" class=\"sk-toggleable__label sk-toggleable__label-arrow\">DecisionTreeRegressor</label><div class=\"sk-toggleable__content\"><pre>DecisionTreeRegressor(min_samples_leaf=5)</pre></div></div></div></div></div>"
            ]
          },
          "metadata": {},
          "execution_count": 62
        }
      ],
      "source": [
        "\n",
        "regression_model = DecisionTreeRegressor(criterion=\"squared_error\",min_samples_leaf=5) \n",
        "regression_model.fit(x_train,y_train)"
      ]
    },
    {
      "cell_type": "code",
      "execution_count": null,
      "metadata": {
        "id": "emGryTHFPnMu",
        "colab": {
          "base_uri": "https://localhost:8080/"
        },
        "outputId": "c1e2db91-d71c-45c9-f842-509796e77038"
      },
      "outputs": [
        {
          "output_type": "execute_result",
          "data": {
            "text/plain": [
              "0.8878457589116282"
            ]
          },
          "metadata": {},
          "execution_count": 63
        }
      ],
      "source": [
        "predicted = regression_model.predict(x_test)\n",
        "mae_dt = mean_absolute_error(y_test, predicted)\n",
        "msle_dt = mean_squared_error(y_test, predicted)\n",
        "rmsle_dt = np.sqrt(mean_squared_error(y_test, predicted))\n",
        "r2_dt = r2_score(y_test, predicted)\n",
        "r2_dt"
      ]
    },
    {
      "cell_type": "code",
      "execution_count": null,
      "metadata": {
        "id": "G3tgeL9SPzWB"
      },
      "outputs": [],
      "source": [
        "#Random Forest Regression\n",
        "\n",
        "from sklearn.ensemble import RandomForestRegressor"
      ]
    },
    {
      "cell_type": "code",
      "execution_count": null,
      "metadata": {
        "id": "QlExTTIcP4Z3"
      },
      "outputs": [],
      "source": [
        "regressor = RandomForestRegressor(n_estimators = 10, random_state = 100)"
      ]
    },
    {
      "cell_type": "code",
      "execution_count": null,
      "metadata": {
        "id": "te55xKYoP7se",
        "colab": {
          "base_uri": "https://localhost:8080/",
          "height": 74
        },
        "outputId": "853732f3-0e00-47fe-b350-d5e1ebb196f2"
      },
      "outputs": [
        {
          "output_type": "execute_result",
          "data": {
            "text/plain": [
              "RandomForestRegressor(n_estimators=10, random_state=100)"
            ],
            "text/html": [
              "<style>#sk-container-id-6 {color: black;background-color: white;}#sk-container-id-6 pre{padding: 0;}#sk-container-id-6 div.sk-toggleable {background-color: white;}#sk-container-id-6 label.sk-toggleable__label {cursor: pointer;display: block;width: 100%;margin-bottom: 0;padding: 0.3em;box-sizing: border-box;text-align: center;}#sk-container-id-6 label.sk-toggleable__label-arrow:before {content: \"▸\";float: left;margin-right: 0.25em;color: #696969;}#sk-container-id-6 label.sk-toggleable__label-arrow:hover:before {color: black;}#sk-container-id-6 div.sk-estimator:hover label.sk-toggleable__label-arrow:before {color: black;}#sk-container-id-6 div.sk-toggleable__content {max-height: 0;max-width: 0;overflow: hidden;text-align: left;background-color: #f0f8ff;}#sk-container-id-6 div.sk-toggleable__content pre {margin: 0.2em;color: black;border-radius: 0.25em;background-color: #f0f8ff;}#sk-container-id-6 input.sk-toggleable__control:checked~div.sk-toggleable__content {max-height: 200px;max-width: 100%;overflow: auto;}#sk-container-id-6 input.sk-toggleable__control:checked~label.sk-toggleable__label-arrow:before {content: \"▾\";}#sk-container-id-6 div.sk-estimator input.sk-toggleable__control:checked~label.sk-toggleable__label {background-color: #d4ebff;}#sk-container-id-6 div.sk-label input.sk-toggleable__control:checked~label.sk-toggleable__label {background-color: #d4ebff;}#sk-container-id-6 input.sk-hidden--visually {border: 0;clip: rect(1px 1px 1px 1px);clip: rect(1px, 1px, 1px, 1px);height: 1px;margin: -1px;overflow: hidden;padding: 0;position: absolute;width: 1px;}#sk-container-id-6 div.sk-estimator {font-family: monospace;background-color: #f0f8ff;border: 1px dotted black;border-radius: 0.25em;box-sizing: border-box;margin-bottom: 0.5em;}#sk-container-id-6 div.sk-estimator:hover {background-color: #d4ebff;}#sk-container-id-6 div.sk-parallel-item::after {content: \"\";width: 100%;border-bottom: 1px solid gray;flex-grow: 1;}#sk-container-id-6 div.sk-label:hover label.sk-toggleable__label {background-color: #d4ebff;}#sk-container-id-6 div.sk-serial::before {content: \"\";position: absolute;border-left: 1px solid gray;box-sizing: border-box;top: 0;bottom: 0;left: 50%;z-index: 0;}#sk-container-id-6 div.sk-serial {display: flex;flex-direction: column;align-items: center;background-color: white;padding-right: 0.2em;padding-left: 0.2em;position: relative;}#sk-container-id-6 div.sk-item {position: relative;z-index: 1;}#sk-container-id-6 div.sk-parallel {display: flex;align-items: stretch;justify-content: center;background-color: white;position: relative;}#sk-container-id-6 div.sk-item::before, #sk-container-id-6 div.sk-parallel-item::before {content: \"\";position: absolute;border-left: 1px solid gray;box-sizing: border-box;top: 0;bottom: 0;left: 50%;z-index: -1;}#sk-container-id-6 div.sk-parallel-item {display: flex;flex-direction: column;z-index: 1;position: relative;background-color: white;}#sk-container-id-6 div.sk-parallel-item:first-child::after {align-self: flex-end;width: 50%;}#sk-container-id-6 div.sk-parallel-item:last-child::after {align-self: flex-start;width: 50%;}#sk-container-id-6 div.sk-parallel-item:only-child::after {width: 0;}#sk-container-id-6 div.sk-dashed-wrapped {border: 1px dashed gray;margin: 0 0.4em 0.5em 0.4em;box-sizing: border-box;padding-bottom: 0.4em;background-color: white;}#sk-container-id-6 div.sk-label label {font-family: monospace;font-weight: bold;display: inline-block;line-height: 1.2em;}#sk-container-id-6 div.sk-label-container {text-align: center;}#sk-container-id-6 div.sk-container {/* jupyter's `normalize.less` sets `[hidden] { display: none; }` but bootstrap.min.css set `[hidden] { display: none !important; }` so we also need the `!important` here to be able to override the default hidden behavior on the sphinx rendered scikit-learn.org. See: https://github.com/scikit-learn/scikit-learn/issues/21755 */display: inline-block !important;position: relative;}#sk-container-id-6 div.sk-text-repr-fallback {display: none;}</style><div id=\"sk-container-id-6\" class=\"sk-top-container\"><div class=\"sk-text-repr-fallback\"><pre>RandomForestRegressor(n_estimators=10, random_state=100)</pre><b>In a Jupyter environment, please rerun this cell to show the HTML representation or trust the notebook. <br />On GitHub, the HTML representation is unable to render, please try loading this page with nbviewer.org.</b></div><div class=\"sk-container\" hidden><div class=\"sk-item\"><div class=\"sk-estimator sk-toggleable\"><input class=\"sk-toggleable__control sk-hidden--visually\" id=\"sk-estimator-id-6\" type=\"checkbox\" checked><label for=\"sk-estimator-id-6\" class=\"sk-toggleable__label sk-toggleable__label-arrow\">RandomForestRegressor</label><div class=\"sk-toggleable__content\"><pre>RandomForestRegressor(n_estimators=10, random_state=100)</pre></div></div></div></div></div>"
            ]
          },
          "metadata": {},
          "execution_count": 66
        }
      ],
      "source": [
        "regressor.fit(x_train,y_train)"
      ]
    },
    {
      "cell_type": "code",
      "execution_count": null,
      "metadata": {
        "id": "RVsISKn0P8TE",
        "colab": {
          "base_uri": "https://localhost:8080/"
        },
        "outputId": "8862e3fe-9024-4f2e-835a-b15545c81c0c"
      },
      "outputs": [
        {
          "output_type": "execute_result",
          "data": {
            "text/plain": [
              "0.9170434254693332"
            ]
          },
          "metadata": {},
          "execution_count": 67
        }
      ],
      "source": [
        "predicted = regressor.predict(x_test)\n",
        "mae_rf = mean_absolute_error(y_test, predicted)\n",
        "msle_rf = mean_squared_error(y_test, predicted)\n",
        "rmsle_rf = np.sqrt(mean_squared_error(y_test, predicted))\n",
        "r2_rf = r2_score(y_test, predicted)\n",
        "r2_rf"
      ]
    },
    {
      "cell_type": "code",
      "execution_count": null,
      "metadata": {
        "id": "GDI0ULANQAKC"
      },
      "outputs": [],
      "source": [
        "#KNN\n",
        "\n",
        "from sklearn.neighbors import KNeighborsRegressor"
      ]
    },
    {
      "cell_type": "code",
      "execution_count": null,
      "metadata": {
        "id": "rZA0VBT9QGmJ"
      },
      "outputs": [],
      "source": [
        "knn = KNeighborsRegressor(n_neighbors=10)"
      ]
    },
    {
      "cell_type": "code",
      "execution_count": null,
      "metadata": {
        "id": "A_ulMbp_QIW0",
        "colab": {
          "base_uri": "https://localhost:8080/",
          "height": 74
        },
        "outputId": "803186b7-4bff-41d4-b013-f64d98cfd02e"
      },
      "outputs": [
        {
          "output_type": "execute_result",
          "data": {
            "text/plain": [
              "KNeighborsRegressor(n_neighbors=10)"
            ],
            "text/html": [
              "<style>#sk-container-id-7 {color: black;background-color: white;}#sk-container-id-7 pre{padding: 0;}#sk-container-id-7 div.sk-toggleable {background-color: white;}#sk-container-id-7 label.sk-toggleable__label {cursor: pointer;display: block;width: 100%;margin-bottom: 0;padding: 0.3em;box-sizing: border-box;text-align: center;}#sk-container-id-7 label.sk-toggleable__label-arrow:before {content: \"▸\";float: left;margin-right: 0.25em;color: #696969;}#sk-container-id-7 label.sk-toggleable__label-arrow:hover:before {color: black;}#sk-container-id-7 div.sk-estimator:hover label.sk-toggleable__label-arrow:before {color: black;}#sk-container-id-7 div.sk-toggleable__content {max-height: 0;max-width: 0;overflow: hidden;text-align: left;background-color: #f0f8ff;}#sk-container-id-7 div.sk-toggleable__content pre {margin: 0.2em;color: black;border-radius: 0.25em;background-color: #f0f8ff;}#sk-container-id-7 input.sk-toggleable__control:checked~div.sk-toggleable__content {max-height: 200px;max-width: 100%;overflow: auto;}#sk-container-id-7 input.sk-toggleable__control:checked~label.sk-toggleable__label-arrow:before {content: \"▾\";}#sk-container-id-7 div.sk-estimator input.sk-toggleable__control:checked~label.sk-toggleable__label {background-color: #d4ebff;}#sk-container-id-7 div.sk-label input.sk-toggleable__control:checked~label.sk-toggleable__label {background-color: #d4ebff;}#sk-container-id-7 input.sk-hidden--visually {border: 0;clip: rect(1px 1px 1px 1px);clip: rect(1px, 1px, 1px, 1px);height: 1px;margin: -1px;overflow: hidden;padding: 0;position: absolute;width: 1px;}#sk-container-id-7 div.sk-estimator {font-family: monospace;background-color: #f0f8ff;border: 1px dotted black;border-radius: 0.25em;box-sizing: border-box;margin-bottom: 0.5em;}#sk-container-id-7 div.sk-estimator:hover {background-color: #d4ebff;}#sk-container-id-7 div.sk-parallel-item::after {content: \"\";width: 100%;border-bottom: 1px solid gray;flex-grow: 1;}#sk-container-id-7 div.sk-label:hover label.sk-toggleable__label {background-color: #d4ebff;}#sk-container-id-7 div.sk-serial::before {content: \"\";position: absolute;border-left: 1px solid gray;box-sizing: border-box;top: 0;bottom: 0;left: 50%;z-index: 0;}#sk-container-id-7 div.sk-serial {display: flex;flex-direction: column;align-items: center;background-color: white;padding-right: 0.2em;padding-left: 0.2em;position: relative;}#sk-container-id-7 div.sk-item {position: relative;z-index: 1;}#sk-container-id-7 div.sk-parallel {display: flex;align-items: stretch;justify-content: center;background-color: white;position: relative;}#sk-container-id-7 div.sk-item::before, #sk-container-id-7 div.sk-parallel-item::before {content: \"\";position: absolute;border-left: 1px solid gray;box-sizing: border-box;top: 0;bottom: 0;left: 50%;z-index: -1;}#sk-container-id-7 div.sk-parallel-item {display: flex;flex-direction: column;z-index: 1;position: relative;background-color: white;}#sk-container-id-7 div.sk-parallel-item:first-child::after {align-self: flex-end;width: 50%;}#sk-container-id-7 div.sk-parallel-item:last-child::after {align-self: flex-start;width: 50%;}#sk-container-id-7 div.sk-parallel-item:only-child::after {width: 0;}#sk-container-id-7 div.sk-dashed-wrapped {border: 1px dashed gray;margin: 0 0.4em 0.5em 0.4em;box-sizing: border-box;padding-bottom: 0.4em;background-color: white;}#sk-container-id-7 div.sk-label label {font-family: monospace;font-weight: bold;display: inline-block;line-height: 1.2em;}#sk-container-id-7 div.sk-label-container {text-align: center;}#sk-container-id-7 div.sk-container {/* jupyter's `normalize.less` sets `[hidden] { display: none; }` but bootstrap.min.css set `[hidden] { display: none !important; }` so we also need the `!important` here to be able to override the default hidden behavior on the sphinx rendered scikit-learn.org. See: https://github.com/scikit-learn/scikit-learn/issues/21755 */display: inline-block !important;position: relative;}#sk-container-id-7 div.sk-text-repr-fallback {display: none;}</style><div id=\"sk-container-id-7\" class=\"sk-top-container\"><div class=\"sk-text-repr-fallback\"><pre>KNeighborsRegressor(n_neighbors=10)</pre><b>In a Jupyter environment, please rerun this cell to show the HTML representation or trust the notebook. <br />On GitHub, the HTML representation is unable to render, please try loading this page with nbviewer.org.</b></div><div class=\"sk-container\" hidden><div class=\"sk-item\"><div class=\"sk-estimator sk-toggleable\"><input class=\"sk-toggleable__control sk-hidden--visually\" id=\"sk-estimator-id-7\" type=\"checkbox\" checked><label for=\"sk-estimator-id-7\" class=\"sk-toggleable__label sk-toggleable__label-arrow\">KNeighborsRegressor</label><div class=\"sk-toggleable__content\"><pre>KNeighborsRegressor(n_neighbors=10)</pre></div></div></div></div></div>"
            ]
          },
          "metadata": {},
          "execution_count": 70
        }
      ],
      "source": [
        "knn.fit(x_train, y_train)"
      ]
    },
    {
      "cell_type": "code",
      "execution_count": null,
      "metadata": {
        "id": "two2xAwgQJHu"
      },
      "outputs": [],
      "source": [
        "predicted = knn.predict(x_test)"
      ]
    },
    {
      "cell_type": "code",
      "execution_count": null,
      "metadata": {
        "id": "35PHe5xXQKzx",
        "colab": {
          "base_uri": "https://localhost:8080/"
        },
        "outputId": "6a344e09-0303-461e-f9c5-b006b4518adb"
      },
      "outputs": [
        {
          "output_type": "execute_result",
          "data": {
            "text/plain": [
              "0.8764332775695994"
            ]
          },
          "metadata": {},
          "execution_count": 72
        }
      ],
      "source": [
        "mae_knn = mean_absolute_error(y_test, predicted)\n",
        "msle_knn = mean_squared_error(y_test, predicted)\n",
        "rmsle_knn = np.sqrt(mean_squared_error(y_test, predicted))\n",
        "r2_knn = r2_score(y_test, predicted)\n",
        "r2_knn"
      ]
    },
    {
      "cell_type": "code",
      "execution_count": null,
      "metadata": {
        "id": "ngEsgwNOQPNV",
        "colab": {
          "base_uri": "https://localhost:8080/",
          "height": 74
        },
        "outputId": "b26e1587-ac08-4346-bda0-53fee5f9d2bd"
      },
      "outputs": [
        {
          "output_type": "execute_result",
          "data": {
            "text/plain": [
              "SVR(kernel='linear')"
            ],
            "text/html": [
              "<style>#sk-container-id-8 {color: black;background-color: white;}#sk-container-id-8 pre{padding: 0;}#sk-container-id-8 div.sk-toggleable {background-color: white;}#sk-container-id-8 label.sk-toggleable__label {cursor: pointer;display: block;width: 100%;margin-bottom: 0;padding: 0.3em;box-sizing: border-box;text-align: center;}#sk-container-id-8 label.sk-toggleable__label-arrow:before {content: \"▸\";float: left;margin-right: 0.25em;color: #696969;}#sk-container-id-8 label.sk-toggleable__label-arrow:hover:before {color: black;}#sk-container-id-8 div.sk-estimator:hover label.sk-toggleable__label-arrow:before {color: black;}#sk-container-id-8 div.sk-toggleable__content {max-height: 0;max-width: 0;overflow: hidden;text-align: left;background-color: #f0f8ff;}#sk-container-id-8 div.sk-toggleable__content pre {margin: 0.2em;color: black;border-radius: 0.25em;background-color: #f0f8ff;}#sk-container-id-8 input.sk-toggleable__control:checked~div.sk-toggleable__content {max-height: 200px;max-width: 100%;overflow: auto;}#sk-container-id-8 input.sk-toggleable__control:checked~label.sk-toggleable__label-arrow:before {content: \"▾\";}#sk-container-id-8 div.sk-estimator input.sk-toggleable__control:checked~label.sk-toggleable__label {background-color: #d4ebff;}#sk-container-id-8 div.sk-label input.sk-toggleable__control:checked~label.sk-toggleable__label {background-color: #d4ebff;}#sk-container-id-8 input.sk-hidden--visually {border: 0;clip: rect(1px 1px 1px 1px);clip: rect(1px, 1px, 1px, 1px);height: 1px;margin: -1px;overflow: hidden;padding: 0;position: absolute;width: 1px;}#sk-container-id-8 div.sk-estimator {font-family: monospace;background-color: #f0f8ff;border: 1px dotted black;border-radius: 0.25em;box-sizing: border-box;margin-bottom: 0.5em;}#sk-container-id-8 div.sk-estimator:hover {background-color: #d4ebff;}#sk-container-id-8 div.sk-parallel-item::after {content: \"\";width: 100%;border-bottom: 1px solid gray;flex-grow: 1;}#sk-container-id-8 div.sk-label:hover label.sk-toggleable__label {background-color: #d4ebff;}#sk-container-id-8 div.sk-serial::before {content: \"\";position: absolute;border-left: 1px solid gray;box-sizing: border-box;top: 0;bottom: 0;left: 50%;z-index: 0;}#sk-container-id-8 div.sk-serial {display: flex;flex-direction: column;align-items: center;background-color: white;padding-right: 0.2em;padding-left: 0.2em;position: relative;}#sk-container-id-8 div.sk-item {position: relative;z-index: 1;}#sk-container-id-8 div.sk-parallel {display: flex;align-items: stretch;justify-content: center;background-color: white;position: relative;}#sk-container-id-8 div.sk-item::before, #sk-container-id-8 div.sk-parallel-item::before {content: \"\";position: absolute;border-left: 1px solid gray;box-sizing: border-box;top: 0;bottom: 0;left: 50%;z-index: -1;}#sk-container-id-8 div.sk-parallel-item {display: flex;flex-direction: column;z-index: 1;position: relative;background-color: white;}#sk-container-id-8 div.sk-parallel-item:first-child::after {align-self: flex-end;width: 50%;}#sk-container-id-8 div.sk-parallel-item:last-child::after {align-self: flex-start;width: 50%;}#sk-container-id-8 div.sk-parallel-item:only-child::after {width: 0;}#sk-container-id-8 div.sk-dashed-wrapped {border: 1px dashed gray;margin: 0 0.4em 0.5em 0.4em;box-sizing: border-box;padding-bottom: 0.4em;background-color: white;}#sk-container-id-8 div.sk-label label {font-family: monospace;font-weight: bold;display: inline-block;line-height: 1.2em;}#sk-container-id-8 div.sk-label-container {text-align: center;}#sk-container-id-8 div.sk-container {/* jupyter's `normalize.less` sets `[hidden] { display: none; }` but bootstrap.min.css set `[hidden] { display: none !important; }` so we also need the `!important` here to be able to override the default hidden behavior on the sphinx rendered scikit-learn.org. See: https://github.com/scikit-learn/scikit-learn/issues/21755 */display: inline-block !important;position: relative;}#sk-container-id-8 div.sk-text-repr-fallback {display: none;}</style><div id=\"sk-container-id-8\" class=\"sk-top-container\"><div class=\"sk-text-repr-fallback\"><pre>SVR(kernel=&#x27;linear&#x27;)</pre><b>In a Jupyter environment, please rerun this cell to show the HTML representation or trust the notebook. <br />On GitHub, the HTML representation is unable to render, please try loading this page with nbviewer.org.</b></div><div class=\"sk-container\" hidden><div class=\"sk-item\"><div class=\"sk-estimator sk-toggleable\"><input class=\"sk-toggleable__control sk-hidden--visually\" id=\"sk-estimator-id-8\" type=\"checkbox\" checked><label for=\"sk-estimator-id-8\" class=\"sk-toggleable__label sk-toggleable__label-arrow\">SVR</label><div class=\"sk-toggleable__content\"><pre>SVR(kernel=&#x27;linear&#x27;)</pre></div></div></div></div></div>"
            ]
          },
          "metadata": {},
          "execution_count": 73
        }
      ],
      "source": [
        "#SVM\n",
        "from sklearn.svm import SVR\n",
        "regressor = SVR(kernel = 'linear')\n",
        "regressor.fit(x_train, y_train)"
      ]
    },
    {
      "cell_type": "code",
      "execution_count": null,
      "metadata": {
        "id": "HBNji9VsQpfj"
      },
      "outputs": [],
      "source": [
        "\n",
        "y_pred = regressor.predict(x_test)"
      ]
    },
    {
      "cell_type": "code",
      "execution_count": null,
      "metadata": {
        "id": "Hsn7CTSGQrLP",
        "colab": {
          "base_uri": "https://localhost:8080/"
        },
        "outputId": "4562a424-82cc-43fe-9fe3-de1fcca909e6"
      },
      "outputs": [
        {
          "output_type": "execute_result",
          "data": {
            "text/plain": [
              "0.741715840174008"
            ]
          },
          "metadata": {},
          "execution_count": 75
        }
      ],
      "source": [
        "\n",
        "mae_svm = mean_absolute_error(y_test, y_pred)\n",
        "msle_svm = mean_squared_error(y_test, y_pred)\n",
        "rmsle_svm = np.sqrt(mean_squared_error(y_test, y_pred))\n",
        "r2_svm = r2_score(y_test, y_pred)\n",
        "r2_svm"
      ]
    },
    {
      "cell_type": "code",
      "execution_count": null,
      "metadata": {
        "id": "MXYQZQ24Q0gJ"
      },
      "outputs": [],
      "source": [
        "import tensorflow as tf"
      ]
    },
    {
      "cell_type": "code",
      "execution_count": null,
      "metadata": {
        "id": "IMJmksDAR5QH",
        "colab": {
          "base_uri": "https://localhost:8080/"
        },
        "outputId": "00de2b64-6057-4ed8-dee1-5702db1a37fc"
      },
      "outputs": [
        {
          "output_type": "stream",
          "name": "stdout",
          "text": [
            "Epoch 1/200\n",
            "49/49 [==============================] - 2s 2ms/step - loss: 995.2502 - mse: 995.2502 - rmse: 1196.7920 - mae: 995.2502\n",
            "Epoch 2/200\n",
            "49/49 [==============================] - 0s 2ms/step - loss: 993.2422 - mse: 993.2422 - rmse: 1195.1630 - mae: 993.2422\n",
            "Epoch 3/200\n",
            "49/49 [==============================] - 0s 2ms/step - loss: 984.2241 - mse: 984.2241 - rmse: 1187.7802 - mae: 984.2241\n",
            "Epoch 4/200\n",
            "49/49 [==============================] - 0s 2ms/step - loss: 940.2540 - mse: 940.2540 - rmse: 1151.4525 - mae: 940.2540\n",
            "Epoch 5/200\n",
            "49/49 [==============================] - 0s 2ms/step - loss: 783.2567 - mse: 783.2567 - rmse: 1017.8731 - mae: 783.2567\n",
            "Epoch 6/200\n",
            "49/49 [==============================] - 0s 2ms/step - loss: 457.2560 - mse: 457.2560 - rmse: 671.7782 - mae: 457.2560\n",
            "Epoch 7/200\n",
            "49/49 [==============================] - 0s 2ms/step - loss: 237.1558 - mse: 237.1558 - rmse: 342.7664 - mae: 237.1558\n",
            "Epoch 8/200\n",
            "49/49 [==============================] - 0s 2ms/step - loss: 227.3763 - mse: 227.3763 - rmse: 325.3571 - mae: 227.3763\n",
            "Epoch 9/200\n",
            "49/49 [==============================] - 0s 2ms/step - loss: 226.1674 - mse: 226.1674 - rmse: 325.8336 - mae: 226.1674\n",
            "Epoch 10/200\n",
            "49/49 [==============================] - 0s 2ms/step - loss: 225.3773 - mse: 225.3773 - rmse: 325.7811 - mae: 225.3773\n",
            "Epoch 11/200\n",
            "49/49 [==============================] - 0s 6ms/step - loss: 224.5298 - mse: 224.5298 - rmse: 320.2675 - mae: 224.5298\n",
            "Epoch 12/200\n",
            "49/49 [==============================] - 0s 8ms/step - loss: 222.6531 - mse: 222.6531 - rmse: 328.2605 - mae: 222.6531\n",
            "Epoch 13/200\n",
            "49/49 [==============================] - 0s 6ms/step - loss: 223.0038 - mse: 223.0038 - rmse: 317.8855 - mae: 223.0038\n",
            "Epoch 14/200\n",
            "49/49 [==============================] - 0s 4ms/step - loss: 221.6254 - mse: 221.6254 - rmse: 319.4856 - mae: 221.6254\n",
            "Epoch 15/200\n",
            "49/49 [==============================] - 0s 3ms/step - loss: 221.5737 - mse: 221.5737 - rmse: 321.4386 - mae: 221.5737\n",
            "Epoch 16/200\n",
            "49/49 [==============================] - 0s 3ms/step - loss: 222.6913 - mse: 222.6913 - rmse: 327.6408 - mae: 222.6913\n",
            "Epoch 17/200\n",
            "49/49 [==============================] - 1s 12ms/step - loss: 221.9479 - mse: 221.9479 - rmse: 323.5544 - mae: 221.9479\n",
            "Epoch 18/200\n",
            "49/49 [==============================] - 1s 14ms/step - loss: 222.6683 - mse: 222.6683 - rmse: 321.5779 - mae: 222.6683\n",
            "Epoch 19/200\n",
            "49/49 [==============================] - 1s 12ms/step - loss: 222.2031 - mse: 222.2031 - rmse: 326.0263 - mae: 222.2031\n",
            "Epoch 20/200\n",
            "49/49 [==============================] - 0s 9ms/step - loss: 221.9395 - mse: 221.9395 - rmse: 323.1722 - mae: 221.9395\n",
            "Epoch 21/200\n",
            "49/49 [==============================] - 1s 12ms/step - loss: 221.7997 - mse: 221.7997 - rmse: 325.7154 - mae: 221.7997\n",
            "Epoch 22/200\n",
            "49/49 [==============================] - 1s 11ms/step - loss: 221.2089 - mse: 221.2089 - rmse: 319.2790 - mae: 221.2089\n",
            "Epoch 23/200\n",
            "49/49 [==============================] - 0s 6ms/step - loss: 222.5051 - mse: 222.5051 - rmse: 323.5689 - mae: 222.5051\n",
            "Epoch 24/200\n",
            "49/49 [==============================] - 0s 5ms/step - loss: 222.3105 - mse: 222.3105 - rmse: 328.1294 - mae: 222.3105\n",
            "Epoch 25/200\n",
            "49/49 [==============================] - 0s 2ms/step - loss: 221.4396 - mse: 221.4396 - rmse: 319.6413 - mae: 221.4396\n",
            "Epoch 26/200\n",
            "49/49 [==============================] - 0s 2ms/step - loss: 221.7716 - mse: 221.7716 - rmse: 322.7718 - mae: 221.7716\n",
            "Epoch 27/200\n",
            "49/49 [==============================] - 0s 2ms/step - loss: 222.2320 - mse: 222.2320 - rmse: 324.1282 - mae: 222.2320\n",
            "Epoch 28/200\n",
            "49/49 [==============================] - 0s 2ms/step - loss: 221.8136 - mse: 221.8136 - rmse: 323.5673 - mae: 221.8136\n",
            "Epoch 29/200\n",
            "49/49 [==============================] - 0s 2ms/step - loss: 221.9043 - mse: 221.9043 - rmse: 321.9655 - mae: 221.9043\n",
            "Epoch 30/200\n",
            "49/49 [==============================] - 0s 2ms/step - loss: 222.6411 - mse: 222.6411 - rmse: 322.4118 - mae: 222.6411\n",
            "Epoch 31/200\n",
            "49/49 [==============================] - 0s 2ms/step - loss: 222.3348 - mse: 222.3348 - rmse: 325.6974 - mae: 222.3348\n",
            "Epoch 32/200\n",
            "49/49 [==============================] - 0s 2ms/step - loss: 222.1624 - mse: 222.1624 - rmse: 319.1671 - mae: 222.1624\n",
            "Epoch 33/200\n",
            "49/49 [==============================] - 0s 2ms/step - loss: 221.1865 - mse: 221.1865 - rmse: 318.8627 - mae: 221.1865\n",
            "Epoch 34/200\n",
            "49/49 [==============================] - 0s 2ms/step - loss: 221.6779 - mse: 221.6779 - rmse: 323.0912 - mae: 221.6779\n",
            "Epoch 35/200\n",
            "49/49 [==============================] - 0s 2ms/step - loss: 222.1966 - mse: 222.1966 - rmse: 323.1599 - mae: 222.1966\n",
            "Epoch 36/200\n",
            "49/49 [==============================] - 0s 2ms/step - loss: 222.4446 - mse: 222.4446 - rmse: 317.5354 - mae: 222.4446\n",
            "Epoch 37/200\n",
            "49/49 [==============================] - 0s 2ms/step - loss: 221.9367 - mse: 221.9367 - rmse: 321.8676 - mae: 221.9367\n",
            "Epoch 38/200\n",
            "49/49 [==============================] - 0s 3ms/step - loss: 221.3907 - mse: 221.3907 - rmse: 322.1719 - mae: 221.3907\n",
            "Epoch 39/200\n",
            "49/49 [==============================] - 0s 2ms/step - loss: 221.4802 - mse: 221.4802 - rmse: 320.3371 - mae: 221.4802\n",
            "Epoch 40/200\n",
            "49/49 [==============================] - 0s 2ms/step - loss: 221.5512 - mse: 221.5512 - rmse: 322.7520 - mae: 221.5512\n",
            "Epoch 41/200\n",
            "49/49 [==============================] - 0s 2ms/step - loss: 222.1627 - mse: 222.1627 - rmse: 321.7751 - mae: 222.1627\n",
            "Epoch 42/200\n",
            "49/49 [==============================] - 0s 2ms/step - loss: 221.5356 - mse: 221.5356 - rmse: 319.9070 - mae: 221.5356\n",
            "Epoch 43/200\n",
            "49/49 [==============================] - 0s 2ms/step - loss: 221.6271 - mse: 221.6271 - rmse: 319.6699 - mae: 221.6271\n",
            "Epoch 44/200\n",
            "49/49 [==============================] - 0s 2ms/step - loss: 221.4647 - mse: 221.4647 - rmse: 320.0278 - mae: 221.4647\n",
            "Epoch 45/200\n",
            "49/49 [==============================] - 0s 2ms/step - loss: 221.8834 - mse: 221.8834 - rmse: 324.6594 - mae: 221.8834\n",
            "Epoch 46/200\n",
            "49/49 [==============================] - 0s 2ms/step - loss: 221.4793 - mse: 221.4793 - rmse: 322.2492 - mae: 221.4793\n",
            "Epoch 47/200\n",
            "49/49 [==============================] - 0s 2ms/step - loss: 222.1304 - mse: 222.1304 - rmse: 321.3480 - mae: 222.1304\n",
            "Epoch 48/200\n",
            "49/49 [==============================] - 0s 2ms/step - loss: 222.9492 - mse: 222.9492 - rmse: 315.6547 - mae: 222.9492\n",
            "Epoch 49/200\n",
            "49/49 [==============================] - 0s 2ms/step - loss: 222.4287 - mse: 222.4287 - rmse: 317.3670 - mae: 222.4287\n",
            "Epoch 50/200\n",
            "49/49 [==============================] - 0s 2ms/step - loss: 221.7108 - mse: 221.7108 - rmse: 319.6929 - mae: 221.7108\n",
            "Epoch 51/200\n",
            "49/49 [==============================] - 0s 2ms/step - loss: 221.2775 - mse: 221.2775 - rmse: 323.0472 - mae: 221.2775\n",
            "Epoch 52/200\n",
            "49/49 [==============================] - 0s 2ms/step - loss: 221.6529 - mse: 221.6529 - rmse: 324.4604 - mae: 221.6529\n",
            "Epoch 53/200\n",
            "49/49 [==============================] - 0s 2ms/step - loss: 221.7870 - mse: 221.7870 - rmse: 321.8597 - mae: 221.7870\n",
            "Epoch 54/200\n",
            "49/49 [==============================] - 0s 2ms/step - loss: 221.6320 - mse: 221.6320 - rmse: 319.0302 - mae: 221.6320\n",
            "Epoch 55/200\n",
            "49/49 [==============================] - 0s 2ms/step - loss: 222.3232 - mse: 222.3232 - rmse: 322.2554 - mae: 222.3232\n",
            "Epoch 56/200\n",
            "49/49 [==============================] - 0s 2ms/step - loss: 221.6699 - mse: 221.6699 - rmse: 321.7712 - mae: 221.6699\n",
            "Epoch 57/200\n",
            "49/49 [==============================] - 0s 2ms/step - loss: 221.6856 - mse: 221.6856 - rmse: 320.8782 - mae: 221.6856\n",
            "Epoch 58/200\n",
            "49/49 [==============================] - 0s 2ms/step - loss: 222.4283 - mse: 222.4283 - rmse: 316.4139 - mae: 222.4283\n",
            "Epoch 59/200\n",
            "49/49 [==============================] - 0s 2ms/step - loss: 222.4185 - mse: 222.4185 - rmse: 323.9192 - mae: 222.4185\n",
            "Epoch 60/200\n",
            "49/49 [==============================] - 0s 2ms/step - loss: 223.4072 - mse: 223.4072 - rmse: 321.7328 - mae: 223.4072\n",
            "Epoch 61/200\n",
            "49/49 [==============================] - 0s 2ms/step - loss: 221.4424 - mse: 221.4424 - rmse: 323.1931 - mae: 221.4424\n",
            "Epoch 62/200\n",
            "49/49 [==============================] - 0s 2ms/step - loss: 222.5476 - mse: 222.5476 - rmse: 318.5321 - mae: 222.5476\n",
            "Epoch 63/200\n",
            "49/49 [==============================] - 0s 2ms/step - loss: 221.4667 - mse: 221.4667 - rmse: 322.5324 - mae: 221.4667\n",
            "Epoch 64/200\n",
            "49/49 [==============================] - 0s 2ms/step - loss: 221.7978 - mse: 221.7978 - rmse: 323.3798 - mae: 221.7978\n",
            "Epoch 65/200\n",
            "49/49 [==============================] - 0s 2ms/step - loss: 221.3300 - mse: 221.3300 - rmse: 325.9951 - mae: 221.3300\n",
            "Epoch 66/200\n",
            "49/49 [==============================] - 0s 2ms/step - loss: 221.9678 - mse: 221.9678 - rmse: 325.2898 - mae: 221.9678\n",
            "Epoch 67/200\n",
            "49/49 [==============================] - 0s 2ms/step - loss: 221.4612 - mse: 221.4612 - rmse: 322.3454 - mae: 221.4612\n",
            "Epoch 68/200\n",
            "49/49 [==============================] - 0s 2ms/step - loss: 221.7003 - mse: 221.7003 - rmse: 321.7151 - mae: 221.7003\n",
            "Epoch 69/200\n",
            "49/49 [==============================] - 0s 2ms/step - loss: 221.4779 - mse: 221.4779 - rmse: 325.6212 - mae: 221.4779\n",
            "Epoch 70/200\n",
            "49/49 [==============================] - 0s 2ms/step - loss: 221.5695 - mse: 221.5695 - rmse: 322.8318 - mae: 221.5695\n",
            "Epoch 71/200\n",
            "49/49 [==============================] - 0s 2ms/step - loss: 221.2299 - mse: 221.2299 - rmse: 321.7813 - mae: 221.2299\n",
            "Epoch 72/200\n",
            "49/49 [==============================] - 0s 2ms/step - loss: 221.5342 - mse: 221.5342 - rmse: 322.8098 - mae: 221.5342\n",
            "Epoch 73/200\n",
            "49/49 [==============================] - 0s 2ms/step - loss: 221.3069 - mse: 221.3069 - rmse: 319.1275 - mae: 221.3069\n",
            "Epoch 74/200\n",
            "49/49 [==============================] - 0s 2ms/step - loss: 221.3515 - mse: 221.3515 - rmse: 318.5610 - mae: 221.3515\n",
            "Epoch 75/200\n",
            "49/49 [==============================] - 0s 2ms/step - loss: 221.7992 - mse: 221.7992 - rmse: 319.3653 - mae: 221.7992\n",
            "Epoch 76/200\n",
            "49/49 [==============================] - 0s 2ms/step - loss: 221.7642 - mse: 221.7642 - rmse: 317.9124 - mae: 221.7642\n",
            "Epoch 77/200\n",
            "49/49 [==============================] - 0s 2ms/step - loss: 221.4634 - mse: 221.4634 - rmse: 324.2675 - mae: 221.4634\n",
            "Epoch 78/200\n",
            "49/49 [==============================] - 0s 2ms/step - loss: 221.5641 - mse: 221.5641 - rmse: 316.8170 - mae: 221.5641\n",
            "Epoch 79/200\n",
            "49/49 [==============================] - 0s 2ms/step - loss: 221.9780 - mse: 221.9780 - rmse: 320.0677 - mae: 221.9780\n",
            "Epoch 80/200\n",
            "49/49 [==============================] - 0s 2ms/step - loss: 221.3215 - mse: 221.3215 - rmse: 321.8228 - mae: 221.3215\n",
            "Epoch 81/200\n",
            "49/49 [==============================] - 0s 2ms/step - loss: 221.3936 - mse: 221.3936 - rmse: 323.9439 - mae: 221.3936\n",
            "Epoch 82/200\n",
            "49/49 [==============================] - 0s 2ms/step - loss: 221.4615 - mse: 221.4615 - rmse: 321.3876 - mae: 221.4615\n",
            "Epoch 83/200\n",
            "49/49 [==============================] - 0s 2ms/step - loss: 221.2602 - mse: 221.2602 - rmse: 320.1958 - mae: 221.2602\n",
            "Epoch 84/200\n",
            "49/49 [==============================] - 0s 2ms/step - loss: 221.7637 - mse: 221.7637 - rmse: 322.9388 - mae: 221.7637\n",
            "Epoch 85/200\n",
            "49/49 [==============================] - 0s 2ms/step - loss: 221.5765 - mse: 221.5765 - rmse: 321.6420 - mae: 221.5765\n",
            "Epoch 86/200\n",
            "49/49 [==============================] - 0s 2ms/step - loss: 221.7951 - mse: 221.7951 - rmse: 324.8619 - mae: 221.7951\n",
            "Epoch 87/200\n",
            "49/49 [==============================] - 0s 2ms/step - loss: 221.6778 - mse: 221.6778 - rmse: 322.3149 - mae: 221.6778\n",
            "Epoch 88/200\n",
            "49/49 [==============================] - 0s 2ms/step - loss: 221.3893 - mse: 221.3893 - rmse: 318.5626 - mae: 221.3893\n",
            "Epoch 89/200\n",
            "49/49 [==============================] - 0s 2ms/step - loss: 221.4827 - mse: 221.4827 - rmse: 322.3488 - mae: 221.4827\n",
            "Epoch 90/200\n",
            "49/49 [==============================] - 0s 2ms/step - loss: 221.6888 - mse: 221.6888 - rmse: 320.1491 - mae: 221.6888\n",
            "Epoch 91/200\n",
            "49/49 [==============================] - 0s 2ms/step - loss: 222.0303 - mse: 222.0303 - rmse: 321.1943 - mae: 222.0303\n",
            "Epoch 92/200\n",
            "49/49 [==============================] - 0s 2ms/step - loss: 221.2468 - mse: 221.2468 - rmse: 320.5895 - mae: 221.2468\n",
            "Epoch 93/200\n",
            "49/49 [==============================] - 0s 2ms/step - loss: 222.3992 - mse: 222.3992 - rmse: 323.4436 - mae: 222.3992\n",
            "Epoch 94/200\n",
            "49/49 [==============================] - 0s 2ms/step - loss: 221.9344 - mse: 221.9344 - rmse: 322.2924 - mae: 221.9344\n",
            "Epoch 95/200\n",
            "49/49 [==============================] - 0s 2ms/step - loss: 221.6086 - mse: 221.6086 - rmse: 316.3085 - mae: 221.6086\n",
            "Epoch 96/200\n",
            "49/49 [==============================] - 0s 2ms/step - loss: 221.5107 - mse: 221.5107 - rmse: 321.6081 - mae: 221.5107\n",
            "Epoch 97/200\n",
            "49/49 [==============================] - 0s 2ms/step - loss: 221.3224 - mse: 221.3224 - rmse: 318.8028 - mae: 221.3224\n",
            "Epoch 98/200\n",
            "49/49 [==============================] - 0s 2ms/step - loss: 222.8224 - mse: 222.8224 - rmse: 323.1712 - mae: 222.8224\n",
            "Epoch 99/200\n",
            "49/49 [==============================] - 0s 2ms/step - loss: 221.6933 - mse: 221.6933 - rmse: 322.8073 - mae: 221.6933\n",
            "Epoch 100/200\n",
            "49/49 [==============================] - 0s 2ms/step - loss: 221.9981 - mse: 221.9981 - rmse: 316.5709 - mae: 221.9981\n",
            "Epoch 101/200\n",
            "49/49 [==============================] - 0s 2ms/step - loss: 224.2830 - mse: 224.2830 - rmse: 322.2569 - mae: 224.2830\n",
            "Epoch 102/200\n",
            "49/49 [==============================] - 0s 3ms/step - loss: 221.9583 - mse: 221.9583 - rmse: 316.9151 - mae: 221.9583\n",
            "Epoch 103/200\n",
            "49/49 [==============================] - 0s 2ms/step - loss: 221.8139 - mse: 221.8139 - rmse: 319.0645 - mae: 221.8139\n",
            "Epoch 104/200\n",
            "49/49 [==============================] - 0s 3ms/step - loss: 221.7849 - mse: 221.7849 - rmse: 323.1255 - mae: 221.7849\n",
            "Epoch 105/200\n",
            "49/49 [==============================] - 0s 2ms/step - loss: 221.7868 - mse: 221.7868 - rmse: 318.9837 - mae: 221.7868\n",
            "Epoch 106/200\n",
            "49/49 [==============================] - 0s 3ms/step - loss: 221.5062 - mse: 221.5062 - rmse: 319.2413 - mae: 221.5062\n",
            "Epoch 107/200\n",
            "49/49 [==============================] - 0s 4ms/step - loss: 220.9778 - mse: 220.9778 - rmse: 321.8478 - mae: 220.9778\n",
            "Epoch 108/200\n",
            "49/49 [==============================] - 0s 3ms/step - loss: 221.4992 - mse: 221.4992 - rmse: 320.8798 - mae: 221.4992\n",
            "Epoch 109/200\n",
            "49/49 [==============================] - 0s 3ms/step - loss: 222.1561 - mse: 222.1561 - rmse: 321.7402 - mae: 222.1561\n",
            "Epoch 110/200\n",
            "49/49 [==============================] - 0s 3ms/step - loss: 221.6472 - mse: 221.6472 - rmse: 317.4580 - mae: 221.6472\n",
            "Epoch 111/200\n",
            "49/49 [==============================] - 0s 3ms/step - loss: 221.9575 - mse: 221.9575 - rmse: 319.2583 - mae: 221.9575\n",
            "Epoch 112/200\n",
            "49/49 [==============================] - 0s 3ms/step - loss: 221.8948 - mse: 221.8948 - rmse: 319.3928 - mae: 221.8948\n",
            "Epoch 113/200\n",
            "49/49 [==============================] - 0s 3ms/step - loss: 222.5119 - mse: 222.5119 - rmse: 317.1337 - mae: 222.5119\n",
            "Epoch 114/200\n",
            "49/49 [==============================] - 0s 3ms/step - loss: 221.8644 - mse: 221.8644 - rmse: 320.8341 - mae: 221.8644\n",
            "Epoch 115/200\n",
            "49/49 [==============================] - 0s 3ms/step - loss: 222.1378 - mse: 222.1378 - rmse: 324.0675 - mae: 222.1378\n",
            "Epoch 116/200\n",
            "49/49 [==============================] - 0s 3ms/step - loss: 222.6938 - mse: 222.6938 - rmse: 320.8254 - mae: 222.6938\n",
            "Epoch 117/200\n",
            "49/49 [==============================] - 0s 3ms/step - loss: 222.7797 - mse: 222.7797 - rmse: 324.9318 - mae: 222.7797\n",
            "Epoch 118/200\n",
            "49/49 [==============================] - 0s 3ms/step - loss: 222.3597 - mse: 222.3597 - rmse: 321.3433 - mae: 222.3597\n",
            "Epoch 119/200\n",
            "49/49 [==============================] - 0s 3ms/step - loss: 221.4737 - mse: 221.4737 - rmse: 321.6785 - mae: 221.4737\n",
            "Epoch 120/200\n",
            "49/49 [==============================] - 0s 3ms/step - loss: 221.6369 - mse: 221.6369 - rmse: 316.5635 - mae: 221.6369\n",
            "Epoch 121/200\n",
            "49/49 [==============================] - 0s 3ms/step - loss: 221.9464 - mse: 221.9464 - rmse: 320.9957 - mae: 221.9464\n",
            "Epoch 122/200\n",
            "49/49 [==============================] - 0s 4ms/step - loss: 221.3060 - mse: 221.3060 - rmse: 318.5222 - mae: 221.3060\n",
            "Epoch 123/200\n",
            "49/49 [==============================] - 0s 4ms/step - loss: 221.2603 - mse: 221.2603 - rmse: 320.5650 - mae: 221.2603\n",
            "Epoch 124/200\n",
            "49/49 [==============================] - 0s 3ms/step - loss: 222.7099 - mse: 222.7099 - rmse: 326.8843 - mae: 222.7099\n",
            "Epoch 125/200\n",
            "49/49 [==============================] - 0s 3ms/step - loss: 221.3867 - mse: 221.3867 - rmse: 320.5883 - mae: 221.3867\n",
            "Epoch 126/200\n",
            "49/49 [==============================] - 0s 3ms/step - loss: 222.0567 - mse: 222.0567 - rmse: 322.3393 - mae: 222.0567\n",
            "Epoch 127/200\n",
            "49/49 [==============================] - 0s 2ms/step - loss: 221.3864 - mse: 221.3864 - rmse: 319.1111 - mae: 221.3864\n",
            "Epoch 128/200\n",
            "49/49 [==============================] - 0s 3ms/step - loss: 221.4057 - mse: 221.4057 - rmse: 320.0445 - mae: 221.4057\n",
            "Epoch 129/200\n",
            "49/49 [==============================] - 0s 3ms/step - loss: 222.6568 - mse: 222.6568 - rmse: 323.9832 - mae: 222.6568\n",
            "Epoch 130/200\n",
            "49/49 [==============================] - 0s 2ms/step - loss: 221.5605 - mse: 221.5605 - rmse: 319.5056 - mae: 221.5605\n",
            "Epoch 131/200\n",
            "49/49 [==============================] - 0s 2ms/step - loss: 221.4839 - mse: 221.4839 - rmse: 319.4483 - mae: 221.4839\n",
            "Epoch 132/200\n",
            "49/49 [==============================] - 0s 2ms/step - loss: 221.1068 - mse: 221.1068 - rmse: 321.1924 - mae: 221.1068\n",
            "Epoch 133/200\n",
            "49/49 [==============================] - 0s 2ms/step - loss: 221.6687 - mse: 221.6687 - rmse: 321.4118 - mae: 221.6687\n",
            "Epoch 134/200\n",
            "49/49 [==============================] - 0s 2ms/step - loss: 221.2279 - mse: 221.2279 - rmse: 318.3972 - mae: 221.2279\n",
            "Epoch 135/200\n",
            "49/49 [==============================] - 0s 2ms/step - loss: 222.1618 - mse: 222.1618 - rmse: 320.8595 - mae: 222.1618\n",
            "Epoch 136/200\n",
            "49/49 [==============================] - 0s 2ms/step - loss: 221.6400 - mse: 221.6400 - rmse: 318.7517 - mae: 221.6400\n",
            "Epoch 137/200\n",
            "49/49 [==============================] - 0s 2ms/step - loss: 221.4497 - mse: 221.4497 - rmse: 322.5604 - mae: 221.4497\n",
            "Epoch 138/200\n",
            "49/49 [==============================] - 0s 3ms/step - loss: 221.4831 - mse: 221.4831 - rmse: 323.9467 - mae: 221.4831\n",
            "Epoch 139/200\n",
            "49/49 [==============================] - 0s 2ms/step - loss: 221.4411 - mse: 221.4411 - rmse: 319.4810 - mae: 221.4411\n",
            "Epoch 140/200\n",
            "49/49 [==============================] - 0s 2ms/step - loss: 221.5639 - mse: 221.5639 - rmse: 320.0100 - mae: 221.5639\n",
            "Epoch 141/200\n",
            "49/49 [==============================] - 0s 2ms/step - loss: 221.3463 - mse: 221.3463 - rmse: 317.1248 - mae: 221.3463\n",
            "Epoch 142/200\n",
            "49/49 [==============================] - 0s 3ms/step - loss: 220.9309 - mse: 220.9309 - rmse: 319.1399 - mae: 220.9309\n",
            "Epoch 143/200\n",
            "49/49 [==============================] - 0s 2ms/step - loss: 222.4288 - mse: 222.4288 - rmse: 322.1809 - mae: 222.4288\n",
            "Epoch 144/200\n",
            "49/49 [==============================] - 0s 2ms/step - loss: 221.5266 - mse: 221.5266 - rmse: 322.8733 - mae: 221.5266\n",
            "Epoch 145/200\n",
            "49/49 [==============================] - 0s 2ms/step - loss: 221.8343 - mse: 221.8343 - rmse: 316.3670 - mae: 221.8343\n",
            "Epoch 146/200\n",
            "49/49 [==============================] - 0s 2ms/step - loss: 221.2045 - mse: 221.2045 - rmse: 322.5417 - mae: 221.2045\n",
            "Epoch 147/200\n",
            "49/49 [==============================] - 0s 2ms/step - loss: 221.6600 - mse: 221.6600 - rmse: 322.1218 - mae: 221.6600\n",
            "Epoch 148/200\n",
            "49/49 [==============================] - 0s 3ms/step - loss: 222.1215 - mse: 222.1215 - rmse: 320.2602 - mae: 222.1215\n",
            "Epoch 149/200\n",
            "49/49 [==============================] - 0s 2ms/step - loss: 221.5943 - mse: 221.5943 - rmse: 320.0336 - mae: 221.5943\n",
            "Epoch 150/200\n",
            "49/49 [==============================] - 0s 2ms/step - loss: 222.1009 - mse: 222.1009 - rmse: 321.0905 - mae: 222.1009\n",
            "Epoch 151/200\n",
            "49/49 [==============================] - 0s 2ms/step - loss: 221.1018 - mse: 221.1018 - rmse: 321.0222 - mae: 221.1018\n",
            "Epoch 152/200\n",
            "49/49 [==============================] - 0s 3ms/step - loss: 221.1175 - mse: 221.1175 - rmse: 321.3990 - mae: 221.1175\n",
            "Epoch 153/200\n",
            "49/49 [==============================] - 0s 2ms/step - loss: 222.9098 - mse: 222.9098 - rmse: 320.1524 - mae: 222.9098\n",
            "Epoch 154/200\n",
            "49/49 [==============================] - 0s 2ms/step - loss: 221.5407 - mse: 221.5407 - rmse: 321.6580 - mae: 221.5407\n",
            "Epoch 155/200\n",
            "49/49 [==============================] - 0s 2ms/step - loss: 221.2641 - mse: 221.2641 - rmse: 320.9854 - mae: 221.2641\n",
            "Epoch 156/200\n",
            "49/49 [==============================] - 0s 3ms/step - loss: 221.9829 - mse: 221.9829 - rmse: 325.5388 - mae: 221.9829\n",
            "Epoch 157/200\n",
            "49/49 [==============================] - 0s 2ms/step - loss: 221.8853 - mse: 221.8853 - rmse: 324.0688 - mae: 221.8853\n",
            "Epoch 158/200\n",
            "49/49 [==============================] - 0s 2ms/step - loss: 221.2218 - mse: 221.2218 - rmse: 322.0146 - mae: 221.2218\n",
            "Epoch 159/200\n",
            "49/49 [==============================] - 0s 2ms/step - loss: 221.4940 - mse: 221.4940 - rmse: 320.3217 - mae: 221.4940\n",
            "Epoch 160/200\n",
            "49/49 [==============================] - 0s 2ms/step - loss: 222.1716 - mse: 222.1716 - rmse: 317.0202 - mae: 222.1716\n",
            "Epoch 161/200\n",
            "49/49 [==============================] - 0s 2ms/step - loss: 221.2555 - mse: 221.2555 - rmse: 320.1824 - mae: 221.2555\n",
            "Epoch 162/200\n",
            "49/49 [==============================] - 0s 2ms/step - loss: 221.8732 - mse: 221.8732 - rmse: 321.0802 - mae: 221.8732\n",
            "Epoch 163/200\n",
            "49/49 [==============================] - 0s 2ms/step - loss: 221.9978 - mse: 221.9978 - rmse: 321.2449 - mae: 221.9978\n",
            "Epoch 164/200\n",
            "49/49 [==============================] - 0s 2ms/step - loss: 221.3048 - mse: 221.3048 - rmse: 323.1654 - mae: 221.3048\n",
            "Epoch 165/200\n",
            "49/49 [==============================] - 0s 2ms/step - loss: 222.0260 - mse: 222.0260 - rmse: 321.6700 - mae: 222.0260\n",
            "Epoch 166/200\n",
            "49/49 [==============================] - 0s 2ms/step - loss: 222.2518 - mse: 222.2518 - rmse: 320.9207 - mae: 222.2518\n",
            "Epoch 167/200\n",
            "49/49 [==============================] - 0s 2ms/step - loss: 221.6406 - mse: 221.6406 - rmse: 318.1623 - mae: 221.6406\n",
            "Epoch 168/200\n",
            "49/49 [==============================] - 0s 2ms/step - loss: 221.5274 - mse: 221.5274 - rmse: 319.8379 - mae: 221.5274\n",
            "Epoch 169/200\n",
            "49/49 [==============================] - 0s 2ms/step - loss: 222.0185 - mse: 222.0185 - rmse: 325.3003 - mae: 222.0185\n",
            "Epoch 170/200\n",
            "49/49 [==============================] - 0s 2ms/step - loss: 221.6510 - mse: 221.6510 - rmse: 317.8293 - mae: 221.6510\n",
            "Epoch 171/200\n",
            "49/49 [==============================] - 0s 2ms/step - loss: 221.4651 - mse: 221.4651 - rmse: 317.3812 - mae: 221.4651\n",
            "Epoch 172/200\n",
            "49/49 [==============================] - 0s 3ms/step - loss: 222.2020 - mse: 222.2020 - rmse: 319.1497 - mae: 222.2020\n",
            "Epoch 173/200\n",
            "49/49 [==============================] - 0s 2ms/step - loss: 221.4107 - mse: 221.4107 - rmse: 323.2127 - mae: 221.4107\n",
            "Epoch 174/200\n",
            "49/49 [==============================] - 0s 2ms/step - loss: 221.4715 - mse: 221.4715 - rmse: 322.8897 - mae: 221.4715\n",
            "Epoch 175/200\n",
            "49/49 [==============================] - 0s 2ms/step - loss: 221.4763 - mse: 221.4763 - rmse: 318.0511 - mae: 221.4763\n",
            "Epoch 176/200\n",
            "49/49 [==============================] - 0s 2ms/step - loss: 221.0136 - mse: 221.0136 - rmse: 322.3894 - mae: 221.0136\n",
            "Epoch 177/200\n",
            "49/49 [==============================] - 0s 2ms/step - loss: 221.4038 - mse: 221.4038 - rmse: 319.8405 - mae: 221.4038\n",
            "Epoch 178/200\n",
            "49/49 [==============================] - 0s 2ms/step - loss: 222.2751 - mse: 222.2751 - rmse: 325.1805 - mae: 222.2751\n",
            "Epoch 179/200\n",
            "49/49 [==============================] - 0s 2ms/step - loss: 221.6693 - mse: 221.6693 - rmse: 320.7466 - mae: 221.6693\n",
            "Epoch 180/200\n",
            "49/49 [==============================] - 0s 2ms/step - loss: 221.4336 - mse: 221.4336 - rmse: 321.2773 - mae: 221.4336\n",
            "Epoch 181/200\n",
            "49/49 [==============================] - 0s 2ms/step - loss: 221.9046 - mse: 221.9046 - rmse: 322.4708 - mae: 221.9046\n",
            "Epoch 182/200\n",
            "49/49 [==============================] - 0s 3ms/step - loss: 221.9216 - mse: 221.9216 - rmse: 319.4358 - mae: 221.9216\n",
            "Epoch 183/200\n",
            "49/49 [==============================] - 0s 2ms/step - loss: 221.0048 - mse: 221.0048 - rmse: 320.7503 - mae: 221.0048\n",
            "Epoch 184/200\n",
            "49/49 [==============================] - 0s 2ms/step - loss: 221.7866 - mse: 221.7866 - rmse: 320.9974 - mae: 221.7866\n",
            "Epoch 185/200\n",
            "49/49 [==============================] - 0s 3ms/step - loss: 221.3715 - mse: 221.3715 - rmse: 324.0770 - mae: 221.3715\n",
            "Epoch 186/200\n",
            "49/49 [==============================] - 0s 3ms/step - loss: 221.2044 - mse: 221.2044 - rmse: 323.3365 - mae: 221.2044\n",
            "Epoch 187/200\n",
            "49/49 [==============================] - 0s 2ms/step - loss: 222.0366 - mse: 222.0366 - rmse: 317.9478 - mae: 222.0366\n",
            "Epoch 188/200\n",
            "49/49 [==============================] - 0s 2ms/step - loss: 221.4329 - mse: 221.4329 - rmse: 320.0333 - mae: 221.4329\n",
            "Epoch 189/200\n",
            "49/49 [==============================] - 0s 2ms/step - loss: 222.4060 - mse: 222.4060 - rmse: 327.5143 - mae: 222.4060\n",
            "Epoch 190/200\n",
            "49/49 [==============================] - 0s 2ms/step - loss: 221.9977 - mse: 221.9977 - rmse: 320.0064 - mae: 221.9977\n",
            "Epoch 191/200\n",
            "49/49 [==============================] - 0s 2ms/step - loss: 221.8342 - mse: 221.8342 - rmse: 324.7261 - mae: 221.8342\n",
            "Epoch 192/200\n",
            "49/49 [==============================] - 0s 2ms/step - loss: 221.2217 - mse: 221.2217 - rmse: 318.8676 - mae: 221.2217\n",
            "Epoch 193/200\n",
            "49/49 [==============================] - 0s 3ms/step - loss: 221.6616 - mse: 221.6616 - rmse: 315.9866 - mae: 221.6616\n",
            "Epoch 194/200\n",
            "49/49 [==============================] - 0s 3ms/step - loss: 221.1126 - mse: 221.1126 - rmse: 320.7234 - mae: 221.1126\n",
            "Epoch 195/200\n",
            "49/49 [==============================] - 0s 2ms/step - loss: 221.6074 - mse: 221.6074 - rmse: 318.4604 - mae: 221.6074\n",
            "Epoch 196/200\n",
            "49/49 [==============================] - 0s 3ms/step - loss: 221.2309 - mse: 221.2309 - rmse: 317.6882 - mae: 221.2309\n",
            "Epoch 197/200\n",
            "49/49 [==============================] - 0s 3ms/step - loss: 223.6578 - mse: 223.6578 - rmse: 324.4933 - mae: 223.6578\n",
            "Epoch 198/200\n",
            "49/49 [==============================] - 0s 2ms/step - loss: 221.9383 - mse: 221.9383 - rmse: 322.4251 - mae: 221.9383\n",
            "Epoch 199/200\n",
            "49/49 [==============================] - 0s 2ms/step - loss: 221.8029 - mse: 221.8029 - rmse: 319.9796 - mae: 221.8029\n",
            "Epoch 200/200\n",
            "49/49 [==============================] - 0s 2ms/step - loss: 222.2854 - mse: 222.2854 - rmse: 320.1133 - mae: 222.2854\n"
          ]
        }
      ],
      "source": [
        "tf.random.set_seed(42)\n",
        "\n",
        "# STEP1: Creating the model\n",
        "\n",
        "model= tf.keras.Sequential([\n",
        "                            tf.keras.layers.Dense(24),\n",
        "                            tf.keras.layers.Dense(18),\n",
        "                            tf.keras.layers.Dense(6),\n",
        "                            tf.keras.layers.Dense(3),\n",
        "                            tf.keras.layers.Dense(1)\n",
        "])\n",
        "\n",
        "# STEP2: Compiling the model\n",
        "model.compile(loss= tf.keras.losses.mae,\n",
        "              optimizer= tf.keras.optimizers.Adam(),\n",
        "              metrics= [tf.keras.metrics.MeanAbsoluteError(name='mse'),\n",
        "                        tf.keras.metrics.RootMeanSquaredError(name='rmse'),'mae'])\n",
        "            \n",
        "# STEP3: Fit the model\n",
        "\n",
        "history= model.fit(x_train, y_train, epochs=200)"
      ]
    },
    {
      "cell_type": "code",
      "execution_count": null,
      "metadata": {
        "id": "qr6sVJVEQ8R6",
        "colab": {
          "base_uri": "https://localhost:8080/"
        },
        "outputId": "4a8452d6-35bb-4dcb-b8a7-54893abef82a"
      },
      "outputs": [
        {
          "output_type": "stream",
          "name": "stdout",
          "text": [
            "13/13 [==============================] - 0s 3ms/step - loss: 192.6360 - mse: 192.6360 - rmse: 287.0175 - mae: 192.6360\n"
          ]
        },
        {
          "output_type": "execute_result",
          "data": {
            "text/plain": [
              "[192.6360321044922, 192.6360321044922, 287.0175476074219, 192.6360321044922]"
            ]
          },
          "metadata": {},
          "execution_count": 78
        }
      ],
      "source": [
        "nn = model.evaluate(x_test,y_test)\n",
        "nn\n",
        "   "
      ]
    },
    {
      "cell_type": "code",
      "execution_count": null,
      "metadata": {
        "id": "AqbflhZBSSDZ",
        "colab": {
          "base_uri": "https://localhost:8080/"
        },
        "outputId": "54a72cf5-c2ec-4635-bb0e-47768a10823f"
      },
      "outputs": [
        {
          "output_type": "stream",
          "name": "stdout",
          "text": [
            "13/13 [==============================] - 0s 3ms/step\n"
          ]
        },
        {
          "output_type": "execute_result",
          "data": {
            "text/plain": [
              "0.7935082202522603"
            ]
          },
          "metadata": {},
          "execution_count": 79
        }
      ],
      "source": [
        "y_prednn=model.predict(x_test)\n",
        "r2nn = metrics.r2_score(y_test,y_prednn)\n",
        "r2nn"
      ]
    },
    {
      "cell_type": "code",
      "execution_count": null,
      "metadata": {
        "id": "ws1D39w8SRRR",
        "colab": {
          "base_uri": "https://localhost:8080/",
          "height": 447
        },
        "outputId": "5570dedc-8326-42c0-f5fe-de14ac27c88b"
      },
      "outputs": [
        {
          "output_type": "execute_result",
          "data": {
            "text/plain": [
              "<Axes: >"
            ]
          },
          "metadata": {},
          "execution_count": 80
        },
        {
          "output_type": "display_data",
          "data": {
            "text/plain": [
              "<Figure size 640x480 with 1 Axes>"
            ],
            "image/png": "[encoded data removed]"
          },
          "metadata": {}
        }
      ],
      "source": [
        "pd.DataFrame(history.history).plot()"
      ]
    },
    {
      "cell_type": "code",
      "execution_count": null,
      "metadata": {
        "id": "L8xt1mz1ShlL",
        "colab": {
          "base_uri": "https://localhost:8080/",
          "height": 236
        },
        "outputId": "282e4ea5-c53e-44f8-e918-903e9b5377bc"
      },
      "outputs": [
        {
          "output_type": "execute_result",
          "data": {
            "text/plain": [
              "      Linear regression  Decision Tree Regressor  Random Forest Regressor  \\\n",
              "MAE          196.125948               147.758983               111.028410   \n",
              "MSE        74436.385568             44743.486958             33095.194391   \n",
              "RMSE         272.830324               211.526563               181.920846   \n",
              "R^2            0.813417                 0.887846                 0.917043   \n",
              "\n",
              "      XGBRegressor       Bagging  Gradient Boosting Regressor  \\\n",
              "MAE      81.349299    102.491935                    85.880218   \n",
              "MSE   16234.916664  27770.130451                 19228.202667   \n",
              "RMSE    127.416312    166.643723                   138.665795   \n",
              "R^2       0.959305      0.930391                     0.951802   \n",
              "\n",
              "      Ada Boost Regressor  K-Nearest Neighbours            SVM  Neural Network  \n",
              "MAE            268.570950            160.283509     207.888894      192.636032  \n",
              "MSE         105836.204514          49296.450850  103041.434942      192.636032  \n",
              "RMSE           325.324768            222.028041     321.000677      287.017548  \n",
              "R^2              0.734710              0.876433       0.741716        0.793508  "
            ],
            "text/html": [
              "\n",
              "  <div id=\"df-274c064f-3935-483c-9fc8-509aa4cb7a57\">\n",
              "    <div class=\"colab-df-container\">\n",
              "      <div>\n",
              "<style scoped>\n",
              "    .dataframe tbody tr th:only-of-type {\n",
              "        vertical-align: middle;\n",
              "    }\n",
              "\n",
              "    .dataframe tbody tr th {\n",
              "        vertical-align: top;\n",
              "    }\n",
              "\n",
              "    .dataframe thead th {\n",
              "        text-align: right;\n",
              "    }\n",
              "</style>\n",
              "<table border=\"1\" class=\"dataframe\">\n",
              "  <thead>\n",
              "    <tr style=\"text-align: right;\">\n",
              "      <th></th>\n",
              "      <th>Linear regression</th>\n",
              "      <th>Decision Tree Regressor</th>\n",
              "      <th>Random Forest Regressor</th>\n",
              "      <th>XGBRegressor</th>\n",
              "      <th>Bagging</th>\n",
              "      <th>Gradient Boosting Regressor</th>\n",
              "      <th>Ada Boost Regressor</th>\n",
              "      <th>K-Nearest Neighbours</th>\n",
              "      <th>SVM</th>\n",
              "      <th>Neural Network</th>\n",
              "    </tr>\n",
              "  </thead>\n",
              "  <tbody>\n",
              "    <tr>\n",
              "      <th>MAE</th>\n",
              "      <td>196.125948</td>\n",
              "      <td>147.758983</td>\n",
              "      <td>111.028410</td>\n",
              "      <td>81.349299</td>\n",
              "      <td>102.491935</td>\n",
              "      <td>85.880218</td>\n",
              "      <td>268.570950</td>\n",
              "      <td>160.283509</td>\n",
              "      <td>207.888894</td>\n",
              "      <td>192.636032</td>\n",
              "    </tr>\n",
              "    <tr>\n",
              "      <th>MSE</th>\n",
              "      <td>74436.385568</td>\n",
              "      <td>44743.486958</td>\n",
              "      <td>33095.194391</td>\n",
              "      <td>16234.916664</td>\n",
              "      <td>27770.130451</td>\n",
              "      <td>19228.202667</td>\n",
              "      <td>105836.204514</td>\n",
              "      <td>49296.450850</td>\n",
              "      <td>103041.434942</td>\n",
              "      <td>192.636032</td>\n",
              "    </tr>\n",
              "    <tr>\n",
              "      <th>RMSE</th>\n",
              "      <td>272.830324</td>\n",
              "      <td>211.526563</td>\n",
              "      <td>181.920846</td>\n",
              "      <td>127.416312</td>\n",
              "      <td>166.643723</td>\n",
              "      <td>138.665795</td>\n",
              "      <td>325.324768</td>\n",
              "      <td>222.028041</td>\n",
              "      <td>321.000677</td>\n",
              "      <td>287.017548</td>\n",
              "    </tr>\n",
              "    <tr>\n",
              "      <th>R^2</th>\n",
              "      <td>0.813417</td>\n",
              "      <td>0.887846</td>\n",
              "      <td>0.917043</td>\n",
              "      <td>0.959305</td>\n",
              "      <td>0.930391</td>\n",
              "      <td>0.951802</td>\n",
              "      <td>0.734710</td>\n",
              "      <td>0.876433</td>\n",
              "      <td>0.741716</td>\n",
              "      <td>0.793508</td>\n",
              "    </tr>\n",
              "  </tbody>\n",
              "</table>\n",
              "</div>\n",
              "      <button class=\"colab-df-convert\" onclick=\"convertToInteractive('df-274c064f-3935-483c-9fc8-509aa4cb7a57')\"\n",
              "              title=\"Convert this dataframe to an interactive table.\"\n",
              "              style=\"display:none;\">\n",
              "        \n",
              "  <svg xmlns=\"http://www.w3.org/2000/svg\" height=\"24px\"viewBox=\"0 0 24 24\"\n",
              "       width=\"24px\">\n",
              "    <path d=\"M0 0h24v24H0V0z\" fill=\"none\"/>\n",
              "    <path d=\"M18.56 5.44l.94 2.06.94-2.06 2.06-.94-2.06-.94-.94-2.06-.94 2.06-2.06.94zm-11 1L8.5 8.5l.94-2.06 2.06-.94-2.06-.94L8.5 2.5l-.94 2.06-2.06.94zm10 10l.94 2.06.94-2.06 2.06-.94-2.06-.94-.94-2.06-.94 2.06-2.06.94z\"/><path d=\"M17.41 7.96l-1.37-1.37c-.4-.4-.92-.59-1.43-.59-.52 0-1.04.2-1.43.59L10.3 9.45l-7.72 7.72c-.78.78-.78 2.05 0 2.83L4 21.41c.39.39.9.59 1.41.59.51 0 1.02-.2 1.41-.59l7.78-7.78 2.81-2.81c.8-.78.8-2.07 0-2.86zM5.41 20L4 18.59l7.72-7.72 1.47 1.35L5.41 20z\"/>\n",
              "  </svg>\n",
              "      </button>\n",
              "      \n",
              "  <style>\n",
              "    .colab-df-container {\n",
              "      display:flex;\n",
              "      flex-wrap:wrap;\n",
              "      gap: 12px;\n",
              "    }\n",
              "\n",
              "    .colab-df-convert {\n",
              "      background-color: #E8F0FE;\n",
              "      border: none;\n",
              "      border-radius: 50%;\n",
              "      cursor: pointer;\n",
              "      display: none;\n",
              "      fill: #1967D2;\n",
              "      height: 32px;\n",
              "      padding: 0 0 0 0;\n",
              "      width: 32px;\n",
              "    }\n",
              "\n",
              "    .colab-df-convert:hover {\n",
              "      background-color: #E2EBFA;\n",
              "      box-shadow: 0px 1px 2px rgba(60, 64, 67, 0.3), 0px 1px 3px 1px rgba(60, 64, 67, 0.15);\n",
              "      fill: #174EA6;\n",
              "    }\n",
              "\n",
              "    [theme=dark] .colab-df-convert {\n",
              "      background-color: #3B4455;\n",
              "      fill: #D2E3FC;\n",
              "    }\n",
              "\n",
              "    [theme=dark] .colab-df-convert:hover {\n",
              "      background-color: #434B5C;\n",
              "      box-shadow: 0px 1px 3px 1px rgba(0, 0, 0, 0.15);\n",
              "      filter: drop-shadow(0px 1px 2px rgba(0, 0, 0, 0.3));\n",
              "      fill: #FFFFFF;\n",
              "    }\n",
              "  </style>\n",
              "\n",
              "      <script>\n",
              "        const buttonEl =\n",
              "          document.querySelector('#df-274c064f-3935-483c-9fc8-509aa4cb7a57 button.colab-df-convert');\n",
              "        buttonEl.style.display =\n",
              "          google.colab.kernel.accessAllowed ? 'block' : 'none';\n",
              "\n",
              "        async function convertToInteractive(key) {\n",
              "          const element = document.querySelector('#df-274c064f-3935-483c-9fc8-509aa4cb7a57');\n",
              "          const dataTable =\n",
              "            await google.colab.kernel.invokeFunction('convertToInteractive',\n",
              "                                                     [key], {});\n",
              "          if (!dataTable) return;\n",
              "\n",
              "          const docLinkHtml = 'Like what you see? Visit the ' +\n",
              "            '<a target=\"_blank\" href=https://colab.research.google.com/notebooks/data_table.ipynb>data table notebook</a>'\n",
              "            + ' to learn more about interactive tables.';\n",
              "          element.innerHTML = '';\n",
              "          dataTable['output_type'] = 'display_data';\n",
              "          await google.colab.output.renderOutput(dataTable, element);\n",
              "          const docLink = document.createElement('div');\n",
              "          docLink.innerHTML = docLinkHtml;\n",
              "          element.appendChild(docLink);\n",
              "        }\n",
              "      </script>\n",
              "    </div>\n",
              "  </div>\n",
              "  "
            ]
          },
          "metadata": {},
          "execution_count": 81
        }
      ],
      "source": [
        "data = {'Linear regression' : [mae_lr,msle_lr,rmsle_lr,r2_lr],\n",
        "       'Decision Tree Regressor': [mae_dt,msle_dt,rmsle_dt,r2_dt],\n",
        "       'Random Forest Regressor': [mae_rf,msle_rf,rmsle_rf,r2_rf],\n",
        "       'XGBRegressor': [mae_xgb,msle_xgb,rmsle_xgb,r2_xgb],\n",
        "        'Bagging':[maebg,msebg,rmsebg,r2bg],\n",
        "       'Gradient Boosting Regressor': [mae_gbr,msle_gbr,rmsle_gbr,r2_gbr],\n",
        "        'Ada Boost Regressor': [mae_ab,msle_ab,rmsle_ab,r2_ab],\n",
        "        'K-Nearest Neighbours':[mae_knn,msle_knn,rmsle_knn,r2_knn],\n",
        "        'SVM' : [mae_svm,msle_svm,rmsle_svm,r2_svm],\n",
        "        'Neural Network':[nn[3],nn[1],nn[2],r2nn]}\n",
        "\n",
        "eval_metrics = pd.DataFrame(data, index=['MAE','MSE','RMSE','R^2'])\n",
        "\n",
        "eval_metrics"
      ]
    },
    {
      "cell_type": "code",
      "execution_count": null,
      "metadata": {
        "id": "_pbxDWTkcU8A"
      },
      "outputs": [],
      "source": [
        "import tensorflow as tf\n",
        "\n",
        "from tensorflow.keras.models import Sequential\n",
        "from tensorflow.keras.layers import Dense, Conv1D, MaxPooling1D, Flatten\n",
        "from sklearn.metrics import mean_absolute_error, mean_squared_error, r2_score"
      ]
    },
    {
      "cell_type": "code",
      "execution_count": null,
      "metadata": {
        "id": "aSZTyKv8cr4m",
        "colab": {
          "base_uri": "https://localhost:8080/"
        },
        "outputId": "a847cc4b-d66b-4a74-db69-b81fe01b4b11"
      },
      "outputs": [
        {
          "output_type": "stream",
          "name": "stdout",
          "text": [
            "13/13 [==============================] - 0s 2ms/step\n",
            "Mean Absolute Error: 58.90\n",
            "Mean Squared Error: 15415.68\n",
            "Root Mean Squared Error: 124.16\n",
            "R-squared score: 0.96\n"
          ]
        }
      ],
      "source": [
        "# create a CNN regression model\n",
        "model = Sequential()\n",
        "model.add(Conv1D(filters=64, kernel_size=1, activation='relu', input_shape=(x_train.shape[1], 1)))\n",
        "model.add(MaxPooling1D(pool_size=1))\n",
        "model.add(Flatten())\n",
        "model.add(Dense(50, activation='relu'))\n",
        "model.add(Dense(1))\n",
        "\n",
        "# compile the model\n",
        "model.compile(loss='mse', optimizer='adam')\n",
        "\n",
        "# fit the model to the training data\n",
        "model.fit(x_train, y_train, epochs=500, batch_size=32, verbose=0)\n",
        "\n",
        "# make predictions on the testing data\n",
        "y_pred = model.predict(x_test)\n",
        "\n",
        "# evaluate the performance of the model using various metrics\n",
        "mae = mean_absolute_error(y_test, y_pred)\n",
        "mse = mean_squared_error(y_test, y_pred)\n",
        "rmse = mean_squared_error(y_test, y_pred, squared=False)\n",
        "r2 = r2_score(y_test, y_pred)\n",
        "\n",
        "\n",
        "print(\"Mean Absolute Error: {:.2f}\".format(mae))\n",
        "print(\"Mean Squared Error: {:.2f}\".format(mse))\n",
        "print(\"Root Mean Squared Error: {:.2f}\".format(rmse))\n",
        "print(\"R-squared score: {:.2f}\".format(r2))\n"
      ]
    },
    {
      "cell_type": "code",
      "execution_count": null,
      "metadata": {
        "id": "uondF0oDR-KZ",
        "colab": {
          "base_uri": "https://localhost:8080/"
        },
        "outputId": "40de30c0-f96b-404d-c170-2f6fda6f7c6e"
      },
      "outputs": [
        {
          "output_type": "stream",
          "name": "stdout",
          "text": [
            "[[2023, 90, 50, 1, 0, 0, 0, 0, 0, 0, 0, 1, 0, 0, 0]] [1557.2341]\n"
          ]
        }
      ],
      "source": [
        "#predictions\n",
        "regressor =XGBRegressor( \n",
        "                           n_estimators=1000,\n",
        "                           learning_rate=0.1,\n",
        "                           random_state=365)\n",
        "# fit model\n",
        "regressor.fit(x_train, y_train)\n",
        "# define input\n",
        "new_input = [[2023,90,50,1,0,0,0,0,0,0,0,1,0,0,0]]\n",
        "# get prediction for new input\n",
        "new_output = regressor.predict(new_input)\n",
        "# summarize input and output\n",
        "print(new_input, new_output)"
      ]
    },
    {
      "cell_type": "code",
      "execution_count": null,
      "metadata": {
        "id": "R-SyPVzVXPFi",
        "colab": {
          "base_uri": "https://localhost:8080/",
          "height": 235
        },
        "outputId": "1b366967-d297-441f-8f72-8086ad79e215"
      },
      "outputs": [
        {
          "output_type": "error",
          "ename": "NameError",
          "evalue": "ignored",
          "traceback": [
            "\u001b[0;31m---------------------------------------------------------------------------\u001b[0m",
            "\u001b[0;31mNameError\u001b[0m                                 Traceback (most recent call last)",
            "\u001b[0;32m<ipython-input-85-a845f83336b8>\u001b[0m in \u001b[0;36m<cell line: 6>\u001b[0;34m()\u001b[0m\n\u001b[1;32m      4\u001b[0m \u001b[0;31m# create the inputs and outputs\u001b[0m\u001b[0;34m\u001b[0m\u001b[0;34m\u001b[0m\u001b[0m\n\u001b[1;32m      5\u001b[0m \u001b[0;32mfrom\u001b[0m \u001b[0msklearn\u001b[0m\u001b[0;34m.\u001b[0m\u001b[0mmodel_selection\u001b[0m \u001b[0;32mimport\u001b[0m \u001b[0mtrain_test_split\u001b[0m\u001b[0;34m\u001b[0m\u001b[0;34m\u001b[0m\u001b[0m\n\u001b[0;32m----> 6\u001b[0;31m \u001b[0mX_train\u001b[0m\u001b[0;34m,\u001b[0m \u001b[0mX_test\u001b[0m\u001b[0;34m,\u001b[0m \u001b[0my_train\u001b[0m\u001b[0;34m,\u001b[0m \u001b[0my_test\u001b[0m \u001b[0;34m=\u001b[0m \u001b[0mtrain_test_split\u001b[0m\u001b[0;34m(\u001b[0m\u001b[0mX\u001b[0m\u001b[0;34m,\u001b[0m \u001b[0my\u001b[0m\u001b[0;34m,\u001b[0m \u001b[0mtest_size\u001b[0m \u001b[0;34m=\u001b[0m \u001b[0;36m0.2\u001b[0m\u001b[0;34m,\u001b[0m \u001b[0mrandom_state\u001b[0m \u001b[0;34m=\u001b[0m \u001b[0;36m2509\u001b[0m\u001b[0;34m)\u001b[0m\u001b[0;34m\u001b[0m\u001b[0;34m\u001b[0m\u001b[0m\n\u001b[0m\u001b[1;32m      7\u001b[0m \u001b[0;31m# define model\u001b[0m\u001b[0;34m\u001b[0m\u001b[0;34m\u001b[0m\u001b[0m\n\u001b[1;32m      8\u001b[0m \u001b[0;32mfrom\u001b[0m \u001b[0msklearn\u001b[0m\u001b[0;34m.\u001b[0m\u001b[0mlinear_model\u001b[0m \u001b[0;32mimport\u001b[0m \u001b[0mLinearRegression\u001b[0m\u001b[0;34m\u001b[0m\u001b[0;34m\u001b[0m\u001b[0m\n",
            "\u001b[0;31mNameError\u001b[0m: name 'X' is not defined"
          ]
        }
      ],
      "source": [
        "# make a single prediction with the model\n",
        "from sklearn.linear_model import LogisticRegression\n",
        "from sklearn.datasets import make_blobs\n",
        "# create the inputs and outputs\n",
        "from sklearn.model_selection import train_test_split\n",
        "X_train, X_test, y_train, y_test = train_test_split(X, y, test_size = 0.2, random_state = 2509)\n",
        "# define model\n",
        "from sklearn.linear_model import LinearRegression\n",
        "regressor = AdaBoostRegressor( \n",
        "                           n_estimators=1000,\n",
        "                           learning_rate=0.1,\n",
        "                           random_state=0)\n",
        "# fit model\n",
        "regressor.fit(X_train, y_train)\n",
        "# define input\n",
        "new_input = [[86877861,28959287,1007243596,335747865.3]]\n",
        "# get prediction for new input\n",
        "new_output = regressor.predict(new_input)\n",
        "# summarize input and output\n",
        "print(new_input, new_output)"
      ]
    },
    {
      "cell_type": "code",
      "execution_count": null,
      "metadata": {
        "id": "CasA2IPQ18tt"
      },
      "outputs": [],
      "source": [
        "#from sklearn.model_selection import ShuffleSplit\n",
        "#from sklearn.model_selection import GridSearchCV\n",
        "#def find_best_model_using_gridsearchcv(x,y):\n",
        "    algos = {\n",
        "        'linear_regression' : {\n",
        "            'model': LinearRegression(),\n",
        "            'params': {\n",
        "            \n",
        "            }\n",
        "        },\n",
        "        'lasso': {\n",
        "            'model': linear_model.Lasso(),\n",
        "            'params': {\n",
        "                'alpha': [1,2],\n",
        "                'selection': ['random', 'cyclic']\n",
        "            }\n",
        "        },\n",
        "        'decision_tree': {\n",
        "            'model': DecisionTreeRegressor(),\n",
        "            'params': {\n",
        "                \"splitter\":[\"best\",\"random\"],\n",
        "                \"max_depth\" : [1,3,5,7,9,11,12],\n",
        "                \"min_samples_leaf\":[1,2,3,4,5,6,7,8,9,10],\n",
        "                \"min_weight_fraction_leaf\":[0.1,0.2,0.3,0.4,0.5,0.6,0.7,0.8,0.9],\n",
        "                \"max_features\":[\"auto\",\"log2\",\"sqrt\",None],\n",
        "                \"max_leaf_nodes\":[None,10,20,30,40,50,60,70,80,90]\n",
        "            }\n",
        "        },\n",
        "        'gbr':{\n",
        "              'model': GradientBoostingRegressor(),\n",
        "               'params': {\n",
        "                    'learning_rate': [0.01,0.02,0.03,0.04,0.5,0.6,0.7,0.8,0.9],\n",
        "                    'subsample'    : [0.9, 0.5, 0.2, 0.1,0.3,0.4,0.6,0.8,0.7],\n",
        "                    'n_estimators' : [100,500,1000,1500,2000,2500,3000,3500],\n",
        "                    'max_depth'    : [4,6,8,10]\n",
        "            }\n",
        "        },\n",
        "        \n",
        "        'xgb': {\n",
        "           'model': XGBRegressor(),\n",
        "           'params': {\n",
        "               'learning_rate': [0.01,0.02,0.03,0.04,0.5,0.6,0.7,0.8,0.9],\n",
        "               'n_estimators' : [100,500,1000,1500,2000,2500,3000,3500],\n",
        "               'max_depth'    : [4,6,8,10],\n",
        "               'gamma': [0.01,0.1]\n",
        "            }\n",
        "        },\n",
        "        'ada_boost': {\n",
        "            'model': AdaBoostRegressor(),\n",
        "            'params':{\n",
        "                'n_estimators' : [100,500,1000,1500,2000,2500,3000,3500],\n",
        "                'learning_rate': [0.01,0.02,0.03,0.04,0.5,0.6,0.7,0.8,0.9]\n",
        "            }\n",
        "        },\n",
        "       'bagging': {\n",
        "           'model': BaggingRegressor(),\n",
        "           'params':{\n",
        "               'n_estimators' : [100,500,1000,1500,2000,2500,3000,3500]\n",
        "           }\n",
        "       },\n",
        "        'random_forest': {\n",
        "            'model': RandomForestRegressor(),\n",
        "            'params':{\n",
        "                \"max_depth\" : [1,3,5,7,9,11,12],\n",
        "                \"min_samples_leaf\":[1,2,3,4,5,6,7,8,9,10],\n",
        "                \"min_weight_fraction_leaf\":[0.1,0.2,0.3,0.4,0.5,0.6,0.7,0.8,0.9],\n",
        "                \"max_features\":[\"auto\",\"log2\",\"sqrt\",None],\n",
        "                \"max_leaf_nodes\":[None,10,20,30,40,50,60,70,80,90]\n",
        "            }\n",
        "        }\n",
        "    }\n",
        "    scores = []\n",
        "    cv = ShuffleSplit(n_splits=5, test_size=0.2, random_state=0)\n",
        "    for algo_name, config in algos.items():\n",
        "        gs =  GridSearchCV(config['model'], config['params'], cv=cv, return_train_score=False)\n",
        "        gs.fit(x,y)\n",
        "        scores.append({\n",
        "            'model': algo_name,\n",
        "            'best_score': gs.best_score_,\n",
        "            'best_params': gs.best_params_\n",
        "        })\n",
        "\n",
        "    return pd.DataFrame(scores,columns=['model','best_score','best_params'])\n",
        "\n",
        "find_best_model_using_gridsearchcv(x,y)"
      ]
    }
  ],
  "metadata": {
    "colab": {
      "provenance": []
    },
    "kernelspec": {
      "display_name": "Python 3",
      "name": "python3"
    },
    "language_info": {
      "name": "python"
    }
  },
  "nbformat": 4,
  "nbformat_minor": 0
}