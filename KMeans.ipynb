{
 "cells": [
  {
   "cell_type": "code",
   "execution_count": 18,
   "id": "d1e9a9c0",
   "metadata": {},
   "outputs": [],
   "source": [
    "import matplotlib.pyplot as plt"
   ]
  },
  {
   "cell_type": "code",
   "execution_count": 19,
   "id": "e7a8a348",
   "metadata": {},
   "outputs": [],
   "source": [
    "from sklearn.cluster import KMeans"
   ]
  },
  {
   "cell_type": "code",
   "execution_count": 20,
   "id": "4a19dbb6",
   "metadata": {},
   "outputs": [],
   "source": [
    "x=[10,29,2,6,8,5,42,11,50,90]\n",
    "y=[23,44,32,12,14,56,89,54,67,99]"
   ]
  },
  {
   "cell_type": "code",
   "execution_count": 21,
   "id": "0320f941",
   "metadata": {},
   "outputs": [],
   "source": [
    "data=list(zip(x,y))"
   ]
  },
  {
   "cell_type": "code",
   "execution_count": 22,
   "id": "340cef60",
   "metadata": {},
   "outputs": [
    {
     "data": {
      "text/plain": [
       "[(10, 23),\n",
       " (29, 44),\n",
       " (2, 32),\n",
       " (6, 12),\n",
       " (8, 14),\n",
       " (5, 56),\n",
       " (42, 89),\n",
       " (11, 54),\n",
       " (50, 67),\n",
       " (90, 99)]"
      ]
     },
     "execution_count": 22,
     "metadata": {},
     "output_type": "execute_result"
    }
   ],
   "source": [
    "data"
   ]
  },
  {
   "cell_type": "code",
   "execution_count": 23,
   "id": "1ba28fa4",
   "metadata": {},
   "outputs": [],
   "source": [
    "inertias = []"
   ]
  },
  {
   "cell_type": "code",
   "execution_count": 29,
   "id": "853a9d35",
   "metadata": {},
   "outputs": [
    {
     "name": "stderr",
     "output_type": "stream",
     "text": [
      "C:\\Users\\ACER\\anaconda3\\lib\\site-packages\\sklearn\\cluster\\_kmeans.py:881: UserWarning: KMeans is known to have a memory leak on Windows with MKL, when there are less chunks than available threads. You can avoid it by setting the environment variable OMP_NUM_THREADS=1.\n",
      "  warnings.warn(\n"
     ]
    }
   ],
   "source": [
    "for i in range(1,11):\n",
    "    kmeans = KMeans(n_clusters=i)\n",
    "    kmeans.fit(data)\n",
    "    inertias.append(kmeans.inertia_)"
   ]
  },
  {
   "cell_type": "raw",
   "id": "42a93218",
   "metadata": {},
   "source": [
    "print(inertias)"
   ]
  },
  {
   "cell_type": "code",
   "execution_count": 28,
   "id": "45e1e784",
   "metadata": {},
   "outputs": [
    {
     "data": {
      "image/png": "[encoded data removed]",
      "text/plain": [
       "<Figure size 432x288 with 1 Axes>"
      ]
     },
     "metadata": {
      "needs_background": "light"
     },
     "output_type": "display_data"
    }
   ],
   "source": [
    "plt.plot(range(1,11),inertias,marker ='o')\n",
    "plt.title(\"Elbow Method\")\n",
    "plt.xlabel('Number of clusters')\n",
    "plt.ylabel('interia')\n",
    "plt.show()\n"
   ]
  },
  {
   "cell_type": "code",
   "execution_count": 32,
   "id": "f9c6e28c",
   "metadata": {},
   "outputs": [
    {
     "data": {
      "image/png": "[encoded data removed]",
      "text/plain": [
       "<Figure size 432x288 with 1 Axes>"
      ]
     },
     "metadata": {
      "needs_background": "light"
     },
     "output_type": "display_data"
    }
   ],
   "source": [
    "kmeans=KMeans(n_clusters=2)\n",
    "kmeans.fit(data)\n",
    "plt.scatter(x,y,c=kmeans.labels_)\n",
    "plt.show()"
   ]
  },
  {
   "cell_type": "code",
   "execution_count": 30,
   "id": "ea952aa9",
   "metadata": {},
   "outputs": [
    {
     "name": "stdout",
     "output_type": "stream",
     "text": [
      "[15236.1, 4321.238095238095, 2541.083333333334, 956.4166666666667, 581.75, 307.75, 96.5, 24.0, 4.0, 0.0, 15236.1, 4321.238095238095, 2541.083333333334, 956.4166666666667, 581.75, 307.75, 96.5, 24.0, 4.0, 0.0]\n"
     ]
    }
   ],
   "source": [
    "print(inertias)"
   ]
  },
  {
   "cell_type": "code",
   "execution_count": null,
   "id": "a6d82ef2",
   "metadata": {},
   "outputs": [],
   "source": []
  }
 ],
 "metadata": {
  "kernelspec": {
   "display_name": "Python 3 (ipykernel)",
   "language": "python",
   "name": "python3"
  },
  "language_info": {
   "codemirror_mode": {
    "name": "ipython",
    "version": 3
   },
   "file_extension": ".py",
   "mimetype": "text/x-python",
   "name": "python",
   "nbconvert_exporter": "python",
   "pygments_lexer": "ipython3",
   "version": "3.9.7"
  }
 },
 "nbformat": 4,
 "nbformat_minor": 5
}
